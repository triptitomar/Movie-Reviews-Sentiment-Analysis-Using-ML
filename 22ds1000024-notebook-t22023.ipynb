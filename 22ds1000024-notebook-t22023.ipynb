{
 "cells": [
  {
   "cell_type": "markdown",
   "id": "ba4e8423",
   "metadata": {
    "_cell_guid": "b1076dfc-b9ad-4769-8c92-a6c4dae69d19",
    "_uuid": "8f2839f25d086af736a60e9eeb907d3b93b6e0e5",
    "execution": {
     "iopub.execute_input": "2023-07-28T20:04:15.545506Z",
     "iopub.status.busy": "2023-07-28T20:04:15.544941Z",
     "iopub.status.idle": "2023-07-28T20:04:15.595308Z",
     "shell.execute_reply": "2023-07-28T20:04:15.593126Z",
     "shell.execute_reply.started": "2023-07-28T20:04:15.545461Z"
    },
    "papermill": {
     "duration": 0.038152,
     "end_time": "2023-09-04T14:22:30.466370",
     "exception": false,
     "start_time": "2023-09-04T14:22:30.428218",
     "status": "completed"
    },
    "tags": []
   },
   "source": [
    "<span style=\"color:\t#5642C5; font-size:30px\">**<u>Data Loading and Pre-processing</u>**</span>"
   ]
  },
  {
   "cell_type": "code",
   "execution_count": 1,
   "id": "64443438",
   "metadata": {
    "execution": {
     "iopub.execute_input": "2023-09-04T14:22:30.546143Z",
     "iopub.status.busy": "2023-09-04T14:22:30.545632Z",
     "iopub.status.idle": "2023-09-04T14:22:30.562571Z",
     "shell.execute_reply": "2023-09-04T14:22:30.560896Z"
    },
    "papermill": {
     "duration": 0.061117,
     "end_time": "2023-09-04T14:22:30.565267",
     "exception": false,
     "start_time": "2023-09-04T14:22:30.504150",
     "status": "completed"
    },
    "tags": []
   },
   "outputs": [
    {
     "name": "stdout",
     "output_type": "stream",
     "text": [
      "/kaggle/input/sentiment-prediction-on-movie-reviews/movies.csv\n",
      "/kaggle/input/sentiment-prediction-on-movie-reviews/sample.csv\n",
      "/kaggle/input/sentiment-prediction-on-movie-reviews/train.csv\n",
      "/kaggle/input/sentiment-prediction-on-movie-reviews/test.csv\n"
     ]
    }
   ],
   "source": [
    "# This Python 3 environment comes with many helpful analytics libraries installed\n",
    "# It is defined by the kaggle/python Docker image: https://github.com/kaggle/docker-python\n",
    "# For example, here's several helpful packages to load\n",
    "\n",
    "import numpy as np # linear algebra\n",
    "import pandas as pd # data processing, CSV file I/O (e.g. pd.read_csv)\n",
    "\n",
    "# Input data files are available in the read-only \"../input/\" directory\n",
    "# For example, running this (by clicking run or pressing Shift+Enter) will list all files under the input directory\n",
    "\n",
    "import os\n",
    "for dirname, _, filenames in os.walk('/kaggle/input'):\n",
    "    for filename in filenames:\n",
    "        print(os.path.join(dirname, filename))\n",
    "\n",
    "# You can write up to 20GB to the current directory (/kaggle/working/) that gets preserved as output when you create a version using \"Save & Run All\" \n",
    "# You can also write temporary files to /kaggle/temp/, but they won't be saved outside of the current session"
   ]
  },
  {
   "cell_type": "code",
   "execution_count": 2,
   "id": "601b26d3",
   "metadata": {
    "execution": {
     "iopub.execute_input": "2023-09-04T14:22:30.644380Z",
     "iopub.status.busy": "2023-09-04T14:22:30.643352Z",
     "iopub.status.idle": "2023-09-04T14:22:33.309086Z",
     "shell.execute_reply": "2023-09-04T14:22:33.307879Z"
    },
    "papermill": {
     "duration": 2.708469,
     "end_time": "2023-09-04T14:22:33.312304",
     "exception": false,
     "start_time": "2023-09-04T14:22:30.603835",
     "status": "completed"
    },
    "tags": []
   },
   "outputs": [],
   "source": [
    "movies=pd.read_csv(\"/kaggle/input/sentiment-prediction-on-movie-reviews/movies.csv\")\n",
    "train=pd.read_csv(\"/kaggle/input/sentiment-prediction-on-movie-reviews/train.csv\")\n",
    "test=pd.read_csv(\"/kaggle/input/sentiment-prediction-on-movie-reviews/test.csv\")\n",
    "sample=pd.read_csv(\"/kaggle/input/sentiment-prediction-on-movie-reviews/sample.csv\")"
   ]
  },
  {
   "cell_type": "markdown",
   "id": "92eb83f8",
   "metadata": {
    "papermill": {
     "duration": 0.038997,
     "end_time": "2023-09-04T14:22:33.391467",
     "exception": false,
     "start_time": "2023-09-04T14:22:33.352470",
     "status": "completed"
    },
    "tags": []
   },
   "source": [
    "# Data Overview"
   ]
  },
  {
   "cell_type": "code",
   "execution_count": 3,
   "id": "721f8c0f",
   "metadata": {
    "execution": {
     "iopub.execute_input": "2023-09-04T14:22:33.474030Z",
     "iopub.status.busy": "2023-09-04T14:22:33.473566Z",
     "iopub.status.idle": "2023-09-04T14:22:33.480710Z",
     "shell.execute_reply": "2023-09-04T14:22:33.479349Z"
    },
    "papermill": {
     "duration": 0.051202,
     "end_time": "2023-09-04T14:22:33.483895",
     "exception": false,
     "start_time": "2023-09-04T14:22:33.432693",
     "status": "completed"
    },
    "tags": []
   },
   "outputs": [
    {
     "name": "stdout",
     "output_type": "stream",
     "text": [
      "movies shape: (143258, 14)\n",
      "train shape: (162758, 5)\n",
      "test shape: (55315, 4)\n",
      "sample shape: (55315, 2)\n"
     ]
    }
   ],
   "source": [
    "# Print the shape of each DataFrame\n",
    "print(\"movies shape:\", movies.shape)\n",
    "print(\"train shape:\", train.shape)\n",
    "print(\"test shape:\", test.shape)\n",
    "print(\"sample shape:\", sample.shape)\n"
   ]
  },
  {
   "cell_type": "code",
   "execution_count": 4,
   "id": "246774af",
   "metadata": {
    "execution": {
     "iopub.execute_input": "2023-09-04T14:22:33.566648Z",
     "iopub.status.busy": "2023-09-04T14:22:33.566190Z",
     "iopub.status.idle": "2023-09-04T14:22:33.593661Z",
     "shell.execute_reply": "2023-09-04T14:22:33.592185Z"
    },
    "papermill": {
     "duration": 0.073743,
     "end_time": "2023-09-04T14:22:33.596517",
     "exception": false,
     "start_time": "2023-09-04T14:22:33.522774",
     "status": "completed"
    },
    "tags": []
   },
   "outputs": [
    {
     "data": {
      "text/html": [
       "<div>\n",
       "<style scoped>\n",
       "    .dataframe tbody tr th:only-of-type {\n",
       "        vertical-align: middle;\n",
       "    }\n",
       "\n",
       "    .dataframe tbody tr th {\n",
       "        vertical-align: top;\n",
       "    }\n",
       "\n",
       "    .dataframe thead th {\n",
       "        text-align: right;\n",
       "    }\n",
       "</style>\n",
       "<table border=\"1\" class=\"dataframe\">\n",
       "  <thead>\n",
       "    <tr style=\"text-align: right;\">\n",
       "      <th></th>\n",
       "      <th>movieid</th>\n",
       "      <th>reviewerName</th>\n",
       "      <th>isFrequentReviewer</th>\n",
       "      <th>reviewText</th>\n",
       "      <th>sentiment</th>\n",
       "    </tr>\n",
       "  </thead>\n",
       "  <tbody>\n",
       "    <tr>\n",
       "      <th>0</th>\n",
       "      <td>marvelous_pirate</td>\n",
       "      <td>Benjamin Henry</td>\n",
       "      <td>False</td>\n",
       "      <td>Henry Selick’s first movie since 2009’s Corali...</td>\n",
       "      <td>POSITIVE</td>\n",
       "    </tr>\n",
       "    <tr>\n",
       "      <th>1</th>\n",
       "      <td>tony_montana_frodo_baggins_v_rocky_balboa</td>\n",
       "      <td>Felicia Lopez</td>\n",
       "      <td>False</td>\n",
       "      <td>With a cast that reads like the Vogue Oscar pa...</td>\n",
       "      <td>NEGATIVE</td>\n",
       "    </tr>\n",
       "    <tr>\n",
       "      <th>2</th>\n",
       "      <td>darth_vader_katniss_everdeen_sorcerer_donnie_d...</td>\n",
       "      <td>Mr. Charles Burgess</td>\n",
       "      <td>True</td>\n",
       "      <td>Creed II does not give us anything but another...</td>\n",
       "      <td>POSITIVE</td>\n",
       "    </tr>\n",
       "    <tr>\n",
       "      <th>3</th>\n",
       "      <td>lara_croft_glimmer</td>\n",
       "      <td>Ryan Barrett</td>\n",
       "      <td>False</td>\n",
       "      <td>I know what you're thinking, but this is no Li...</td>\n",
       "      <td>POSITIVE</td>\n",
       "    </tr>\n",
       "    <tr>\n",
       "      <th>4</th>\n",
       "      <td>jason_bourne_surreal_the_terminator_indiana_jones</td>\n",
       "      <td>Alexander Glover</td>\n",
       "      <td>False</td>\n",
       "      <td>Director Fernando Meirelles tells the story wi...</td>\n",
       "      <td>POSITIVE</td>\n",
       "    </tr>\n",
       "  </tbody>\n",
       "</table>\n",
       "</div>"
      ],
      "text/plain": [
       "                                             movieid         reviewerName  \\\n",
       "0                                   marvelous_pirate       Benjamin Henry   \n",
       "1          tony_montana_frodo_baggins_v_rocky_balboa        Felicia Lopez   \n",
       "2  darth_vader_katniss_everdeen_sorcerer_donnie_d...  Mr. Charles Burgess   \n",
       "3                                 lara_croft_glimmer         Ryan Barrett   \n",
       "4  jason_bourne_surreal_the_terminator_indiana_jones     Alexander Glover   \n",
       "\n",
       "   isFrequentReviewer                                         reviewText  \\\n",
       "0               False  Henry Selick’s first movie since 2009’s Corali...   \n",
       "1               False  With a cast that reads like the Vogue Oscar pa...   \n",
       "2                True  Creed II does not give us anything but another...   \n",
       "3               False  I know what you're thinking, but this is no Li...   \n",
       "4               False  Director Fernando Meirelles tells the story wi...   \n",
       "\n",
       "  sentiment  \n",
       "0  POSITIVE  \n",
       "1  NEGATIVE  \n",
       "2  POSITIVE  \n",
       "3  POSITIVE  \n",
       "4  POSITIVE  "
      ]
     },
     "execution_count": 4,
     "metadata": {},
     "output_type": "execute_result"
    }
   ],
   "source": [
    "train.head()"
   ]
  },
  {
   "cell_type": "code",
   "execution_count": 5,
   "id": "d2cb5732",
   "metadata": {
    "execution": {
     "iopub.execute_input": "2023-09-04T14:22:33.675486Z",
     "iopub.status.busy": "2023-09-04T14:22:33.674976Z",
     "iopub.status.idle": "2023-09-04T14:22:33.689422Z",
     "shell.execute_reply": "2023-09-04T14:22:33.688140Z"
    },
    "papermill": {
     "duration": 0.056743,
     "end_time": "2023-09-04T14:22:33.691959",
     "exception": false,
     "start_time": "2023-09-04T14:22:33.635216",
     "status": "completed"
    },
    "tags": []
   },
   "outputs": [
    {
     "data": {
      "text/html": [
       "<div>\n",
       "<style scoped>\n",
       "    .dataframe tbody tr th:only-of-type {\n",
       "        vertical-align: middle;\n",
       "    }\n",
       "\n",
       "    .dataframe tbody tr th {\n",
       "        vertical-align: top;\n",
       "    }\n",
       "\n",
       "    .dataframe thead th {\n",
       "        text-align: right;\n",
       "    }\n",
       "</style>\n",
       "<table border=\"1\" class=\"dataframe\">\n",
       "  <thead>\n",
       "    <tr style=\"text-align: right;\">\n",
       "      <th></th>\n",
       "      <th>movieid</th>\n",
       "      <th>reviewerName</th>\n",
       "      <th>isTopCritic</th>\n",
       "      <th>reviewText</th>\n",
       "    </tr>\n",
       "  </thead>\n",
       "  <tbody>\n",
       "    <tr>\n",
       "      <th>0</th>\n",
       "      <td>legend_marty_mcfly_oracle</td>\n",
       "      <td>John Kim</td>\n",
       "      <td>False</td>\n",
       "      <td>Green slowly cranks up the dread with style an...</td>\n",
       "    </tr>\n",
       "    <tr>\n",
       "      <th>1</th>\n",
       "      <td>terminator_katniss_everdeen_glimmer</td>\n",
       "      <td>Brian Chaney</td>\n",
       "      <td>False</td>\n",
       "      <td>Philip Noyce's direction is elegant and unforc...</td>\n",
       "    </tr>\n",
       "    <tr>\n",
       "      <th>2</th>\n",
       "      <td>james_bond_labyrinth_gollum</td>\n",
       "      <td>Danielle Parker</td>\n",
       "      <td>False</td>\n",
       "      <td>It wouldn't do to say what path Maria ultimate...</td>\n",
       "    </tr>\n",
       "    <tr>\n",
       "      <th>3</th>\n",
       "      <td>v_quest_han_solo_wondrous</td>\n",
       "      <td>Brittany Lane</td>\n",
       "      <td>False</td>\n",
       "      <td>Pig is not exactly the arthouse John Wick that...</td>\n",
       "    </tr>\n",
       "    <tr>\n",
       "      <th>4</th>\n",
       "      <td>enigma_hulk_surreal_starlight</td>\n",
       "      <td>Justin Willis</td>\n",
       "      <td>False</td>\n",
       "      <td>An imaginative no-budget musical of sorts abou...</td>\n",
       "    </tr>\n",
       "  </tbody>\n",
       "</table>\n",
       "</div>"
      ],
      "text/plain": [
       "                               movieid     reviewerName  isTopCritic  \\\n",
       "0            legend_marty_mcfly_oracle         John Kim        False   \n",
       "1  terminator_katniss_everdeen_glimmer     Brian Chaney        False   \n",
       "2          james_bond_labyrinth_gollum  Danielle Parker        False   \n",
       "3            v_quest_han_solo_wondrous    Brittany Lane        False   \n",
       "4        enigma_hulk_surreal_starlight    Justin Willis        False   \n",
       "\n",
       "                                          reviewText  \n",
       "0  Green slowly cranks up the dread with style an...  \n",
       "1  Philip Noyce's direction is elegant and unforc...  \n",
       "2  It wouldn't do to say what path Maria ultimate...  \n",
       "3  Pig is not exactly the arthouse John Wick that...  \n",
       "4  An imaginative no-budget musical of sorts abou...  "
      ]
     },
     "execution_count": 5,
     "metadata": {},
     "output_type": "execute_result"
    }
   ],
   "source": [
    "test.head()"
   ]
  },
  {
   "cell_type": "code",
   "execution_count": 6,
   "id": "59d7d542",
   "metadata": {
    "execution": {
     "iopub.execute_input": "2023-09-04T14:22:33.771523Z",
     "iopub.status.busy": "2023-09-04T14:22:33.771022Z",
     "iopub.status.idle": "2023-09-04T14:22:33.808547Z",
     "shell.execute_reply": "2023-09-04T14:22:33.807307Z"
    },
    "papermill": {
     "duration": 0.081011,
     "end_time": "2023-09-04T14:22:33.811247",
     "exception": false,
     "start_time": "2023-09-04T14:22:33.730236",
     "status": "completed"
    },
    "tags": []
   },
   "outputs": [
    {
     "data": {
      "text/plain": [
       "POSITIVE    108761\n",
       "NEGATIVE     53997\n",
       "Name: sentiment, dtype: int64"
      ]
     },
     "execution_count": 6,
     "metadata": {},
     "output_type": "execute_result"
    }
   ],
   "source": [
    "train['sentiment'].value_counts()"
   ]
  },
  {
   "cell_type": "markdown",
   "id": "fd0717c0",
   "metadata": {
    "papermill": {
     "duration": 0.041556,
     "end_time": "2023-09-04T14:22:33.891047",
     "exception": false,
     "start_time": "2023-09-04T14:22:33.849491",
     "status": "completed"
    },
    "tags": []
   },
   "source": [
    "# Checking Null values"
   ]
  },
  {
   "cell_type": "code",
   "execution_count": 7,
   "id": "88da93d1",
   "metadata": {
    "execution": {
     "iopub.execute_input": "2023-09-04T14:22:33.973171Z",
     "iopub.status.busy": "2023-09-04T14:22:33.972651Z",
     "iopub.status.idle": "2023-09-04T14:22:34.204347Z",
     "shell.execute_reply": "2023-09-04T14:22:34.203079Z"
    },
    "papermill": {
     "duration": 0.276599,
     "end_time": "2023-09-04T14:22:34.207136",
     "exception": false,
     "start_time": "2023-09-04T14:22:33.930537",
     "status": "completed"
    },
    "tags": []
   },
   "outputs": [
    {
     "data": {
      "text/plain": [
       "movieid                  0\n",
       "reviewerName             0\n",
       "isFrequentReviewer       0\n",
       "reviewText            6447\n",
       "sentiment                0\n",
       "dtype: int64"
      ]
     },
     "execution_count": 7,
     "metadata": {},
     "output_type": "execute_result"
    }
   ],
   "source": [
    "#find the null values in train and test dataframes\n",
    "train.isna().sum()"
   ]
  },
  {
   "cell_type": "code",
   "execution_count": 8,
   "id": "e34a7772",
   "metadata": {
    "execution": {
     "iopub.execute_input": "2023-09-04T14:22:34.290174Z",
     "iopub.status.busy": "2023-09-04T14:22:34.289707Z",
     "iopub.status.idle": "2023-09-04T14:22:34.357987Z",
     "shell.execute_reply": "2023-09-04T14:22:34.356850Z"
    },
    "papermill": {
     "duration": 0.115684,
     "end_time": "2023-09-04T14:22:34.362239",
     "exception": false,
     "start_time": "2023-09-04T14:22:34.246555",
     "status": "completed"
    },
    "tags": []
   },
   "outputs": [
    {
     "data": {
      "text/plain": [
       "movieid            0\n",
       "reviewerName       0\n",
       "isTopCritic        0\n",
       "reviewText      2510\n",
       "dtype: int64"
      ]
     },
     "execution_count": 8,
     "metadata": {},
     "output_type": "execute_result"
    }
   ],
   "source": [
    "test.isna().sum()"
   ]
  },
  {
   "cell_type": "markdown",
   "id": "d0e7a686",
   "metadata": {
    "papermill": {
     "duration": 0.041869,
     "end_time": "2023-09-04T14:22:34.446879",
     "exception": false,
     "start_time": "2023-09-04T14:22:34.405010",
     "status": "completed"
    },
    "tags": []
   },
   "source": [
    "# Replaced Null Value with empty string"
   ]
  },
  {
   "cell_type": "code",
   "execution_count": 9,
   "id": "4f719978",
   "metadata": {
    "execution": {
     "iopub.execute_input": "2023-09-04T14:22:34.536956Z",
     "iopub.status.busy": "2023-09-04T14:22:34.536373Z",
     "iopub.status.idle": "2023-09-04T14:22:34.597658Z",
     "shell.execute_reply": "2023-09-04T14:22:34.595257Z"
    },
    "papermill": {
     "duration": 0.115877,
     "end_time": "2023-09-04T14:22:34.602976",
     "exception": false,
     "start_time": "2023-09-04T14:22:34.487099",
     "status": "completed"
    },
    "tags": []
   },
   "outputs": [],
   "source": [
    "# Fill null 'reviewText' values with an empty string in train and test dataframe\n",
    "train['reviewText'].fillna('', inplace=True)\n",
    "test['reviewText'].fillna('', inplace=True)"
   ]
  },
  {
   "cell_type": "markdown",
   "id": "9bd9c634",
   "metadata": {
    "papermill": {
     "duration": 0.037936,
     "end_time": "2023-09-04T14:22:34.680999",
     "exception": false,
     "start_time": "2023-09-04T14:22:34.643063",
     "status": "completed"
    },
    "tags": []
   },
   "source": [
    "# Movies Data Overview & Preprocessing"
   ]
  },
  {
   "cell_type": "code",
   "execution_count": 10,
   "id": "e04b81ff",
   "metadata": {
    "execution": {
     "iopub.execute_input": "2023-09-04T14:22:34.760172Z",
     "iopub.status.busy": "2023-09-04T14:22:34.759513Z",
     "iopub.status.idle": "2023-09-04T14:22:34.782193Z",
     "shell.execute_reply": "2023-09-04T14:22:34.780878Z"
    },
    "papermill": {
     "duration": 0.065011,
     "end_time": "2023-09-04T14:22:34.784572",
     "exception": false,
     "start_time": "2023-09-04T14:22:34.719561",
     "status": "completed"
    },
    "tags": []
   },
   "outputs": [
    {
     "data": {
      "text/html": [
       "<div>\n",
       "<style scoped>\n",
       "    .dataframe tbody tr th:only-of-type {\n",
       "        vertical-align: middle;\n",
       "    }\n",
       "\n",
       "    .dataframe tbody tr th {\n",
       "        vertical-align: top;\n",
       "    }\n",
       "\n",
       "    .dataframe thead th {\n",
       "        text-align: right;\n",
       "    }\n",
       "</style>\n",
       "<table border=\"1\" class=\"dataframe\">\n",
       "  <thead>\n",
       "    <tr style=\"text-align: right;\">\n",
       "      <th></th>\n",
       "      <th>movieid</th>\n",
       "      <th>title</th>\n",
       "      <th>audienceScore</th>\n",
       "      <th>rating</th>\n",
       "      <th>ratingContents</th>\n",
       "      <th>releaseDateTheaters</th>\n",
       "      <th>releaseDateStreaming</th>\n",
       "      <th>runtimeMinutes</th>\n",
       "      <th>genre</th>\n",
       "      <th>originalLanguage</th>\n",
       "      <th>director</th>\n",
       "      <th>boxOffice</th>\n",
       "      <th>distributor</th>\n",
       "      <th>soundType</th>\n",
       "    </tr>\n",
       "  </thead>\n",
       "  <tbody>\n",
       "    <tr>\n",
       "      <th>0</th>\n",
       "      <td>han_solo_heroic_myth_wonder_woman</td>\n",
       "      <td>Han Solo Heroic Myth Wonder Woman</td>\n",
       "      <td>50.0</td>\n",
       "      <td>NaN</td>\n",
       "      <td>NaN</td>\n",
       "      <td>NaN</td>\n",
       "      <td>2018-08-25</td>\n",
       "      <td>75.0</td>\n",
       "      <td>Comedy, Horror, Sci-fi</td>\n",
       "      <td>English</td>\n",
       "      <td>Claude Nicolet</td>\n",
       "      <td>NaN</td>\n",
       "      <td>NaN</td>\n",
       "      <td>NaN</td>\n",
       "    </tr>\n",
       "    <tr>\n",
       "      <th>1</th>\n",
       "      <td>voyage_tyler_durden_han_solo_stardust</td>\n",
       "      <td>Voyage Tyler Durden Han Solo Stardust</td>\n",
       "      <td>NaN</td>\n",
       "      <td>NaN</td>\n",
       "      <td>NaN</td>\n",
       "      <td>NaN</td>\n",
       "      <td>2020-02-11</td>\n",
       "      <td>114.0</td>\n",
       "      <td>Drama</td>\n",
       "      <td>English</td>\n",
       "      <td>Nathan Haack</td>\n",
       "      <td>NaN</td>\n",
       "      <td>NaN</td>\n",
       "      <td>NaN</td>\n",
       "    </tr>\n",
       "    <tr>\n",
       "      <th>2</th>\n",
       "      <td>norman_bates_ferris_bueller_hermione_granger_v...</td>\n",
       "      <td>Norman Bates Ferris Bueller Hermione Granger V...</td>\n",
       "      <td>43.0</td>\n",
       "      <td>NaN</td>\n",
       "      <td>NaN</td>\n",
       "      <td>NaN</td>\n",
       "      <td>NaN</td>\n",
       "      <td>120.0</td>\n",
       "      <td>Drama</td>\n",
       "      <td>Korean</td>\n",
       "      <td>Theresa Smith</td>\n",
       "      <td>NaN</td>\n",
       "      <td>NaN</td>\n",
       "      <td>NaN</td>\n",
       "    </tr>\n",
       "    <tr>\n",
       "      <th>3</th>\n",
       "      <td>elegant_hermione_granger</td>\n",
       "      <td>Elegant Hermione Granger</td>\n",
       "      <td>60.0</td>\n",
       "      <td>NaN</td>\n",
       "      <td>NaN</td>\n",
       "      <td>NaN</td>\n",
       "      <td>2020-10-23</td>\n",
       "      <td>90.0</td>\n",
       "      <td>Action, Mystery &amp; thriller</td>\n",
       "      <td>English</td>\n",
       "      <td>Donald Lewis</td>\n",
       "      <td>NaN</td>\n",
       "      <td>NaN</td>\n",
       "      <td>NaN</td>\n",
       "    </tr>\n",
       "    <tr>\n",
       "      <th>4</th>\n",
       "      <td>adventure_rocky_balboa</td>\n",
       "      <td>Adventure Rocky Balboa</td>\n",
       "      <td>70.0</td>\n",
       "      <td>NaN</td>\n",
       "      <td>NaN</td>\n",
       "      <td>NaN</td>\n",
       "      <td>2017-03-27</td>\n",
       "      <td>80.0</td>\n",
       "      <td>Fantasy, Adventure, Animation</td>\n",
       "      <td>English</td>\n",
       "      <td>Howard Simms</td>\n",
       "      <td>NaN</td>\n",
       "      <td>NaN</td>\n",
       "      <td>NaN</td>\n",
       "    </tr>\n",
       "  </tbody>\n",
       "</table>\n",
       "</div>"
      ],
      "text/plain": [
       "                                             movieid  \\\n",
       "0                  han_solo_heroic_myth_wonder_woman   \n",
       "1              voyage_tyler_durden_han_solo_stardust   \n",
       "2  norman_bates_ferris_bueller_hermione_granger_v...   \n",
       "3                           elegant_hermione_granger   \n",
       "4                             adventure_rocky_balboa   \n",
       "\n",
       "                                               title  audienceScore rating  \\\n",
       "0                  Han Solo Heroic Myth Wonder Woman           50.0    NaN   \n",
       "1              Voyage Tyler Durden Han Solo Stardust            NaN    NaN   \n",
       "2  Norman Bates Ferris Bueller Hermione Granger V...           43.0    NaN   \n",
       "3                           Elegant Hermione Granger           60.0    NaN   \n",
       "4                             Adventure Rocky Balboa           70.0    NaN   \n",
       "\n",
       "  ratingContents releaseDateTheaters releaseDateStreaming  runtimeMinutes  \\\n",
       "0            NaN                 NaN           2018-08-25            75.0   \n",
       "1            NaN                 NaN           2020-02-11           114.0   \n",
       "2            NaN                 NaN                  NaN           120.0   \n",
       "3            NaN                 NaN           2020-10-23            90.0   \n",
       "4            NaN                 NaN           2017-03-27            80.0   \n",
       "\n",
       "                           genre originalLanguage        director boxOffice  \\\n",
       "0         Comedy, Horror, Sci-fi          English  Claude Nicolet       NaN   \n",
       "1                          Drama          English    Nathan Haack       NaN   \n",
       "2                          Drama           Korean   Theresa Smith       NaN   \n",
       "3     Action, Mystery & thriller          English    Donald Lewis       NaN   \n",
       "4  Fantasy, Adventure, Animation          English    Howard Simms       NaN   \n",
       "\n",
       "  distributor soundType  \n",
       "0         NaN       NaN  \n",
       "1         NaN       NaN  \n",
       "2         NaN       NaN  \n",
       "3         NaN       NaN  \n",
       "4         NaN       NaN  "
      ]
     },
     "execution_count": 10,
     "metadata": {},
     "output_type": "execute_result"
    }
   ],
   "source": [
    "movies.head()"
   ]
  },
  {
   "cell_type": "code",
   "execution_count": 11,
   "id": "047d3677",
   "metadata": {
    "execution": {
     "iopub.execute_input": "2023-09-04T14:22:34.866294Z",
     "iopub.status.busy": "2023-09-04T14:22:34.865383Z",
     "iopub.status.idle": "2023-09-04T14:22:35.382259Z",
     "shell.execute_reply": "2023-09-04T14:22:35.380983Z"
    },
    "papermill": {
     "duration": 0.560212,
     "end_time": "2023-09-04T14:22:35.385057",
     "exception": false,
     "start_time": "2023-09-04T14:22:34.824845",
     "status": "completed"
    },
    "tags": []
   },
   "outputs": [
    {
     "data": {
      "text/plain": [
       "movieid                      0\n",
       "title                        0\n",
       "audienceScore            70010\n",
       "rating                  129267\n",
       "ratingContents          129267\n",
       "releaseDateTheaters     112485\n",
       "releaseDateStreaming     63838\n",
       "runtimeMinutes           13827\n",
       "genre                    11083\n",
       "originalLanguage         13858\n",
       "director                     0\n",
       "boxOffice               128515\n",
       "distributor             120253\n",
       "soundType               127341\n",
       "dtype: int64"
      ]
     },
     "execution_count": 11,
     "metadata": {},
     "output_type": "execute_result"
    }
   ],
   "source": [
    "#find the null values in movies dataframe\n",
    "movies.isna().sum()"
   ]
  },
  {
   "cell_type": "code",
   "execution_count": 12,
   "id": "c4b04278",
   "metadata": {
    "execution": {
     "iopub.execute_input": "2023-09-04T14:22:35.469239Z",
     "iopub.status.busy": "2023-09-04T14:22:35.468378Z",
     "iopub.status.idle": "2023-09-04T14:22:40.414669Z",
     "shell.execute_reply": "2023-09-04T14:22:40.413108Z"
    },
    "papermill": {
     "duration": 4.99328,
     "end_time": "2023-09-04T14:22:40.417561",
     "exception": false,
     "start_time": "2023-09-04T14:22:35.424281",
     "status": "completed"
    },
    "tags": []
   },
   "outputs": [
    {
     "name": "stderr",
     "output_type": "stream",
     "text": [
      "/opt/conda/lib/python3.10/site-packages/scipy/__init__.py:146: UserWarning: A NumPy version >=1.16.5 and <1.23.0 is required for this version of SciPy (detected version 1.23.5\n",
      "  warnings.warn(f\"A NumPy version >={np_minversion} and <{np_maxversion}\"\n"
     ]
    },
    {
     "data": {
      "image/png": "[encoded data removed]",
      "text/plain": [
       "<Figure size 1000x800 with 2 Axes>"
      ]
     },
     "metadata": {},
     "output_type": "display_data"
    }
   ],
   "source": [
    "import seaborn as sns\n",
    "import matplotlib.pyplot as plt\n",
    "\n",
    "# Assuming 'movies' is your DataFrame\n",
    "plt.figure(figsize=(10, 8))\n",
    "sns.heatmap(movies.isna(), cmap='Reds')\n",
    "plt.title('Missing Values Heatmap')\n",
    "plt.show()"
   ]
  },
  {
   "cell_type": "markdown",
   "id": "5f8a25c2",
   "metadata": {
    "papermill": {
     "duration": 0.044304,
     "end_time": "2023-09-04T14:22:40.504377",
     "exception": false,
     "start_time": "2023-09-04T14:22:40.460073",
     "status": "completed"
    },
    "tags": []
   },
   "source": [
    "**We can notice that the data contains a significant amount of null values.**"
   ]
  },
  {
   "cell_type": "markdown",
   "id": "0b3334cb",
   "metadata": {
    "papermill": {
     "duration": 0.042172,
     "end_time": "2023-09-04T14:22:40.591400",
     "exception": false,
     "start_time": "2023-09-04T14:22:40.549228",
     "status": "completed"
    },
    "tags": []
   },
   "source": [
    "# moviesid duplicate data\n",
    "<div style=\"color:white;\n",
    "           display:fill;\n",
    "           border-radius:5px;\n",
    "           background-color:#5642C5;\n",
    "           font-size:110%;\n",
    "           font-family:Verdana;\n",
    "           letter-spacing:0.5px\">\n",
    "\n",
    "<p style=\"padding: 10px;\n",
    "              color:white;\">Another thing to note, the moviesid has duplicate movieid entries. We should have only one unique entry for a particular movieid."
   ]
  },
  {
   "cell_type": "code",
   "execution_count": 13,
   "id": "40e50822",
   "metadata": {
    "execution": {
     "iopub.execute_input": "2023-09-04T14:22:40.678615Z",
     "iopub.status.busy": "2023-09-04T14:22:40.677834Z",
     "iopub.status.idle": "2023-09-04T14:22:40.905662Z",
     "shell.execute_reply": "2023-09-04T14:22:40.903872Z"
    },
    "papermill": {
     "duration": 0.27707,
     "end_time": "2023-09-04T14:22:40.910670",
     "exception": false,
     "start_time": "2023-09-04T14:22:40.633600",
     "status": "completed"
    },
    "tags": []
   },
   "outputs": [
    {
     "data": {
      "image/png": "[encoded data removed]",
      "text/plain": [
       "<Figure size 640x480 with 1 Axes>"
      ]
     },
     "metadata": {},
     "output_type": "display_data"
    }
   ],
   "source": [
    "# Calculate the number of unique movieid entries\n",
    "num_unique_movieid = len(movies['movieid'].unique())\n",
    "\n",
    "# Calculate the number of duplicate entries\n",
    "num_duplicate_entries = movies.shape[0] - num_unique_movieid\n",
    "\n",
    "# Create a pie chart\n",
    "labels = ['Unique Entries', 'Duplicate Entries']\n",
    "sizes = [num_unique_movieid, num_duplicate_entries]\n",
    "colors = ['lightblue', 'orange']\n",
    "explode = (0.1, 0)  # explode the 1st slice (Unique Entries)\n",
    "\n",
    "plt.pie(sizes, explode=explode, labels=labels, colors=colors, autopct='%1.1f%%', shadow=True, startangle=140)\n",
    "plt.axis('equal')  # Equal aspect ratio ensures that pie is drawn as a circle.\n",
    "plt.title('Ratio of Unique and Duplicate Entries')\n",
    "plt.show()\n"
   ]
  },
  {
   "cell_type": "code",
   "execution_count": 14,
   "id": "c12c42b6",
   "metadata": {
    "execution": {
     "iopub.execute_input": "2023-09-04T14:22:41.035058Z",
     "iopub.status.busy": "2023-09-04T14:22:41.034324Z",
     "iopub.status.idle": "2023-09-04T14:22:41.089074Z",
     "shell.execute_reply": "2023-09-04T14:22:41.087811Z"
    },
    "papermill": {
     "duration": 0.104206,
     "end_time": "2023-09-04T14:22:41.092355",
     "exception": false,
     "start_time": "2023-09-04T14:22:40.988149",
     "status": "completed"
    },
    "tags": []
   },
   "outputs": [],
   "source": [
    "# removing all the duplicates in 'movieid' \n",
    "movies_unique = movies.drop_duplicates(subset='movieid', keep='first')\n",
    "movies = movies_unique"
   ]
  },
  {
   "cell_type": "markdown",
   "id": "3e11c60d",
   "metadata": {
    "papermill": {
     "duration": 0.042726,
     "end_time": "2023-09-04T14:22:41.180642",
     "exception": false,
     "start_time": "2023-09-04T14:22:41.137916",
     "status": "completed"
    },
    "tags": []
   },
   "source": [
    "# Handling Other Columns\n"
   ]
  },
  {
   "cell_type": "code",
   "execution_count": 15,
   "id": "3307d783",
   "metadata": {
    "execution": {
     "iopub.execute_input": "2023-09-04T14:22:41.271597Z",
     "iopub.status.busy": "2023-09-04T14:22:41.271181Z",
     "iopub.status.idle": "2023-09-04T14:22:42.109513Z",
     "shell.execute_reply": "2023-09-04T14:22:42.108255Z"
    },
    "papermill": {
     "duration": 0.887571,
     "end_time": "2023-09-04T14:22:42.112129",
     "exception": false,
     "start_time": "2023-09-04T14:22:41.224558",
     "status": "completed"
    },
    "tags": []
   },
   "outputs": [
    {
     "data": {
      "image/png": "[encoded data removed]",
      "text/plain": [
       "<Figure size 1000x600 with 1 Axes>"
      ]
     },
     "metadata": {},
     "output_type": "display_data"
    }
   ],
   "source": [
    "import pandas as pd\n",
    "\n",
    "# Assuming 'movies' is your DataFrame\n",
    "null_percent = (movies.isnull().sum() / len(movies)) * 100\n",
    "null_percent = null_percent.sort_values(ascending=False)\n",
    "\n",
    "# Create a bar plot\n",
    "null_percent.plot(kind='bar', figsize=(10, 6))\n",
    "plt.title('Percentage of Null Values in Columns')\n",
    "plt.ylabel('Percentage')\n",
    "plt.xlabel('Columns')\n",
    "plt.show()"
   ]
  },
  {
   "cell_type": "markdown",
   "id": "d528d73b",
   "metadata": {
    "papermill": {
     "duration": 0.043548,
     "end_time": "2023-09-04T14:22:42.201812",
     "exception": false,
     "start_time": "2023-09-04T14:22:42.158264",
     "status": "completed"
    },
    "tags": []
   },
   "source": [
    "Column Retained\n",
    "\n",
    "* audienceScore(70010) : This can give us a meaningful information about the movie. Audience Score is a part of review. Null values are less compared to other columns\n",
    "\n",
    "Dropped Columns:\n",
    "\n",
    "* rating\n",
    "* ratingContents\n",
    "* releaseDateTheaters\n",
    "* releaseDateStreaming\n",
    "* runtimeMinutes\n",
    "* genre\n",
    "* originalLanguage\n",
    "* director\n",
    "* boxOffice\n",
    "* distributor\n",
    "* soundType\n",
    "\n",
    "However, few columns like director can be useful, for early model building we are skipping them."
   ]
  },
  {
   "cell_type": "code",
   "execution_count": 16,
   "id": "f5f80817",
   "metadata": {
    "execution": {
     "iopub.execute_input": "2023-09-04T14:22:42.293959Z",
     "iopub.status.busy": "2023-09-04T14:22:42.293264Z",
     "iopub.status.idle": "2023-09-04T14:22:42.301242Z",
     "shell.execute_reply": "2023-09-04T14:22:42.300382Z"
    },
    "papermill": {
     "duration": 0.05825,
     "end_time": "2023-09-04T14:22:42.304032",
     "exception": false,
     "start_time": "2023-09-04T14:22:42.245782",
     "status": "completed"
    },
    "tags": []
   },
   "outputs": [],
   "source": [
    "#filling the null values in audience_score column\n",
    "audience_score_mean = movies['audienceScore'].mean()\n",
    "movies['audienceScore'].fillna(audience_score_mean, inplace=True)"
   ]
  },
  {
   "cell_type": "code",
   "execution_count": 17,
   "id": "0c0b08c0",
   "metadata": {
    "execution": {
     "iopub.execute_input": "2023-09-04T14:22:42.395279Z",
     "iopub.status.busy": "2023-09-04T14:22:42.394662Z",
     "iopub.status.idle": "2023-09-04T14:22:42.412542Z",
     "shell.execute_reply": "2023-09-04T14:22:42.411414Z"
    },
    "papermill": {
     "duration": 0.066631,
     "end_time": "2023-09-04T14:22:42.415618",
     "exception": false,
     "start_time": "2023-09-04T14:22:42.348987",
     "status": "completed"
    },
    "tags": []
   },
   "outputs": [],
   "source": [
    "movies.drop(columns=['title','releaseDateStreaming','rating','runtimeMinutes','genre','ratingContents','releaseDateTheaters','boxOffice',\n",
    "                     'originalLanguage','distributor','soundType'], inplace=True)"
   ]
  },
  {
   "cell_type": "markdown",
   "id": "2d1e8c15",
   "metadata": {
    "papermill": {
     "duration": 0.045773,
     "end_time": "2023-09-04T14:22:42.505467",
     "exception": false,
     "start_time": "2023-09-04T14:22:42.459694",
     "status": "completed"
    },
    "tags": []
   },
   "source": [
    "# Merging Train & Test Data with Movies Data"
   ]
  },
  {
   "cell_type": "code",
   "execution_count": 18,
   "id": "cc833935",
   "metadata": {
    "execution": {
     "iopub.execute_input": "2023-09-04T14:22:42.592983Z",
     "iopub.status.busy": "2023-09-04T14:22:42.592515Z",
     "iopub.status.idle": "2023-09-04T14:22:42.772142Z",
     "shell.execute_reply": "2023-09-04T14:22:42.770877Z"
    },
    "papermill": {
     "duration": 0.22704,
     "end_time": "2023-09-04T14:22:42.775377",
     "exception": false,
     "start_time": "2023-09-04T14:22:42.548337",
     "status": "completed"
    },
    "tags": []
   },
   "outputs": [],
   "source": [
    "# Join movies and train DataFrames on the \"movieid\" column\n",
    "combined_movies_data = pd.merge(train, movies, on=\"movieid\")"
   ]
  },
  {
   "cell_type": "code",
   "execution_count": 19,
   "id": "b2f8b1b6",
   "metadata": {
    "execution": {
     "iopub.execute_input": "2023-09-04T14:22:42.865493Z",
     "iopub.status.busy": "2023-09-04T14:22:42.864657Z",
     "iopub.status.idle": "2023-09-04T14:22:42.969832Z",
     "shell.execute_reply": "2023-09-04T14:22:42.968691Z"
    },
    "papermill": {
     "duration": 0.152234,
     "end_time": "2023-09-04T14:22:42.972545",
     "exception": false,
     "start_time": "2023-09-04T14:22:42.820311",
     "status": "completed"
    },
    "tags": []
   },
   "outputs": [
    {
     "data": {
      "text/html": [
       "<div>\n",
       "<style scoped>\n",
       "    .dataframe tbody tr th:only-of-type {\n",
       "        vertical-align: middle;\n",
       "    }\n",
       "\n",
       "    .dataframe tbody tr th {\n",
       "        vertical-align: top;\n",
       "    }\n",
       "\n",
       "    .dataframe thead th {\n",
       "        text-align: right;\n",
       "    }\n",
       "</style>\n",
       "<table border=\"1\" class=\"dataframe\">\n",
       "  <thead>\n",
       "    <tr style=\"text-align: right;\">\n",
       "      <th></th>\n",
       "      <th>movieid</th>\n",
       "      <th>reviewerName</th>\n",
       "      <th>isTopCritic</th>\n",
       "      <th>reviewText</th>\n",
       "      <th>audienceScore</th>\n",
       "      <th>director</th>\n",
       "    </tr>\n",
       "  </thead>\n",
       "  <tbody>\n",
       "    <tr>\n",
       "      <th>0</th>\n",
       "      <td>legend_marty_mcfly_oracle</td>\n",
       "      <td>John Kim</td>\n",
       "      <td>False</td>\n",
       "      <td>Green slowly cranks up the dread with style an...</td>\n",
       "      <td>57.0</td>\n",
       "      <td>Sara Barnett</td>\n",
       "    </tr>\n",
       "    <tr>\n",
       "      <th>1</th>\n",
       "      <td>legend_marty_mcfly_oracle</td>\n",
       "      <td>Kathleen Poole</td>\n",
       "      <td>False</td>\n",
       "      <td>Considering this is the 13th Halloween movie&amp;#...</td>\n",
       "      <td>57.0</td>\n",
       "      <td>Sara Barnett</td>\n",
       "    </tr>\n",
       "  </tbody>\n",
       "</table>\n",
       "</div>"
      ],
      "text/plain": [
       "                     movieid    reviewerName  isTopCritic  \\\n",
       "0  legend_marty_mcfly_oracle        John Kim        False   \n",
       "1  legend_marty_mcfly_oracle  Kathleen Poole        False   \n",
       "\n",
       "                                          reviewText  audienceScore  \\\n",
       "0  Green slowly cranks up the dread with style an...           57.0   \n",
       "1  Considering this is the 13th Halloween movie&#...           57.0   \n",
       "\n",
       "       director  \n",
       "0  Sara Barnett  \n",
       "1  Sara Barnett  "
      ]
     },
     "execution_count": 19,
     "metadata": {},
     "output_type": "execute_result"
    }
   ],
   "source": [
    "# Join movies and test DataFrames on the \"movieid\" column\n",
    "combined_movies_test = pd.merge(test, movies, on=\"movieid\")\n",
    "combined_movies_test.head(2)"
   ]
  },
  {
   "cell_type": "code",
   "execution_count": 20,
   "id": "15106b68",
   "metadata": {
    "execution": {
     "iopub.execute_input": "2023-09-04T14:22:43.063260Z",
     "iopub.status.busy": "2023-09-04T14:22:43.062385Z",
     "iopub.status.idle": "2023-09-04T14:22:43.069337Z",
     "shell.execute_reply": "2023-09-04T14:22:43.068126Z"
    },
    "papermill": {
     "duration": 0.055117,
     "end_time": "2023-09-04T14:22:43.072054",
     "exception": false,
     "start_time": "2023-09-04T14:22:43.016937",
     "status": "completed"
    },
    "tags": []
   },
   "outputs": [
    {
     "data": {
      "text/plain": [
       "(55315, 6)"
      ]
     },
     "execution_count": 20,
     "metadata": {},
     "output_type": "execute_result"
    }
   ],
   "source": [
    "combined_movies_test.shape"
   ]
  },
  {
   "cell_type": "code",
   "execution_count": 21,
   "id": "51e3c8fd",
   "metadata": {
    "execution": {
     "iopub.execute_input": "2023-09-04T14:22:43.165060Z",
     "iopub.status.busy": "2023-09-04T14:22:43.164631Z",
     "iopub.status.idle": "2023-09-04T14:22:43.172453Z",
     "shell.execute_reply": "2023-09-04T14:22:43.171228Z"
    },
    "papermill": {
     "duration": 0.057473,
     "end_time": "2023-09-04T14:22:43.175238",
     "exception": false,
     "start_time": "2023-09-04T14:22:43.117765",
     "status": "completed"
    },
    "tags": []
   },
   "outputs": [
    {
     "data": {
      "text/plain": [
       "(162758, 7)"
      ]
     },
     "execution_count": 21,
     "metadata": {},
     "output_type": "execute_result"
    }
   ],
   "source": [
    "combined_movies_data.shape"
   ]
  },
  {
   "cell_type": "code",
   "execution_count": 22,
   "id": "894be834",
   "metadata": {
    "execution": {
     "iopub.execute_input": "2023-09-04T14:22:43.268635Z",
     "iopub.status.busy": "2023-09-04T14:22:43.267488Z",
     "iopub.status.idle": "2023-09-04T14:22:43.572616Z",
     "shell.execute_reply": "2023-09-04T14:22:43.571288Z"
    },
    "papermill": {
     "duration": 0.354324,
     "end_time": "2023-09-04T14:22:43.575670",
     "exception": false,
     "start_time": "2023-09-04T14:22:43.221346",
     "status": "completed"
    },
    "tags": []
   },
   "outputs": [
    {
     "name": "stdout",
     "output_type": "stream",
     "text": [
      "<class 'pandas.core.frame.DataFrame'>\n",
      "Int64Index: 162758 entries, 0 to 162757\n",
      "Data columns (total 7 columns):\n",
      " #   Column              Non-Null Count   Dtype  \n",
      "---  ------              --------------   -----  \n",
      " 0   movieid             162758 non-null  object \n",
      " 1   reviewerName        162758 non-null  object \n",
      " 2   isFrequentReviewer  162758 non-null  bool   \n",
      " 3   reviewText          162758 non-null  object \n",
      " 4   sentiment           162758 non-null  object \n",
      " 5   audienceScore       162758 non-null  float64\n",
      " 6   director            162758 non-null  object \n",
      "dtypes: bool(1), float64(1), object(5)\n",
      "memory usage: 8.8+ MB\n"
     ]
    }
   ],
   "source": [
    "combined_movies_data.info()"
   ]
  },
  {
   "cell_type": "markdown",
   "id": "e96e3eae",
   "metadata": {
    "papermill": {
     "duration": 0.044122,
     "end_time": "2023-09-04T14:22:43.665742",
     "exception": false,
     "start_time": "2023-09-04T14:22:43.621620",
     "status": "completed"
    },
    "tags": []
   },
   "source": [
    "# isTopCritic & isFrequentReviewer\n",
    "<div style=\"color:white;\n",
    "           display:fill;\n",
    "           border-radius:5px;\n",
    "           background-color:#5642C5;\n",
    "           font-size:110%;\n",
    "           font-family:Verdana;\n",
    "           letter-spacing:0.5px\">\n",
    "\n",
    "<p style=\"padding: 10px;\n",
    "              color:white;\">Train contains isFrequentReviewer & Test contains isTopCritic column.\n",
    "We should always keep same columns for both train and test data. However, the above both columns have almost same meaning in the sense that both depict that the user gives a lot of reviews and can have varying opinions but quality one.</p></div>"
   ]
  },
  {
   "cell_type": "code",
   "execution_count": 23,
   "id": "727b2ca5",
   "metadata": {
    "execution": {
     "iopub.execute_input": "2023-09-04T14:22:43.758268Z",
     "iopub.status.busy": "2023-09-04T14:22:43.757522Z",
     "iopub.status.idle": "2023-09-04T14:22:43.761599Z",
     "shell.execute_reply": "2023-09-04T14:22:43.760808Z"
    },
    "papermill": {
     "duration": 0.053109,
     "end_time": "2023-09-04T14:22:43.763663",
     "exception": false,
     "start_time": "2023-09-04T14:22:43.710554",
     "status": "completed"
    },
    "tags": []
   },
   "outputs": [],
   "source": [
    "#combined_movies_data.drop(columns='isFrequentReviewer', inplace=True)\n",
    "#combined_movies_test.drop(columns='isTopCritic', inplace=True)"
   ]
  },
  {
   "cell_type": "markdown",
   "id": "ff27dd58",
   "metadata": {
    "papermill": {
     "duration": 0.04489,
     "end_time": "2023-09-04T14:22:43.853909",
     "exception": false,
     "start_time": "2023-09-04T14:22:43.809019",
     "status": "completed"
    },
    "tags": []
   },
   "source": [
    "# Feature Extraction\n",
    "\n",
    "Let's try to extract a feature out of reviewText: reviewLength"
   ]
  },
  {
   "cell_type": "code",
   "execution_count": 24,
   "id": "1962d639",
   "metadata": {
    "execution": {
     "iopub.execute_input": "2023-09-04T14:22:43.942422Z",
     "iopub.status.busy": "2023-09-04T14:22:43.941954Z",
     "iopub.status.idle": "2023-09-04T14:22:44.489010Z",
     "shell.execute_reply": "2023-09-04T14:22:44.487562Z"
    },
    "papermill": {
     "duration": 0.595015,
     "end_time": "2023-09-04T14:22:44.492106",
     "exception": false,
     "start_time": "2023-09-04T14:22:43.897091",
     "status": "completed"
    },
    "tags": []
   },
   "outputs": [],
   "source": [
    "combined_movies_data['reviewLength'] = combined_movies_data['reviewText'].apply(lambda x: len(x.split()))\n",
    "combined_movies_test['reviewLength'] = combined_movies_test['reviewText'].apply(lambda x: len(x.split()))"
   ]
  },
  {
   "cell_type": "code",
   "execution_count": 25,
   "id": "539a2d64",
   "metadata": {
    "execution": {
     "iopub.execute_input": "2023-09-04T14:22:44.608898Z",
     "iopub.status.busy": "2023-09-04T14:22:44.608403Z",
     "iopub.status.idle": "2023-09-04T14:22:46.174575Z",
     "shell.execute_reply": "2023-09-04T14:22:46.173220Z"
    },
    "papermill": {
     "duration": 1.625028,
     "end_time": "2023-09-04T14:22:46.177740",
     "exception": false,
     "start_time": "2023-09-04T14:22:44.552712",
     "status": "completed"
    },
    "tags": []
   },
   "outputs": [
    {
     "name": "stdout",
     "output_type": "stream",
     "text": [
      "Length of shortest text =  0\n",
      "Length of Longest text =  54\n"
     ]
    },
    {
     "data": {
      "image/png": "[encoded data removed]",
      "text/plain": [
       "<Figure size 1600x800 with 2 Axes>"
      ]
     },
     "metadata": {},
     "output_type": "display_data"
    }
   ],
   "source": [
    "import matplotlib.pyplot as plt\n",
    "import seaborn as sns\n",
    "\n",
    "print(\"Length of shortest text = \", min(combined_movies_data['reviewLength']))\n",
    "print(\"Length of Longest text = \", max(combined_movies_data['reviewLength']))\n",
    "\n",
    "fig, (ax1, ax2) = plt.subplots(1, 2, figsize=(16, 8))\n",
    "\n",
    "# For Positive Review\n",
    "sns.histplot(data=combined_movies_data[combined_movies_data['sentiment'] == 'POSITIVE'], x='reviewLength', bins=int(200/25),\n",
    "             color='darkblue', ax=ax1, kde=True)\n",
    "ax1.set_title('Positive Reviews')\n",
    "ax1.set_xlabel('Text Length')\n",
    "ax1.set_ylabel('Density')\n",
    "\n",
    "# For Negative Review\n",
    "sns.histplot(data=combined_movies_data[combined_movies_data['sentiment'] == 'NEGATIVE'], x='reviewLength', bins=int(200/25),\n",
    "             color='red', ax=ax2, kde=True)\n",
    "ax2.set_title('Negative Reviews')\n",
    "ax2.set_xlabel('Text Length')\n",
    "ax2.set_ylabel('Density')\n",
    "\n",
    "plt.show()\n"
   ]
  },
  {
   "cell_type": "markdown",
   "id": "d95636a0",
   "metadata": {
    "papermill": {
     "duration": 0.045699,
     "end_time": "2023-09-04T14:22:46.269962",
     "exception": false,
     "start_time": "2023-09-04T14:22:46.224263",
     "status": "completed"
    },
    "tags": []
   },
   "source": [
    "# They are similar\n",
    "\n",
    "<div style=\"color:white;\n",
    "           display:fill;\n",
    "           border-radius:5px;\n",
    "           background-color:#5642C5;\n",
    "           font-size:110%;\n",
    "           font-family:Verdana;\n",
    "           letter-spacing:0.5px\">\n",
    "\n",
    "<p style=\"padding: 10px;\n",
    "              color:white;\">\n",
    "Both 1 & 0 classififed labels are distributed in an almost similar manner. Short, medium & Long reviews all are equally filled with both reviews. However postive labels have a higher peak around text length 150\n",
    "</p>\n",
    "</div>\n"
   ]
  },
  {
   "cell_type": "markdown",
   "id": "95994b83",
   "metadata": {
    "papermill": {
     "duration": 0.045087,
     "end_time": "2023-09-04T14:22:46.361195",
     "exception": false,
     "start_time": "2023-09-04T14:22:46.316108",
     "status": "completed"
    },
    "tags": []
   },
   "source": [
    "# Encoding Data\n",
    "\n",
    "Model building requires only numerical data. We need to convert categorical data into numerical data using encoding techniques."
   ]
  },
  {
   "cell_type": "code",
   "execution_count": 26,
   "id": "9766df85",
   "metadata": {
    "execution": {
     "iopub.execute_input": "2023-09-04T14:22:46.455502Z",
     "iopub.status.busy": "2023-09-04T14:22:46.454484Z",
     "iopub.status.idle": "2023-09-04T14:22:46.829026Z",
     "shell.execute_reply": "2023-09-04T14:22:46.827811Z"
    },
    "papermill": {
     "duration": 0.425069,
     "end_time": "2023-09-04T14:22:46.832048",
     "exception": false,
     "start_time": "2023-09-04T14:22:46.406979",
     "status": "completed"
    },
    "tags": []
   },
   "outputs": [],
   "source": [
    "#converting categorical variables into numerical format\n",
    "from sklearn.preprocessing import LabelEncoder\n",
    "label_encoder = LabelEncoder()\n",
    "combined_movies_data[\"sentiment\"] = label_encoder.fit_transform(combined_movies_data[\"sentiment\"])\n",
    "combined_movies_data[\"director\"] = label_encoder.fit_transform(combined_movies_data[\"director\"])\n",
    "combined_movies_test[\"director\"] = label_encoder.fit_transform(combined_movies_test[\"director\"])\n"
   ]
  },
  {
   "cell_type": "code",
   "execution_count": 27,
   "id": "eb3e7b82",
   "metadata": {
    "execution": {
     "iopub.execute_input": "2023-09-04T14:22:46.929428Z",
     "iopub.status.busy": "2023-09-04T14:22:46.928431Z",
     "iopub.status.idle": "2023-09-04T14:22:46.951429Z",
     "shell.execute_reply": "2023-09-04T14:22:46.950522Z"
    },
    "papermill": {
     "duration": 0.07498,
     "end_time": "2023-09-04T14:22:46.954386",
     "exception": false,
     "start_time": "2023-09-04T14:22:46.879406",
     "status": "completed"
    },
    "tags": []
   },
   "outputs": [
    {
     "data": {
      "text/html": [
       "<div>\n",
       "<style scoped>\n",
       "    .dataframe tbody tr th:only-of-type {\n",
       "        vertical-align: middle;\n",
       "    }\n",
       "\n",
       "    .dataframe tbody tr th {\n",
       "        vertical-align: top;\n",
       "    }\n",
       "\n",
       "    .dataframe thead th {\n",
       "        text-align: right;\n",
       "    }\n",
       "</style>\n",
       "<table border=\"1\" class=\"dataframe\">\n",
       "  <thead>\n",
       "    <tr style=\"text-align: right;\">\n",
       "      <th></th>\n",
       "      <th>movieid</th>\n",
       "      <th>reviewerName</th>\n",
       "      <th>isFrequentReviewer</th>\n",
       "      <th>reviewText</th>\n",
       "      <th>sentiment</th>\n",
       "      <th>audienceScore</th>\n",
       "      <th>director</th>\n",
       "      <th>reviewLength</th>\n",
       "    </tr>\n",
       "  </thead>\n",
       "  <tbody>\n",
       "    <tr>\n",
       "      <th>0</th>\n",
       "      <td>marvelous_pirate</td>\n",
       "      <td>Benjamin Henry</td>\n",
       "      <td>False</td>\n",
       "      <td>Henry Selick’s first movie since 2009’s Corali...</td>\n",
       "      <td>1</td>\n",
       "      <td>65.0</td>\n",
       "      <td>723</td>\n",
       "      <td>11</td>\n",
       "    </tr>\n",
       "    <tr>\n",
       "      <th>1</th>\n",
       "      <td>marvelous_pirate</td>\n",
       "      <td>Sharon Foster</td>\n",
       "      <td>False</td>\n",
       "      <td>&amp;#91;T&amp;#93;he haphazard way this story is asse...</td>\n",
       "      <td>0</td>\n",
       "      <td>65.0</td>\n",
       "      <td>723</td>\n",
       "      <td>26</td>\n",
       "    </tr>\n",
       "    <tr>\n",
       "      <th>2</th>\n",
       "      <td>marvelous_pirate</td>\n",
       "      <td>Melinda Dunn</td>\n",
       "      <td>False</td>\n",
       "      <td>The stop-motion artistry of Wendell &amp;amp; Wild...</td>\n",
       "      <td>1</td>\n",
       "      <td>65.0</td>\n",
       "      <td>723</td>\n",
       "      <td>17</td>\n",
       "    </tr>\n",
       "    <tr>\n",
       "      <th>3</th>\n",
       "      <td>marvelous_pirate</td>\n",
       "      <td>Mr. Wayne Smith</td>\n",
       "      <td>False</td>\n",
       "      <td>Wendell &amp;amp; Wild is narratively overstuffed ...</td>\n",
       "      <td>0</td>\n",
       "      <td>65.0</td>\n",
       "      <td>723</td>\n",
       "      <td>21</td>\n",
       "    </tr>\n",
       "    <tr>\n",
       "      <th>4</th>\n",
       "      <td>marvelous_pirate</td>\n",
       "      <td>Connor Nelson</td>\n",
       "      <td>False</td>\n",
       "      <td>For being about the Netherworlds&amp;#44; it&amp;#8217...</td>\n",
       "      <td>1</td>\n",
       "      <td>65.0</td>\n",
       "      <td>723</td>\n",
       "      <td>10</td>\n",
       "    </tr>\n",
       "    <tr>\n",
       "      <th>...</th>\n",
       "      <td>...</td>\n",
       "      <td>...</td>\n",
       "      <td>...</td>\n",
       "      <td>...</td>\n",
       "      <td>...</td>\n",
       "      <td>...</td>\n",
       "      <td>...</td>\n",
       "      <td>...</td>\n",
       "    </tr>\n",
       "    <tr>\n",
       "      <th>162753</th>\n",
       "      <td>frodo_baggins_norman_bates_ellen_ripley_astonish</td>\n",
       "      <td>Janice Pearson</td>\n",
       "      <td>False</td>\n",
       "      <td>The broad shape of the ending is predictable; ...</td>\n",
       "      <td>0</td>\n",
       "      <td>81.0</td>\n",
       "      <td>8072</td>\n",
       "      <td>36</td>\n",
       "    </tr>\n",
       "    <tr>\n",
       "      <th>162754</th>\n",
       "      <td>elegant_starlight_labyrinth_katniss_everdeen</td>\n",
       "      <td>Frank Farrell</td>\n",
       "      <td>False</td>\n",
       "      <td>A formula designed for adolescent and young ad...</td>\n",
       "      <td>1</td>\n",
       "      <td>75.0</td>\n",
       "      <td>2990</td>\n",
       "      <td>19</td>\n",
       "    </tr>\n",
       "    <tr>\n",
       "      <th>162755</th>\n",
       "      <td>don_vito_corleone_neo_hannibal_lecter</td>\n",
       "      <td>Juan Taylor</td>\n",
       "      <td>False</td>\n",
       "      <td>All these years, I've kept a soft spot in my h...</td>\n",
       "      <td>0</td>\n",
       "      <td>55.0</td>\n",
       "      <td>1595</td>\n",
       "      <td>31</td>\n",
       "    </tr>\n",
       "    <tr>\n",
       "      <th>162756</th>\n",
       "      <td>dorothy_gale_luke_skywalker_luke_skywalker</td>\n",
       "      <td>Robert Cardenas</td>\n",
       "      <td>False</td>\n",
       "      <td>Powerful documentary about the struggle of Wes...</td>\n",
       "      <td>1</td>\n",
       "      <td>75.0</td>\n",
       "      <td>3785</td>\n",
       "      <td>27</td>\n",
       "    </tr>\n",
       "    <tr>\n",
       "      <th>162757</th>\n",
       "      <td>forrest_gump_fantasy_epic</td>\n",
       "      <td>Daniel Pacheco</td>\n",
       "      <td>True</td>\n",
       "      <td>Rock's wildest years - both the man and the mu...</td>\n",
       "      <td>1</td>\n",
       "      <td>45.0</td>\n",
       "      <td>8640</td>\n",
       "      <td>24</td>\n",
       "    </tr>\n",
       "  </tbody>\n",
       "</table>\n",
       "<p>162758 rows × 8 columns</p>\n",
       "</div>"
      ],
      "text/plain": [
       "                                                 movieid     reviewerName  \\\n",
       "0                                       marvelous_pirate   Benjamin Henry   \n",
       "1                                       marvelous_pirate    Sharon Foster   \n",
       "2                                       marvelous_pirate     Melinda Dunn   \n",
       "3                                       marvelous_pirate  Mr. Wayne Smith   \n",
       "4                                       marvelous_pirate    Connor Nelson   \n",
       "...                                                  ...              ...   \n",
       "162753  frodo_baggins_norman_bates_ellen_ripley_astonish   Janice Pearson   \n",
       "162754      elegant_starlight_labyrinth_katniss_everdeen    Frank Farrell   \n",
       "162755             don_vito_corleone_neo_hannibal_lecter      Juan Taylor   \n",
       "162756        dorothy_gale_luke_skywalker_luke_skywalker  Robert Cardenas   \n",
       "162757                         forrest_gump_fantasy_epic   Daniel Pacheco   \n",
       "\n",
       "        isFrequentReviewer                                         reviewText  \\\n",
       "0                    False  Henry Selick’s first movie since 2009’s Corali...   \n",
       "1                    False  &#91;T&#93;he haphazard way this story is asse...   \n",
       "2                    False  The stop-motion artistry of Wendell &amp; Wild...   \n",
       "3                    False  Wendell &amp; Wild is narratively overstuffed ...   \n",
       "4                    False  For being about the Netherworlds&#44; it&#8217...   \n",
       "...                    ...                                                ...   \n",
       "162753               False  The broad shape of the ending is predictable; ...   \n",
       "162754               False  A formula designed for adolescent and young ad...   \n",
       "162755               False  All these years, I've kept a soft spot in my h...   \n",
       "162756               False  Powerful documentary about the struggle of Wes...   \n",
       "162757                True  Rock's wildest years - both the man and the mu...   \n",
       "\n",
       "        sentiment  audienceScore  director  reviewLength  \n",
       "0               1           65.0       723            11  \n",
       "1               0           65.0       723            26  \n",
       "2               1           65.0       723            17  \n",
       "3               0           65.0       723            21  \n",
       "4               1           65.0       723            10  \n",
       "...           ...            ...       ...           ...  \n",
       "162753          0           81.0      8072            36  \n",
       "162754          1           75.0      2990            19  \n",
       "162755          0           55.0      1595            31  \n",
       "162756          1           75.0      3785            27  \n",
       "162757          1           45.0      8640            24  \n",
       "\n",
       "[162758 rows x 8 columns]"
      ]
     },
     "execution_count": 27,
     "metadata": {},
     "output_type": "execute_result"
    }
   ],
   "source": [
    "combined_movies_data"
   ]
  },
  {
   "cell_type": "code",
   "execution_count": 28,
   "id": "528f2ae2",
   "metadata": {
    "execution": {
     "iopub.execute_input": "2023-09-04T14:22:47.053715Z",
     "iopub.status.busy": "2023-09-04T14:22:47.053287Z",
     "iopub.status.idle": "2023-09-04T14:22:47.072292Z",
     "shell.execute_reply": "2023-09-04T14:22:47.071068Z"
    },
    "papermill": {
     "duration": 0.071274,
     "end_time": "2023-09-04T14:22:47.074555",
     "exception": false,
     "start_time": "2023-09-04T14:22:47.003281",
     "status": "completed"
    },
    "tags": []
   },
   "outputs": [
    {
     "data": {
      "text/html": [
       "<div>\n",
       "<style scoped>\n",
       "    .dataframe tbody tr th:only-of-type {\n",
       "        vertical-align: middle;\n",
       "    }\n",
       "\n",
       "    .dataframe tbody tr th {\n",
       "        vertical-align: top;\n",
       "    }\n",
       "\n",
       "    .dataframe thead th {\n",
       "        text-align: right;\n",
       "    }\n",
       "</style>\n",
       "<table border=\"1\" class=\"dataframe\">\n",
       "  <thead>\n",
       "    <tr style=\"text-align: right;\">\n",
       "      <th></th>\n",
       "      <th>movieid</th>\n",
       "      <th>reviewerName</th>\n",
       "      <th>isTopCritic</th>\n",
       "      <th>reviewText</th>\n",
       "      <th>audienceScore</th>\n",
       "      <th>director</th>\n",
       "      <th>reviewLength</th>\n",
       "    </tr>\n",
       "  </thead>\n",
       "  <tbody>\n",
       "    <tr>\n",
       "      <th>0</th>\n",
       "      <td>legend_marty_mcfly_oracle</td>\n",
       "      <td>John Kim</td>\n",
       "      <td>False</td>\n",
       "      <td>Green slowly cranks up the dread with style an...</td>\n",
       "      <td>57.000000</td>\n",
       "      <td>8068</td>\n",
       "      <td>31</td>\n",
       "    </tr>\n",
       "    <tr>\n",
       "      <th>1</th>\n",
       "      <td>legend_marty_mcfly_oracle</td>\n",
       "      <td>Kathleen Poole</td>\n",
       "      <td>False</td>\n",
       "      <td>Considering this is the 13th Halloween movie&amp;#...</td>\n",
       "      <td>57.000000</td>\n",
       "      <td>8068</td>\n",
       "      <td>20</td>\n",
       "    </tr>\n",
       "    <tr>\n",
       "      <th>2</th>\n",
       "      <td>legend_marty_mcfly_oracle</td>\n",
       "      <td>Kenneth Lamb</td>\n",
       "      <td>False</td>\n",
       "      <td>Halloween Ends is by no means the worst horror...</td>\n",
       "      <td>57.000000</td>\n",
       "      <td>8068</td>\n",
       "      <td>31</td>\n",
       "    </tr>\n",
       "    <tr>\n",
       "      <th>3</th>\n",
       "      <td>legend_marty_mcfly_oracle</td>\n",
       "      <td>Brittany Lane</td>\n",
       "      <td>False</td>\n",
       "      <td>A concluding chapter that shares more DNA with...</td>\n",
       "      <td>57.000000</td>\n",
       "      <td>8068</td>\n",
       "      <td>30</td>\n",
       "    </tr>\n",
       "    <tr>\n",
       "      <th>4</th>\n",
       "      <td>legend_marty_mcfly_oracle</td>\n",
       "      <td>Yolanda Thomas</td>\n",
       "      <td>False</td>\n",
       "      <td>For a film called Halloween Ends&amp;#44; let&amp;#821...</td>\n",
       "      <td>57.000000</td>\n",
       "      <td>8068</td>\n",
       "      <td>13</td>\n",
       "    </tr>\n",
       "    <tr>\n",
       "      <th>...</th>\n",
       "      <td>...</td>\n",
       "      <td>...</td>\n",
       "      <td>...</td>\n",
       "      <td>...</td>\n",
       "      <td>...</td>\n",
       "      <td>...</td>\n",
       "      <td>...</td>\n",
       "    </tr>\n",
       "    <tr>\n",
       "      <th>55310</th>\n",
       "      <td>vivid_hannibal_lecter</td>\n",
       "      <td>Brandon Gamble</td>\n",
       "      <td>False</td>\n",
       "      <td>I love Siegel's sly paralleling of Ali's fight...</td>\n",
       "      <td>85.000000</td>\n",
       "      <td>6883</td>\n",
       "      <td>16</td>\n",
       "    </tr>\n",
       "    <tr>\n",
       "      <th>55311</th>\n",
       "      <td>rocky_balboa_darth_vader_wolverine_james_t._kirk</td>\n",
       "      <td>Traci Roberts</td>\n",
       "      <td>True</td>\n",
       "      <td>This is a failure that deserves credit mainly ...</td>\n",
       "      <td>51.000000</td>\n",
       "      <td>5401</td>\n",
       "      <td>24</td>\n",
       "    </tr>\n",
       "    <tr>\n",
       "      <th>55312</th>\n",
       "      <td>black_widow_frodo_baggins_tony_montana_mythical</td>\n",
       "      <td>Kari Wolf</td>\n",
       "      <td>False</td>\n",
       "      <td>John F. Donovan may revisit a lot of familiar ...</td>\n",
       "      <td>53.000000</td>\n",
       "      <td>9416</td>\n",
       "      <td>23</td>\n",
       "    </tr>\n",
       "    <tr>\n",
       "      <th>55313</th>\n",
       "      <td>glorious_wondrous_the_terminator</td>\n",
       "      <td>Gwendolyn Guerra</td>\n",
       "      <td>False</td>\n",
       "      <td>An unpretentious, autobiographical movie explo...</td>\n",
       "      <td>30.000000</td>\n",
       "      <td>8081</td>\n",
       "      <td>14</td>\n",
       "    </tr>\n",
       "    <tr>\n",
       "      <th>55314</th>\n",
       "      <td>adventure_katniss_everdeen_mr._miyagi_enigma</td>\n",
       "      <td>Debra Molina</td>\n",
       "      <td>True</td>\n",
       "      <td>Trying to parse meaning in \"Mia\" is secondary ...</td>\n",
       "      <td>55.866968</td>\n",
       "      <td>6781</td>\n",
       "      <td>21</td>\n",
       "    </tr>\n",
       "  </tbody>\n",
       "</table>\n",
       "<p>55315 rows × 7 columns</p>\n",
       "</div>"
      ],
      "text/plain": [
       "                                                movieid      reviewerName  \\\n",
       "0                             legend_marty_mcfly_oracle          John Kim   \n",
       "1                             legend_marty_mcfly_oracle    Kathleen Poole   \n",
       "2                             legend_marty_mcfly_oracle      Kenneth Lamb   \n",
       "3                             legend_marty_mcfly_oracle     Brittany Lane   \n",
       "4                             legend_marty_mcfly_oracle    Yolanda Thomas   \n",
       "...                                                 ...               ...   \n",
       "55310                             vivid_hannibal_lecter    Brandon Gamble   \n",
       "55311  rocky_balboa_darth_vader_wolverine_james_t._kirk     Traci Roberts   \n",
       "55312   black_widow_frodo_baggins_tony_montana_mythical         Kari Wolf   \n",
       "55313                  glorious_wondrous_the_terminator  Gwendolyn Guerra   \n",
       "55314      adventure_katniss_everdeen_mr._miyagi_enigma      Debra Molina   \n",
       "\n",
       "       isTopCritic                                         reviewText  \\\n",
       "0            False  Green slowly cranks up the dread with style an...   \n",
       "1            False  Considering this is the 13th Halloween movie&#...   \n",
       "2            False  Halloween Ends is by no means the worst horror...   \n",
       "3            False  A concluding chapter that shares more DNA with...   \n",
       "4            False  For a film called Halloween Ends&#44; let&#821...   \n",
       "...            ...                                                ...   \n",
       "55310        False  I love Siegel's sly paralleling of Ali's fight...   \n",
       "55311         True  This is a failure that deserves credit mainly ...   \n",
       "55312        False  John F. Donovan may revisit a lot of familiar ...   \n",
       "55313        False  An unpretentious, autobiographical movie explo...   \n",
       "55314         True  Trying to parse meaning in \"Mia\" is secondary ...   \n",
       "\n",
       "       audienceScore  director  reviewLength  \n",
       "0          57.000000      8068            31  \n",
       "1          57.000000      8068            20  \n",
       "2          57.000000      8068            31  \n",
       "3          57.000000      8068            30  \n",
       "4          57.000000      8068            13  \n",
       "...              ...       ...           ...  \n",
       "55310      85.000000      6883            16  \n",
       "55311      51.000000      5401            24  \n",
       "55312      53.000000      9416            23  \n",
       "55313      30.000000      8081            14  \n",
       "55314      55.866968      6781            21  \n",
       "\n",
       "[55315 rows x 7 columns]"
      ]
     },
     "execution_count": 28,
     "metadata": {},
     "output_type": "execute_result"
    }
   ],
   "source": [
    "combined_movies_test"
   ]
  },
  {
   "cell_type": "code",
   "execution_count": null,
   "id": "be88e7e6",
   "metadata": {
    "papermill": {
     "duration": 0.048577,
     "end_time": "2023-09-04T14:22:47.170301",
     "exception": false,
     "start_time": "2023-09-04T14:22:47.121724",
     "status": "completed"
    },
    "tags": []
   },
   "outputs": [],
   "source": []
  },
  {
   "cell_type": "markdown",
   "id": "98b727e4",
   "metadata": {
    "papermill": {
     "duration": 0.046889,
     "end_time": "2023-09-04T14:22:47.264642",
     "exception": false,
     "start_time": "2023-09-04T14:22:47.217753",
     "status": "completed"
    },
    "tags": []
   },
   "source": [
    "# X & Y split\n",
    "\n",
    "Lets split our target variable from the data"
   ]
  },
  {
   "cell_type": "code",
   "execution_count": 29,
   "id": "239175da",
   "metadata": {
    "execution": {
     "iopub.execute_input": "2023-09-04T14:22:47.362404Z",
     "iopub.status.busy": "2023-09-04T14:22:47.361657Z",
     "iopub.status.idle": "2023-09-04T14:22:47.366283Z",
     "shell.execute_reply": "2023-09-04T14:22:47.365196Z"
    },
    "papermill": {
     "duration": 0.056499,
     "end_time": "2023-09-04T14:22:47.368572",
     "exception": false,
     "start_time": "2023-09-04T14:22:47.312073",
     "status": "completed"
    },
    "tags": []
   },
   "outputs": [],
   "source": [
    "# Prepare the data\n",
    "y = combined_movies_data[\"sentiment\"]"
   ]
  },
  {
   "cell_type": "code",
   "execution_count": 30,
   "id": "12184c16",
   "metadata": {
    "execution": {
     "iopub.execute_input": "2023-09-04T14:22:47.466063Z",
     "iopub.status.busy": "2023-09-04T14:22:47.464470Z",
     "iopub.status.idle": "2023-09-04T14:22:47.475445Z",
     "shell.execute_reply": "2023-09-04T14:22:47.474223Z"
    },
    "papermill": {
     "duration": 0.062841,
     "end_time": "2023-09-04T14:22:47.478178",
     "exception": false,
     "start_time": "2023-09-04T14:22:47.415337",
     "status": "completed"
    },
    "tags": []
   },
   "outputs": [
    {
     "data": {
      "text/plain": [
       "1    108761\n",
       "0     53997\n",
       "Name: sentiment, dtype: int64"
      ]
     },
     "execution_count": 30,
     "metadata": {},
     "output_type": "execute_result"
    }
   ],
   "source": [
    "y.value_counts()"
   ]
  },
  {
   "cell_type": "code",
   "execution_count": 31,
   "id": "58fc0d95",
   "metadata": {
    "execution": {
     "iopub.execute_input": "2023-09-04T14:22:47.576525Z",
     "iopub.status.busy": "2023-09-04T14:22:47.576001Z",
     "iopub.status.idle": "2023-09-04T14:22:47.596729Z",
     "shell.execute_reply": "2023-09-04T14:22:47.595255Z"
    },
    "papermill": {
     "duration": 0.072829,
     "end_time": "2023-09-04T14:22:47.599608",
     "exception": false,
     "start_time": "2023-09-04T14:22:47.526779",
     "status": "completed"
    },
    "tags": []
   },
   "outputs": [],
   "source": [
    "X = combined_movies_data.drop(columns='sentiment')"
   ]
  },
  {
   "cell_type": "code",
   "execution_count": 32,
   "id": "6456f844",
   "metadata": {
    "execution": {
     "iopub.execute_input": "2023-09-04T14:22:47.693946Z",
     "iopub.status.busy": "2023-09-04T14:22:47.693470Z",
     "iopub.status.idle": "2023-09-04T14:22:47.741044Z",
     "shell.execute_reply": "2023-09-04T14:22:47.739722Z"
    },
    "papermill": {
     "duration": 0.09839,
     "end_time": "2023-09-04T14:22:47.744117",
     "exception": false,
     "start_time": "2023-09-04T14:22:47.645727",
     "status": "completed"
    },
    "tags": []
   },
   "outputs": [],
   "source": [
    "X['reviewText'] = X['reviewText'].astype(str)\n",
    "combined_movies_test['reviewText'] = combined_movies_test['reviewText'].astype(str)"
   ]
  },
  {
   "cell_type": "markdown",
   "id": "a0707832",
   "metadata": {
    "papermill": {
     "duration": 0.046815,
     "end_time": "2023-09-04T14:22:47.837940",
     "exception": false,
     "start_time": "2023-09-04T14:22:47.791125",
     "status": "completed"
    },
    "tags": []
   },
   "source": [
    "# Scaling Data\n",
    "\n",
    "Columns or features have different scales. While preparing data, we should normalize and scale the data in such a manner that every column has the same scale."
   ]
  },
  {
   "cell_type": "code",
   "execution_count": 33,
   "id": "4e0e1c4e",
   "metadata": {
    "execution": {
     "iopub.execute_input": "2023-09-04T14:22:47.937107Z",
     "iopub.status.busy": "2023-09-04T14:22:47.936668Z",
     "iopub.status.idle": "2023-09-04T14:22:47.980108Z",
     "shell.execute_reply": "2023-09-04T14:22:47.978869Z"
    },
    "papermill": {
     "duration": 0.096266,
     "end_time": "2023-09-04T14:22:47.983294",
     "exception": false,
     "start_time": "2023-09-04T14:22:47.887028",
     "status": "completed"
    },
    "tags": []
   },
   "outputs": [],
   "source": [
    "#data scaling\n",
    "from sklearn.preprocessing import StandardScaler\n",
    "\n",
    "# Extract numerical columns\n",
    "numerical_columns = combined_movies_data.select_dtypes(include=['int64', 'float64']).columns\n",
    "#we dont want to scale sentiment\n",
    "numerical_columns = numerical_columns[numerical_columns!='sentiment']\n",
    "# Initialize the StandardScaler\n",
    "scaler = StandardScaler()\n",
    "\n",
    "# Apply data scaling to numerical columns\n",
    "combined_movies_data[numerical_columns] = scaler.fit_transform(combined_movies_data[numerical_columns])\n",
    "\n",
    "numerical_columns = combined_movies_test.select_dtypes(include=['int64', 'float64']).columns\n",
    "\n",
    "\n",
    "combined_movies_test[numerical_columns] = scaler.fit_transform(combined_movies_test[numerical_columns])\n"
   ]
  },
  {
   "cell_type": "code",
   "execution_count": 34,
   "id": "78eca3b9",
   "metadata": {
    "execution": {
     "iopub.execute_input": "2023-09-04T14:22:48.077911Z",
     "iopub.status.busy": "2023-09-04T14:22:48.077484Z",
     "iopub.status.idle": "2023-09-04T14:22:48.085359Z",
     "shell.execute_reply": "2023-09-04T14:22:48.083982Z"
    },
    "papermill": {
     "duration": 0.057626,
     "end_time": "2023-09-04T14:22:48.087989",
     "exception": false,
     "start_time": "2023-09-04T14:22:48.030363",
     "status": "completed"
    },
    "tags": []
   },
   "outputs": [
    {
     "data": {
      "text/plain": [
       "(162758, 7)"
      ]
     },
     "execution_count": 34,
     "metadata": {},
     "output_type": "execute_result"
    }
   ],
   "source": [
    "X.shape"
   ]
  },
  {
   "cell_type": "code",
   "execution_count": 35,
   "id": "6f26f292",
   "metadata": {
    "execution": {
     "iopub.execute_input": "2023-09-04T14:22:48.188719Z",
     "iopub.status.busy": "2023-09-04T14:22:48.188292Z",
     "iopub.status.idle": "2023-09-04T14:22:48.196198Z",
     "shell.execute_reply": "2023-09-04T14:22:48.194827Z"
    },
    "papermill": {
     "duration": 0.06326,
     "end_time": "2023-09-04T14:22:48.198696",
     "exception": false,
     "start_time": "2023-09-04T14:22:48.135436",
     "status": "completed"
    },
    "tags": []
   },
   "outputs": [
    {
     "data": {
      "text/plain": [
       "(162758,)"
      ]
     },
     "execution_count": 35,
     "metadata": {},
     "output_type": "execute_result"
    }
   ],
   "source": [
    "y.shape"
   ]
  },
  {
   "cell_type": "code",
   "execution_count": 36,
   "id": "5aaa3ffa",
   "metadata": {
    "execution": {
     "iopub.execute_input": "2023-09-04T14:22:48.296365Z",
     "iopub.status.busy": "2023-09-04T14:22:48.294956Z",
     "iopub.status.idle": "2023-09-04T14:22:48.311579Z",
     "shell.execute_reply": "2023-09-04T14:22:48.310327Z"
    },
    "papermill": {
     "duration": 0.068095,
     "end_time": "2023-09-04T14:22:48.314163",
     "exception": false,
     "start_time": "2023-09-04T14:22:48.246068",
     "status": "completed"
    },
    "tags": []
   },
   "outputs": [
    {
     "data": {
      "text/html": [
       "<div>\n",
       "<style scoped>\n",
       "    .dataframe tbody tr th:only-of-type {\n",
       "        vertical-align: middle;\n",
       "    }\n",
       "\n",
       "    .dataframe tbody tr th {\n",
       "        vertical-align: top;\n",
       "    }\n",
       "\n",
       "    .dataframe thead th {\n",
       "        text-align: right;\n",
       "    }\n",
       "</style>\n",
       "<table border=\"1\" class=\"dataframe\">\n",
       "  <thead>\n",
       "    <tr style=\"text-align: right;\">\n",
       "      <th></th>\n",
       "      <th>movieid</th>\n",
       "      <th>reviewerName</th>\n",
       "      <th>isTopCritic</th>\n",
       "      <th>reviewText</th>\n",
       "      <th>audienceScore</th>\n",
       "      <th>director</th>\n",
       "      <th>reviewLength</th>\n",
       "    </tr>\n",
       "  </thead>\n",
       "  <tbody>\n",
       "    <tr>\n",
       "      <th>0</th>\n",
       "      <td>legend_marty_mcfly_oracle</td>\n",
       "      <td>John Kim</td>\n",
       "      <td>False</td>\n",
       "      <td>Green slowly cranks up the dread with style an...</td>\n",
       "      <td>-0.371043</td>\n",
       "      <td>1.193627</td>\n",
       "      <td>0.978385</td>\n",
       "    </tr>\n",
       "    <tr>\n",
       "      <th>1</th>\n",
       "      <td>legend_marty_mcfly_oracle</td>\n",
       "      <td>Kathleen Poole</td>\n",
       "      <td>False</td>\n",
       "      <td>Considering this is the 13th Halloween movie&amp;#...</td>\n",
       "      <td>-0.371043</td>\n",
       "      <td>1.193627</td>\n",
       "      <td>-0.079865</td>\n",
       "    </tr>\n",
       "    <tr>\n",
       "      <th>2</th>\n",
       "      <td>legend_marty_mcfly_oracle</td>\n",
       "      <td>Kenneth Lamb</td>\n",
       "      <td>False</td>\n",
       "      <td>Halloween Ends is by no means the worst horror...</td>\n",
       "      <td>-0.371043</td>\n",
       "      <td>1.193627</td>\n",
       "      <td>0.978385</td>\n",
       "    </tr>\n",
       "    <tr>\n",
       "      <th>3</th>\n",
       "      <td>legend_marty_mcfly_oracle</td>\n",
       "      <td>Brittany Lane</td>\n",
       "      <td>False</td>\n",
       "      <td>A concluding chapter that shares more DNA with...</td>\n",
       "      <td>-0.371043</td>\n",
       "      <td>1.193627</td>\n",
       "      <td>0.882180</td>\n",
       "    </tr>\n",
       "    <tr>\n",
       "      <th>4</th>\n",
       "      <td>legend_marty_mcfly_oracle</td>\n",
       "      <td>Yolanda Thomas</td>\n",
       "      <td>False</td>\n",
       "      <td>For a film called Halloween Ends&amp;#44; let&amp;#821...</td>\n",
       "      <td>-0.371043</td>\n",
       "      <td>1.193627</td>\n",
       "      <td>-0.753296</td>\n",
       "    </tr>\n",
       "  </tbody>\n",
       "</table>\n",
       "</div>"
      ],
      "text/plain": [
       "                     movieid    reviewerName  isTopCritic  \\\n",
       "0  legend_marty_mcfly_oracle        John Kim        False   \n",
       "1  legend_marty_mcfly_oracle  Kathleen Poole        False   \n",
       "2  legend_marty_mcfly_oracle    Kenneth Lamb        False   \n",
       "3  legend_marty_mcfly_oracle   Brittany Lane        False   \n",
       "4  legend_marty_mcfly_oracle  Yolanda Thomas        False   \n",
       "\n",
       "                                          reviewText  audienceScore  director  \\\n",
       "0  Green slowly cranks up the dread with style an...      -0.371043  1.193627   \n",
       "1  Considering this is the 13th Halloween movie&#...      -0.371043  1.193627   \n",
       "2  Halloween Ends is by no means the worst horror...      -0.371043  1.193627   \n",
       "3  A concluding chapter that shares more DNA with...      -0.371043  1.193627   \n",
       "4  For a film called Halloween Ends&#44; let&#821...      -0.371043  1.193627   \n",
       "\n",
       "   reviewLength  \n",
       "0      0.978385  \n",
       "1     -0.079865  \n",
       "2      0.978385  \n",
       "3      0.882180  \n",
       "4     -0.753296  "
      ]
     },
     "execution_count": 36,
     "metadata": {},
     "output_type": "execute_result"
    }
   ],
   "source": [
    "combined_movies_test.head()"
   ]
  },
  {
   "cell_type": "markdown",
   "id": "db5e353e",
   "metadata": {
    "papermill": {
     "duration": 0.046904,
     "end_time": "2023-09-04T14:22:48.408627",
     "exception": false,
     "start_time": "2023-09-04T14:22:48.361723",
     "status": "completed"
    },
    "tags": []
   },
   "source": [
    "# Handling reviewText Column\n",
    "<div style=\"color:white;\n",
    "           display:fill;\n",
    "           border-radius:5px;\n",
    "           background-color:#5642C5;\n",
    "           font-size:110%;\n",
    "           font-family:Verdana;\n",
    "           letter-spacing:0.5px\">\n",
    "\n",
    "<p style=\"padding: 10px;\n",
    "              color:white;\">\n",
    "1. Cleaning: We want to clean the data.<br>\n",
    "2. Remove Stopwords: Stopwords like 'I', 'am', 'the' are neutral and have no contribution in identifying the sentiment of text.<br>\n",
    "3. Tokenization: Breaking a sentence or phrase into a collection of token. (I know you. -> I,Know,you,.)<br>\n",
    "4. Stemming: We want to keep the base form of word while removing others. (go, going, gone = go)<br>\n",
    "5. TFIDF Vectorization<br>"
   ]
  },
  {
   "cell_type": "code",
   "execution_count": 37,
   "id": "90ef8f4b",
   "metadata": {
    "execution": {
     "iopub.execute_input": "2023-09-04T14:22:48.505705Z",
     "iopub.status.busy": "2023-09-04T14:22:48.505287Z",
     "iopub.status.idle": "2023-09-04T14:22:48.519981Z",
     "shell.execute_reply": "2023-09-04T14:22:48.518858Z"
    },
    "papermill": {
     "duration": 0.06672,
     "end_time": "2023-09-04T14:22:48.522842",
     "exception": false,
     "start_time": "2023-09-04T14:22:48.456122",
     "status": "completed"
    },
    "tags": []
   },
   "outputs": [],
   "source": [
    "import html\n",
    "X['reviewText'] = html.unescape(X['reviewText'])\n",
    "combined_movies_test['reviewText'] = html.unescape(combined_movies_test['reviewText'])"
   ]
  },
  {
   "cell_type": "markdown",
   "id": "b78db2c4",
   "metadata": {
    "papermill": {
     "duration": 0.046983,
     "end_time": "2023-09-04T14:22:48.617573",
     "exception": false,
     "start_time": "2023-09-04T14:22:48.570590",
     "status": "completed"
    },
    "tags": []
   },
   "source": [
    "# Cleaning Text"
   ]
  },
  {
   "cell_type": "code",
   "execution_count": 38,
   "id": "911ddaea",
   "metadata": {
    "execution": {
     "iopub.execute_input": "2023-09-04T14:22:48.714710Z",
     "iopub.status.busy": "2023-09-04T14:22:48.714314Z",
     "iopub.status.idle": "2023-09-04T14:23:18.686342Z",
     "shell.execute_reply": "2023-09-04T14:23:18.685426Z"
    },
    "papermill": {
     "duration": 30.024733,
     "end_time": "2023-09-04T14:23:18.689652",
     "exception": false,
     "start_time": "2023-09-04T14:22:48.664919",
     "status": "completed"
    },
    "tags": []
   },
   "outputs": [],
   "source": [
    "import regex as re\n",
    "import string \n",
    "def preprocess_text(text):\n",
    "    '''Make text lowercase, remove text in square brackets,remove links,remove punctuation\n",
    "    and remove words containing numbers.'''\n",
    "    text = str(text).lower() #lowercase text\n",
    "    text = re.sub('\\[.*?\\]', '', text) #replacing [text] with text\n",
    "    text = re.sub('https?://\\S+|www\\.\\S+', '', text) #removing website links\n",
    "    text = re.sub('<.*?>+', '', text) #remove any html tag\n",
    "    text = re.sub(r'&\\w+;', '', text) #html symbolic encoding like &nbsp;\n",
    "    text = re.sub('\\n', '', text) #removing newline text\n",
    "    text = re.sub('\\w*\\d\\w*', '', text) #removing numbers from text\n",
    "    text = re.sub(r'[^a-zA-Z0-9\\s]','',text)\n",
    "    return text\n",
    "\n",
    "# Apply preprocessing to the 'reviewText' column\n",
    "X['reviewText'] = X['reviewText'].apply(preprocess_text)\n",
    "combined_movies_test['reviewText'] = combined_movies_test['reviewText'].apply(preprocess_text)"
   ]
  },
  {
   "cell_type": "code",
   "execution_count": 39,
   "id": "e85f56ff",
   "metadata": {
    "execution": {
     "iopub.execute_input": "2023-09-04T14:23:18.787698Z",
     "iopub.status.busy": "2023-09-04T14:23:18.786614Z",
     "iopub.status.idle": "2023-09-04T14:23:18.796062Z",
     "shell.execute_reply": "2023-09-04T14:23:18.794815Z"
    },
    "papermill": {
     "duration": 0.060694,
     "end_time": "2023-09-04T14:23:18.798570",
     "exception": false,
     "start_time": "2023-09-04T14:23:18.737876",
     "status": "completed"
    },
    "tags": []
   },
   "outputs": [
    {
     "data": {
      "text/plain": [
       "0    henry selicks first movie since s coraline his...\n",
       "1    the haphazard way this story is assembled make...\n",
       "2    the stopmotion artistry of wendell  wild is ex...\n",
       "3    wendell  wild is narratively overstuffed past ...\n",
       "4    for being about the netherworlds its very warm...\n",
       "Name: reviewText, dtype: object"
      ]
     },
     "execution_count": 39,
     "metadata": {},
     "output_type": "execute_result"
    }
   ],
   "source": [
    "X['reviewText'].head()"
   ]
  },
  {
   "cell_type": "markdown",
   "id": "72185863",
   "metadata": {
    "papermill": {
     "duration": 0.047316,
     "end_time": "2023-09-04T14:23:18.893988",
     "exception": false,
     "start_time": "2023-09-04T14:23:18.846672",
     "status": "completed"
    },
    "tags": []
   },
   "source": [
    "# Removing StopWords"
   ]
  },
  {
   "cell_type": "code",
   "execution_count": 40,
   "id": "2a74a660",
   "metadata": {
    "execution": {
     "iopub.execute_input": "2023-09-04T14:23:18.992061Z",
     "iopub.status.busy": "2023-09-04T14:23:18.991022Z",
     "iopub.status.idle": "2023-09-04T14:23:20.921446Z",
     "shell.execute_reply": "2023-09-04T14:23:20.920331Z"
    },
    "papermill": {
     "duration": 1.982323,
     "end_time": "2023-09-04T14:23:20.924101",
     "exception": false,
     "start_time": "2023-09-04T14:23:18.941778",
     "status": "completed"
    },
    "tags": []
   },
   "outputs": [
    {
     "data": {
      "text/html": [
       "<style type=\"text/css\">\n",
       "#T_04091_row0_col1 {\n",
       "  background-color: #08306b;\n",
       "  color: #f1f1f1;\n",
       "}\n",
       "#T_04091_row1_col1 {\n",
       "  background-color: #3585bf;\n",
       "  color: #f1f1f1;\n",
       "}\n",
       "#T_04091_row2_col1 {\n",
       "  background-color: #549fcd;\n",
       "  color: #f1f1f1;\n",
       "}\n",
       "#T_04091_row3_col1 {\n",
       "  background-color: #5da5d1;\n",
       "  color: #f1f1f1;\n",
       "}\n",
       "#T_04091_row4_col1 {\n",
       "  background-color: #a6cee4;\n",
       "  color: #000000;\n",
       "}\n",
       "#T_04091_row5_col1 {\n",
       "  background-color: #b7d4ea;\n",
       "  color: #000000;\n",
       "}\n",
       "#T_04091_row6_col1 {\n",
       "  background-color: #d1e2f3;\n",
       "  color: #000000;\n",
       "}\n",
       "#T_04091_row7_col1 {\n",
       "  background-color: #d6e6f4;\n",
       "  color: #000000;\n",
       "}\n",
       "#T_04091_row8_col1 {\n",
       "  background-color: #d9e7f5;\n",
       "  color: #000000;\n",
       "}\n",
       "#T_04091_row9_col1 {\n",
       "  background-color: #d9e8f5;\n",
       "  color: #000000;\n",
       "}\n",
       "#T_04091_row10_col1, #T_04091_row11_col1 {\n",
       "  background-color: #e6f0f9;\n",
       "  color: #000000;\n",
       "}\n",
       "#T_04091_row12_col1 {\n",
       "  background-color: #e7f0fa;\n",
       "  color: #000000;\n",
       "}\n",
       "#T_04091_row13_col1, #T_04091_row14_col1 {\n",
       "  background-color: #ebf3fb;\n",
       "  color: #000000;\n",
       "}\n",
       "#T_04091_row15_col1 {\n",
       "  background-color: #edf4fc;\n",
       "  color: #000000;\n",
       "}\n",
       "#T_04091_row16_col1 {\n",
       "  background-color: #f1f7fd;\n",
       "  color: #000000;\n",
       "}\n",
       "#T_04091_row17_col1 {\n",
       "  background-color: #f5fafe;\n",
       "  color: #000000;\n",
       "}\n",
       "#T_04091_row18_col1 {\n",
       "  background-color: #f6faff;\n",
       "  color: #000000;\n",
       "}\n",
       "#T_04091_row19_col1 {\n",
       "  background-color: #f7fbff;\n",
       "  color: #000000;\n",
       "}\n",
       "</style>\n",
       "<table id=\"T_04091\">\n",
       "  <thead>\n",
       "    <tr>\n",
       "      <th class=\"blank level0\" >&nbsp;</th>\n",
       "      <th id=\"T_04091_level0_col0\" class=\"col_heading level0 col0\" >Common_words</th>\n",
       "      <th id=\"T_04091_level0_col1\" class=\"col_heading level0 col1\" >count</th>\n",
       "    </tr>\n",
       "  </thead>\n",
       "  <tbody>\n",
       "    <tr>\n",
       "      <th id=\"T_04091_level0_row0\" class=\"row_heading level0 row0\" >0</th>\n",
       "      <td id=\"T_04091_row0_col0\" class=\"data row0 col0\" >the</td>\n",
       "      <td id=\"T_04091_row0_col1\" class=\"data row0 col1\" >177835</td>\n",
       "    </tr>\n",
       "    <tr>\n",
       "      <th id=\"T_04091_level0_row1\" class=\"row_heading level0 row1\" >1</th>\n",
       "      <td id=\"T_04091_row1_col0\" class=\"data row1 col0\" >a</td>\n",
       "      <td id=\"T_04091_row1_col1\" class=\"data row1 col1\" >125018</td>\n",
       "    </tr>\n",
       "    <tr>\n",
       "      <th id=\"T_04091_level0_row2\" class=\"row_heading level0 row2\" >2</th>\n",
       "      <td id=\"T_04091_row2_col0\" class=\"data row2 col0\" >and</td>\n",
       "      <td id=\"T_04091_row2_col1\" class=\"data row2 col1\" >108176</td>\n",
       "    </tr>\n",
       "    <tr>\n",
       "      <th id=\"T_04091_level0_row3\" class=\"row_heading level0 row3\" >3</th>\n",
       "      <td id=\"T_04091_row3_col0\" class=\"data row3 col0\" >of</td>\n",
       "      <td id=\"T_04091_row3_col1\" class=\"data row3 col1\" >103173</td>\n",
       "    </tr>\n",
       "    <tr>\n",
       "      <th id=\"T_04091_level0_row4\" class=\"row_heading level0 row4\" >4</th>\n",
       "      <td id=\"T_04091_row4_col0\" class=\"data row4 col0\" >to</td>\n",
       "      <td id=\"T_04091_row4_col1\" class=\"data row4 col1\" >72320</td>\n",
       "    </tr>\n",
       "    <tr>\n",
       "      <th id=\"T_04091_level0_row5\" class=\"row_heading level0 row5\" >5</th>\n",
       "      <td id=\"T_04091_row5_col0\" class=\"data row5 col0\" >is</td>\n",
       "      <td id=\"T_04091_row5_col1\" class=\"data row5 col1\" >64179</td>\n",
       "    </tr>\n",
       "    <tr>\n",
       "      <th id=\"T_04091_level0_row6\" class=\"row_heading level0 row6\" >6</th>\n",
       "      <td id=\"T_04091_row6_col0\" class=\"data row6 col0\" >in</td>\n",
       "      <td id=\"T_04091_row6_col1\" class=\"data row6 col1\" >47348</td>\n",
       "    </tr>\n",
       "    <tr>\n",
       "      <th id=\"T_04091_level0_row7\" class=\"row_heading level0 row7\" >7</th>\n",
       "      <td id=\"T_04091_row7_col0\" class=\"data row7 col0\" >its</td>\n",
       "      <td id=\"T_04091_row7_col1\" class=\"data row7 col1\" >42694</td>\n",
       "    </tr>\n",
       "    <tr>\n",
       "      <th id=\"T_04091_level0_row8\" class=\"row_heading level0 row8\" >8</th>\n",
       "      <td id=\"T_04091_row8_col0\" class=\"data row8 col0\" >that</td>\n",
       "      <td id=\"T_04091_row8_col1\" class=\"data row8 col1\" >40977</td>\n",
       "    </tr>\n",
       "    <tr>\n",
       "      <th id=\"T_04091_level0_row9\" class=\"row_heading level0 row9\" >9</th>\n",
       "      <td id=\"T_04091_row9_col0\" class=\"data row9 col0\" >it</td>\n",
       "      <td id=\"T_04091_row9_col1\" class=\"data row9 col1\" >40371</td>\n",
       "    </tr>\n",
       "    <tr>\n",
       "      <th id=\"T_04091_level0_row10\" class=\"row_heading level0 row10\" >10</th>\n",
       "      <td id=\"T_04091_row10_col0\" class=\"data row10 col0\" >as</td>\n",
       "      <td id=\"T_04091_row10_col1\" class=\"data row10 col1\" >30273</td>\n",
       "    </tr>\n",
       "    <tr>\n",
       "      <th id=\"T_04091_level0_row11\" class=\"row_heading level0 row11\" >11</th>\n",
       "      <td id=\"T_04091_row11_col0\" class=\"data row11 col0\" >with</td>\n",
       "      <td id=\"T_04091_row11_col1\" class=\"data row11 col1\" >29998</td>\n",
       "    </tr>\n",
       "    <tr>\n",
       "      <th id=\"T_04091_level0_row12\" class=\"row_heading level0 row12\" >12</th>\n",
       "      <td id=\"T_04091_row12_col0\" class=\"data row12 col0\" >but</td>\n",
       "      <td id=\"T_04091_row12_col1\" class=\"data row12 col1\" >29737</td>\n",
       "    </tr>\n",
       "    <tr>\n",
       "      <th id=\"T_04091_level0_row13\" class=\"row_heading level0 row13\" >13</th>\n",
       "      <td id=\"T_04091_row13_col0\" class=\"data row13 col0\" >for</td>\n",
       "      <td id=\"T_04091_row13_col1\" class=\"data row13 col1\" >25850</td>\n",
       "    </tr>\n",
       "    <tr>\n",
       "      <th id=\"T_04091_level0_row14\" class=\"row_heading level0 row14\" >14</th>\n",
       "      <td id=\"T_04091_row14_col0\" class=\"data row14 col0\" >this</td>\n",
       "      <td id=\"T_04091_row14_col1\" class=\"data row14 col1\" >25732</td>\n",
       "    </tr>\n",
       "    <tr>\n",
       "      <th id=\"T_04091_level0_row15\" class=\"row_heading level0 row15\" >15</th>\n",
       "      <td id=\"T_04091_row15_col0\" class=\"data row15 col0\" >film</td>\n",
       "      <td id=\"T_04091_row15_col1\" class=\"data row15 col1\" >24332</td>\n",
       "    </tr>\n",
       "    <tr>\n",
       "      <th id=\"T_04091_level0_row16\" class=\"row_heading level0 row16\" >16</th>\n",
       "      <td id=\"T_04091_row16_col0\" class=\"data row16 col0\" >an</td>\n",
       "      <td id=\"T_04091_row16_col1\" class=\"data row16 col1\" >21352</td>\n",
       "    </tr>\n",
       "    <tr>\n",
       "      <th id=\"T_04091_level0_row17\" class=\"row_heading level0 row17\" >17</th>\n",
       "      <td id=\"T_04091_row17_col0\" class=\"data row17 col0\" >on</td>\n",
       "      <td id=\"T_04091_row17_col1\" class=\"data row17 col1\" >17264</td>\n",
       "    </tr>\n",
       "    <tr>\n",
       "      <th id=\"T_04091_level0_row18\" class=\"row_heading level0 row18\" >18</th>\n",
       "      <td id=\"T_04091_row18_col0\" class=\"data row18 col0\" >movie</td>\n",
       "      <td id=\"T_04091_row18_col1\" class=\"data row18 col1\" >16746</td>\n",
       "    </tr>\n",
       "    <tr>\n",
       "      <th id=\"T_04091_level0_row19\" class=\"row_heading level0 row19\" >19</th>\n",
       "      <td id=\"T_04091_row19_col0\" class=\"data row19 col0\" >be</td>\n",
       "      <td id=\"T_04091_row19_col1\" class=\"data row19 col1\" >15836</td>\n",
       "    </tr>\n",
       "  </tbody>\n",
       "</table>\n"
      ],
      "text/plain": [
       "<pandas.io.formats.style.Styler at 0x7eec0cfe9870>"
      ]
     },
     "execution_count": 40,
     "metadata": {},
     "output_type": "execute_result"
    }
   ],
   "source": [
    "from collections import Counter\n",
    "X['temp_list'] = X['reviewText'].apply(lambda x:str(x).split())\n",
    "top = Counter([item for sublist in X['temp_list'] for item in sublist])\n",
    "temp = pd.DataFrame(top.most_common(20))\n",
    "temp.columns = ['Common_words','count']\n",
    "temp.style.background_gradient(cmap='Blues')"
   ]
  },
  {
   "cell_type": "code",
   "execution_count": 41,
   "id": "16dcd72a",
   "metadata": {
    "execution": {
     "iopub.execute_input": "2023-09-04T14:23:21.021373Z",
     "iopub.status.busy": "2023-09-04T14:23:21.020965Z",
     "iopub.status.idle": "2023-09-04T14:23:21.062078Z",
     "shell.execute_reply": "2023-09-04T14:23:21.060608Z"
    },
    "papermill": {
     "duration": 0.093678,
     "end_time": "2023-09-04T14:23:21.065021",
     "exception": false,
     "start_time": "2023-09-04T14:23:20.971343",
     "status": "completed"
    },
    "tags": []
   },
   "outputs": [],
   "source": [
    "# Stopwords analysis of text feature\n",
    "topStop = pd.DataFrame(top.most_common(100))\n",
    "stoplist  = [item for item in topStop[0]]\n",
    "stoplist2 = ['the','i', 'me', 'my', 'myself', 'we', 'our', 'ours', 'ourselves', 'you', \"you're\", \"you've\",\\\n",
    "            \"you'll\", \"you'd\", 'your', 'yours', 'yourself', 'yourselves', 'he', 'him', 'his', 'himself', \\\n",
    "            'she', \"she's\", 'her', 'hers', 'herself','to', 'it', \"it's\", 'its', 'itself', 'they', 'them', 'their',\\\n",
    "            'theirs', 'themselves', 'what', 'which', 'who','will', 'whom', 'this', 'that','thats', \"that'll\", 'these', 'those', \\\n",
    "            'am', 'is', 'are', 'was', 'were', 'be', 'been', 'being', 'have', 'has', 'had', 'having','in', 'do', 'does', \\\n",
    "            'did', 'doing', 'a', 'an', 'and','as', 's', 'the', 'and', 'but', 'if', 'or', 'because', 'as', 'until', 'while', 'of', \\\n",
    "            'at', 'by', 'for', 'with', 'about', 'between', 'into', 'through', 'during', 'before', 'after',\\\n",
    "            'above', 'below', 'to', 'from', 'up', 'down', 'in', 'out', 'on', 'off', 'over', 'under', 'again', 'further',\\\n",
    "            'then', 'once', 'here', 'there', 'when', 'where', 'why', 'how', 'all', 'any', 'both', 'each', 'few', 'more',\\\n",
    "            'most', 'other', 'some', 'such', 'only', 'own', 'same', 'so','be','than', 'too', 'very', \\\n",
    "            's', 't', 'can', 'will', 'just', 'should', \"should've\", 'now','a', 'd', 'll', 'm', 'o', 're', \\\n",
    "            've', 'y','for','get','see','two','also','made','every']\n",
    "stopwords = stoplist + stoplist2\n",
    "stopwords = list(set(stopwords))"
   ]
  },
  {
   "cell_type": "code",
   "execution_count": 42,
   "id": "2d2a88ae",
   "metadata": {
    "execution": {
     "iopub.execute_input": "2023-09-04T14:23:21.162083Z",
     "iopub.status.busy": "2023-09-04T14:23:21.160636Z",
     "iopub.status.idle": "2023-09-04T14:23:32.361844Z",
     "shell.execute_reply": "2023-09-04T14:23:32.360456Z"
    },
    "papermill": {
     "duration": 11.252413,
     "end_time": "2023-09-04T14:23:32.364864",
     "exception": false,
     "start_time": "2023-09-04T14:23:21.112451",
     "status": "completed"
    },
    "tags": []
   },
   "outputs": [],
   "source": [
    "def remove_stopword(x):\n",
    "    return [y for y in x.split() if y not in stopwords]\n",
    "\n",
    "X['reviewText'] = X['reviewText'].apply(lambda x: ' '.join(remove_stopword(str(x))))\n",
    "combined_movies_test['reviewText'] = combined_movies_test['reviewText'].apply(lambda x: ' '.join(remove_stopword(str(x))))"
   ]
  },
  {
   "cell_type": "code",
   "execution_count": 43,
   "id": "a89e0478",
   "metadata": {
    "execution": {
     "iopub.execute_input": "2023-09-04T14:23:32.461427Z",
     "iopub.status.busy": "2023-09-04T14:23:32.461034Z",
     "iopub.status.idle": "2023-09-04T14:23:33.752003Z",
     "shell.execute_reply": "2023-09-04T14:23:33.750849Z"
    },
    "papermill": {
     "duration": 1.342099,
     "end_time": "2023-09-04T14:23:33.754434",
     "exception": false,
     "start_time": "2023-09-04T14:23:32.412335",
     "status": "completed"
    },
    "tags": []
   },
   "outputs": [
    {
     "data": {
      "text/html": [
       "<style type=\"text/css\">\n",
       "#T_cab89_row0_col1 {\n",
       "  background-color: #08306b;\n",
       "  color: #f1f1f1;\n",
       "}\n",
       "#T_cab89_row1_col1 {\n",
       "  background-color: #084c95;\n",
       "  color: #f1f1f1;\n",
       "}\n",
       "#T_cab89_row2_col1 {\n",
       "  background-color: #08519c;\n",
       "  color: #f1f1f1;\n",
       "}\n",
       "#T_cab89_row3_col1 {\n",
       "  background-color: #1966ad;\n",
       "  color: #f1f1f1;\n",
       "}\n",
       "#T_cab89_row4_col1 {\n",
       "  background-color: #206fb4;\n",
       "  color: #f1f1f1;\n",
       "}\n",
       "#T_cab89_row5_col1 {\n",
       "  background-color: #2474b7;\n",
       "  color: #f1f1f1;\n",
       "}\n",
       "#T_cab89_row6_col1 {\n",
       "  background-color: #2f7fbc;\n",
       "  color: #f1f1f1;\n",
       "}\n",
       "#T_cab89_row7_col1 {\n",
       "  background-color: #3282be;\n",
       "  color: #f1f1f1;\n",
       "}\n",
       "#T_cab89_row8_col1 {\n",
       "  background-color: #3989c1;\n",
       "  color: #f1f1f1;\n",
       "}\n",
       "#T_cab89_row9_col1 {\n",
       "  background-color: #4292c6;\n",
       "  color: #f1f1f1;\n",
       "}\n",
       "#T_cab89_row10_col1 {\n",
       "  background-color: #4b98ca;\n",
       "  color: #f1f1f1;\n",
       "}\n",
       "#T_cab89_row11_col1, #T_cab89_row12_col1 {\n",
       "  background-color: #4f9bcb;\n",
       "  color: #f1f1f1;\n",
       "}\n",
       "#T_cab89_row13_col1 {\n",
       "  background-color: #539ecd;\n",
       "  color: #f1f1f1;\n",
       "}\n",
       "#T_cab89_row14_col1 {\n",
       "  background-color: #72b2d8;\n",
       "  color: #f1f1f1;\n",
       "}\n",
       "#T_cab89_row15_col1 {\n",
       "  background-color: #82bbdb;\n",
       "  color: #000000;\n",
       "}\n",
       "#T_cab89_row16_col1 {\n",
       "  background-color: #84bcdb;\n",
       "  color: #000000;\n",
       "}\n",
       "#T_cab89_row17_col1 {\n",
       "  background-color: #92c4de;\n",
       "  color: #000000;\n",
       "}\n",
       "#T_cab89_row18_col1 {\n",
       "  background-color: #99c7e0;\n",
       "  color: #000000;\n",
       "}\n",
       "#T_cab89_row19_col1 {\n",
       "  background-color: #a6cee4;\n",
       "  color: #000000;\n",
       "}\n",
       "#T_cab89_row20_col1 {\n",
       "  background-color: #b2d2e8;\n",
       "  color: #000000;\n",
       "}\n",
       "#T_cab89_row21_col1 {\n",
       "  background-color: #b5d4e9;\n",
       "  color: #000000;\n",
       "}\n",
       "#T_cab89_row22_col1 {\n",
       "  background-color: #c7dcef;\n",
       "  color: #000000;\n",
       "}\n",
       "#T_cab89_row23_col1 {\n",
       "  background-color: #d4e4f4;\n",
       "  color: #000000;\n",
       "}\n",
       "#T_cab89_row24_col1 {\n",
       "  background-color: #d5e5f4;\n",
       "  color: #000000;\n",
       "}\n",
       "#T_cab89_row25_col1, #T_cab89_row26_col1 {\n",
       "  background-color: #d6e5f4;\n",
       "  color: #000000;\n",
       "}\n",
       "#T_cab89_row27_col1 {\n",
       "  background-color: #d6e6f4;\n",
       "  color: #000000;\n",
       "}\n",
       "#T_cab89_row28_col1 {\n",
       "  background-color: #d7e6f5;\n",
       "  color: #000000;\n",
       "}\n",
       "#T_cab89_row29_col1 {\n",
       "  background-color: #d9e8f5;\n",
       "  color: #000000;\n",
       "}\n",
       "#T_cab89_row30_col1 {\n",
       "  background-color: #dbe9f6;\n",
       "  color: #000000;\n",
       "}\n",
       "#T_cab89_row31_col1 {\n",
       "  background-color: #e3eef8;\n",
       "  color: #000000;\n",
       "}\n",
       "#T_cab89_row32_col1 {\n",
       "  background-color: #e7f0fa;\n",
       "  color: #000000;\n",
       "}\n",
       "#T_cab89_row33_col1 {\n",
       "  background-color: #eaf2fb;\n",
       "  color: #000000;\n",
       "}\n",
       "#T_cab89_row34_col1 {\n",
       "  background-color: #eaf3fb;\n",
       "  color: #000000;\n",
       "}\n",
       "#T_cab89_row35_col1 {\n",
       "  background-color: #ebf3fb;\n",
       "  color: #000000;\n",
       "}\n",
       "#T_cab89_row36_col1 {\n",
       "  background-color: #f2f8fd;\n",
       "  color: #000000;\n",
       "}\n",
       "#T_cab89_row37_col1 {\n",
       "  background-color: #f3f8fe;\n",
       "  color: #000000;\n",
       "}\n",
       "#T_cab89_row38_col1 {\n",
       "  background-color: #f5fafe;\n",
       "  color: #000000;\n",
       "}\n",
       "#T_cab89_row39_col1 {\n",
       "  background-color: #f7fbff;\n",
       "  color: #000000;\n",
       "}\n",
       "</style>\n",
       "<table id=\"T_cab89\">\n",
       "  <thead>\n",
       "    <tr>\n",
       "      <th class=\"blank level0\" >&nbsp;</th>\n",
       "      <th id=\"T_cab89_level0_col0\" class=\"col_heading level0 col0\" >Common_words</th>\n",
       "      <th id=\"T_cab89_level0_col1\" class=\"col_heading level0 col1\" >count</th>\n",
       "    </tr>\n",
       "  </thead>\n",
       "  <tbody>\n",
       "    <tr>\n",
       "      <th id=\"T_cab89_level0_row0\" class=\"row_heading level0 row0\" >0</th>\n",
       "      <td id=\"T_cab89_row0_col0\" class=\"data row0 col0\" >new</td>\n",
       "      <td id=\"T_cab89_row0_col1\" class=\"data row0 col1\" >3468</td>\n",
       "    </tr>\n",
       "    <tr>\n",
       "      <th id=\"T_cab89_level0_row1\" class=\"row_heading level0 row1\" >1</th>\n",
       "      <td id=\"T_cab89_row1_col0\" class=\"data row1 col0\" >performances</td>\n",
       "      <td id=\"T_cab89_row1_col1\" class=\"data row1 col1\" >3327</td>\n",
       "    </tr>\n",
       "    <tr>\n",
       "      <th id=\"T_cab89_level0_row2\" class=\"row_heading level0 row2\" >2</th>\n",
       "      <td id=\"T_cab89_row2_col0\" class=\"data row2 col0\" >something</td>\n",
       "      <td id=\"T_cab89_row2_col1\" class=\"data row2 col1\" >3302</td>\n",
       "    </tr>\n",
       "    <tr>\n",
       "      <th id=\"T_cab89_level0_row3\" class=\"row_heading level0 row3\" >3</th>\n",
       "      <td id=\"T_cab89_row3_col0\" class=\"data row3 col0\" >could</td>\n",
       "      <td id=\"T_cab89_row3_col1\" class=\"data row3 col1\" >3198</td>\n",
       "    </tr>\n",
       "    <tr>\n",
       "      <th id=\"T_cab89_level0_row4\" class=\"row_heading level0 row4\" >4</th>\n",
       "      <td id=\"T_cab89_row4_col0\" class=\"data row4 col0\" >feels</td>\n",
       "      <td id=\"T_cab89_row4_col1\" class=\"data row4 col1\" >3155</td>\n",
       "    </tr>\n",
       "    <tr>\n",
       "      <th id=\"T_cab89_level0_row5\" class=\"row_heading level0 row5\" >5</th>\n",
       "      <td id=\"T_cab89_row5_col0\" class=\"data row5 col0\" >first</td>\n",
       "      <td id=\"T_cab89_row5_col1\" class=\"data row5 col1\" >3128</td>\n",
       "    </tr>\n",
       "    <tr>\n",
       "      <th id=\"T_cab89_level0_row6\" class=\"row_heading level0 row6\" >6</th>\n",
       "      <td id=\"T_cab89_row6_col0\" class=\"data row6 col0\" >isnt</td>\n",
       "      <td id=\"T_cab89_row6_col1\" class=\"data row6 col1\" >3078</td>\n",
       "    </tr>\n",
       "    <tr>\n",
       "      <th id=\"T_cab89_level0_row7\" class=\"row_heading level0 row7\" >7</th>\n",
       "      <td id=\"T_cab89_row7_col0\" class=\"data row7 col0\" >many</td>\n",
       "      <td id=\"T_cab89_row7_col1\" class=\"data row7 col1\" >3060</td>\n",
       "    </tr>\n",
       "    <tr>\n",
       "      <th id=\"T_cab89_level0_row8\" class=\"row_heading level0 row8\" >8</th>\n",
       "      <td id=\"T_cab89_row8_col0\" class=\"data row8 col0\" >would</td>\n",
       "      <td id=\"T_cab89_row8_col1\" class=\"data row8 col1\" >3029</td>\n",
       "    </tr>\n",
       "    <tr>\n",
       "      <th id=\"T_cab89_level0_row9\" class=\"row_heading level0 row9\" >9</th>\n",
       "      <td id=\"T_cab89_row9_col0\" class=\"data row9 col0\" >better</td>\n",
       "      <td id=\"T_cab89_row9_col1\" class=\"data row9 col1\" >2983</td>\n",
       "    </tr>\n",
       "    <tr>\n",
       "      <th id=\"T_cab89_level0_row10\" class=\"row_heading level0 row10\" >10</th>\n",
       "      <td id=\"T_cab89_row10_col0\" class=\"data row10 col0\" >really</td>\n",
       "      <td id=\"T_cab89_row10_col1\" class=\"data row10 col1\" >2944</td>\n",
       "    </tr>\n",
       "    <tr>\n",
       "      <th id=\"T_cab89_level0_row11\" class=\"row_heading level0 row11\" >11</th>\n",
       "      <td id=\"T_cab89_row11_col0\" class=\"data row11 col0\" >might</td>\n",
       "      <td id=\"T_cab89_row11_col1\" class=\"data row11 col1\" >2933</td>\n",
       "    </tr>\n",
       "    <tr>\n",
       "      <th id=\"T_cab89_level0_row12\" class=\"row_heading level0 row12\" >12</th>\n",
       "      <td id=\"T_cab89_row12_col0\" class=\"data row12 col0\" >thriller</td>\n",
       "      <td id=\"T_cab89_row12_col1\" class=\"data row12 col1\" >2930</td>\n",
       "    </tr>\n",
       "    <tr>\n",
       "      <th id=\"T_cab89_level0_row13\" class=\"row_heading level0 row13\" >13</th>\n",
       "      <td id=\"T_cab89_row13_col0\" class=\"data row13 col0\" >world</td>\n",
       "      <td id=\"T_cab89_row13_col1\" class=\"data row13 col1\" >2918</td>\n",
       "    </tr>\n",
       "    <tr>\n",
       "      <th id=\"T_cab89_level0_row14\" class=\"row_heading level0 row14\" >14</th>\n",
       "      <td id=\"T_cab89_row14_col0\" class=\"data row14 col0\" >cast</td>\n",
       "      <td id=\"T_cab89_row14_col1\" class=\"data row14 col1\" >2802</td>\n",
       "    </tr>\n",
       "    <tr>\n",
       "      <th id=\"T_cab89_level0_row15\" class=\"row_heading level0 row15\" >15</th>\n",
       "      <td id=\"T_cab89_row15_col0\" class=\"data row15 col0\" >character</td>\n",
       "      <td id=\"T_cab89_row15_col1\" class=\"data row15 col1\" >2747</td>\n",
       "    </tr>\n",
       "    <tr>\n",
       "      <th id=\"T_cab89_level0_row16\" class=\"row_heading level0 row16\" >16</th>\n",
       "      <td id=\"T_cab89_row16_col0\" class=\"data row16 col0\" >horror</td>\n",
       "      <td id=\"T_cab89_row16_col1\" class=\"data row16 col1\" >2743</td>\n",
       "    </tr>\n",
       "    <tr>\n",
       "      <th id=\"T_cab89_level0_row17\" class=\"row_heading level0 row17\" >17</th>\n",
       "      <td id=\"T_cab89_row17_col0\" class=\"data row17 col0\" >yet</td>\n",
       "      <td id=\"T_cab89_row17_col1\" class=\"data row17 col1\" >2701</td>\n",
       "    </tr>\n",
       "    <tr>\n",
       "      <th id=\"T_cab89_level0_row18\" class=\"row_heading level0 row18\" >18</th>\n",
       "      <td id=\"T_cab89_row18_col0\" class=\"data row18 col0\" >entertaining</td>\n",
       "      <td id=\"T_cab89_row18_col1\" class=\"data row18 col1\" >2681</td>\n",
       "    </tr>\n",
       "    <tr>\n",
       "      <th id=\"T_cab89_level0_row19\" class=\"row_heading level0 row19\" >19</th>\n",
       "      <td id=\"T_cab89_row19_col0\" class=\"data row19 col0\" >people</td>\n",
       "      <td id=\"T_cab89_row19_col1\" class=\"data row19 col1\" >2626</td>\n",
       "    </tr>\n",
       "    <tr>\n",
       "      <th id=\"T_cab89_level0_row20\" class=\"row_heading level0 row20\" >20</th>\n",
       "      <td id=\"T_cab89_row20_col0\" class=\"data row20 col0\" >though</td>\n",
       "      <td id=\"T_cab89_row20_col1\" class=\"data row20 col1\" >2585</td>\n",
       "    </tr>\n",
       "    <tr>\n",
       "      <th id=\"T_cab89_level0_row21\" class=\"row_heading level0 row21\" >21</th>\n",
       "      <td id=\"T_cab89_row21_col0\" class=\"data row21 col0\" >without</td>\n",
       "      <td id=\"T_cab89_row21_col1\" class=\"data row21 col1\" >2568</td>\n",
       "    </tr>\n",
       "    <tr>\n",
       "      <th id=\"T_cab89_level0_row22\" class=\"row_heading level0 row22\" >22</th>\n",
       "      <td id=\"T_cab89_row22_col0\" class=\"data row22 col0\" >dont</td>\n",
       "      <td id=\"T_cab89_row22_col1\" class=\"data row22 col1\" >2493</td>\n",
       "    </tr>\n",
       "    <tr>\n",
       "      <th id=\"T_cab89_level0_row23\" class=\"row_heading level0 row23\" >23</th>\n",
       "      <td id=\"T_cab89_row23_col0\" class=\"data row23 col0\" >long</td>\n",
       "      <td id=\"T_cab89_row23_col1\" class=\"data row23 col1\" >2407</td>\n",
       "    </tr>\n",
       "    <tr>\n",
       "      <th id=\"T_cab89_level0_row24\" class=\"row_heading level0 row24\" >24</th>\n",
       "      <td id=\"T_cab89_row24_col0\" class=\"data row24 col0\" >bad</td>\n",
       "      <td id=\"T_cab89_row24_col1\" class=\"data row24 col1\" >2401</td>\n",
       "    </tr>\n",
       "    <tr>\n",
       "      <th id=\"T_cab89_level0_row25\" class=\"row_heading level0 row25\" >25</th>\n",
       "      <td id=\"T_cab89_row25_col0\" class=\"data row25 col0\" >feel</td>\n",
       "      <td id=\"T_cab89_row25_col1\" class=\"data row25 col1\" >2397</td>\n",
       "    </tr>\n",
       "    <tr>\n",
       "      <th id=\"T_cab89_level0_row26\" class=\"row_heading level0 row26\" >26</th>\n",
       "      <td id=\"T_cab89_row26_col0\" class=\"data row26 col0\" >end</td>\n",
       "      <td id=\"T_cab89_row26_col1\" class=\"data row26 col1\" >2396</td>\n",
       "    </tr>\n",
       "    <tr>\n",
       "      <th id=\"T_cab89_level0_row27\" class=\"row_heading level0 row27\" >27</th>\n",
       "      <td id=\"T_cab89_row27_col0\" class=\"data row27 col0\" >plot</td>\n",
       "      <td id=\"T_cab89_row27_col1\" class=\"data row27 col1\" >2390</td>\n",
       "    </tr>\n",
       "    <tr>\n",
       "      <th id=\"T_cab89_level0_row28\" class=\"row_heading level0 row28\" >28</th>\n",
       "      <td id=\"T_cab89_row28_col0\" class=\"data row28 col0\" >real</td>\n",
       "      <td id=\"T_cab89_row28_col1\" class=\"data row28 col1\" >2385</td>\n",
       "    </tr>\n",
       "    <tr>\n",
       "      <th id=\"T_cab89_level0_row29\" class=\"row_heading level0 row29\" >29</th>\n",
       "      <td id=\"T_cab89_row29_col0\" class=\"data row29 col0\" >look</td>\n",
       "      <td id=\"T_cab89_row29_col1\" class=\"data row29 col1\" >2370</td>\n",
       "    </tr>\n",
       "    <tr>\n",
       "      <th id=\"T_cab89_level0_row30\" class=\"row_heading level0 row30\" >30</th>\n",
       "      <td id=\"T_cab89_row30_col0\" class=\"data row30 col0\" >tale</td>\n",
       "      <td id=\"T_cab89_row30_col1\" class=\"data row30 col1\" >2359</td>\n",
       "    </tr>\n",
       "    <tr>\n",
       "      <th id=\"T_cab89_level0_row31\" class=\"row_heading level0 row31\" >31</th>\n",
       "      <td id=\"T_cab89_row31_col0\" class=\"data row31 col0\" >quite</td>\n",
       "      <td id=\"T_cab89_row31_col1\" class=\"data row31 col1\" >2312</td>\n",
       "    </tr>\n",
       "    <tr>\n",
       "      <th id=\"T_cab89_level0_row32\" class=\"row_heading level0 row32\" >32</th>\n",
       "      <td id=\"T_cab89_row32_col0\" class=\"data row32 col0\" >moments</td>\n",
       "      <td id=\"T_cab89_row32_col1\" class=\"data row32 col1\" >2285</td>\n",
       "    </tr>\n",
       "    <tr>\n",
       "      <th id=\"T_cab89_level0_row33\" class=\"row_heading level0 row33\" >33</th>\n",
       "      <td id=\"T_cab89_row33_col0\" class=\"data row33 col0\" >sense</td>\n",
       "      <td id=\"T_cab89_row33_col1\" class=\"data row33 col1\" >2265</td>\n",
       "    </tr>\n",
       "    <tr>\n",
       "      <th id=\"T_cab89_level0_row34\" class=\"row_heading level0 row34\" >34</th>\n",
       "      <td id=\"T_cab89_row34_col0\" class=\"data row34 col0\" >ever</td>\n",
       "      <td id=\"T_cab89_row34_col1\" class=\"data row34 col1\" >2262</td>\n",
       "    </tr>\n",
       "    <tr>\n",
       "      <th id=\"T_cab89_level0_row35\" class=\"row_heading level0 row35\" >35</th>\n",
       "      <td id=\"T_cab89_row35_col0\" class=\"data row35 col0\" >another</td>\n",
       "      <td id=\"T_cab89_row35_col1\" class=\"data row35 col1\" >2257</td>\n",
       "    </tr>\n",
       "    <tr>\n",
       "      <th id=\"T_cab89_level0_row36\" class=\"row_heading level0 row36\" >36</th>\n",
       "      <td id=\"T_cab89_row36_col0\" class=\"data row36 col0\" >lot</td>\n",
       "      <td id=\"T_cab89_row36_col1\" class=\"data row36 col1\" >2208</td>\n",
       "    </tr>\n",
       "    <tr>\n",
       "      <th id=\"T_cab89_level0_row37\" class=\"row_heading level0 row37\" >37</th>\n",
       "      <td id=\"T_cab89_row37_col0\" class=\"data row37 col0\" >take</td>\n",
       "      <td id=\"T_cab89_row37_col1\" class=\"data row37 col1\" >2204</td>\n",
       "    </tr>\n",
       "    <tr>\n",
       "      <th id=\"T_cab89_level0_row38\" class=\"row_heading level0 row38\" >38</th>\n",
       "      <td id=\"T_cab89_row38_col0\" class=\"data row38 col0\" >man</td>\n",
       "      <td id=\"T_cab89_row38_col1\" class=\"data row38 col1\" >2188</td>\n",
       "    </tr>\n",
       "    <tr>\n",
       "      <th id=\"T_cab89_level0_row39\" class=\"row_heading level0 row39\" >39</th>\n",
       "      <td id=\"T_cab89_row39_col0\" class=\"data row39 col0\" >kind</td>\n",
       "      <td id=\"T_cab89_row39_col1\" class=\"data row39 col1\" >2177</td>\n",
       "    </tr>\n",
       "  </tbody>\n",
       "</table>\n"
      ],
      "text/plain": [
       "<pandas.io.formats.style.Styler at 0x7eec0cfe9d50>"
      ]
     },
     "execution_count": 43,
     "metadata": {},
     "output_type": "execute_result"
    }
   ],
   "source": [
    "from collections import Counter\n",
    "X['temp_list'] = X['reviewText'].apply(lambda x:str(x).split())\n",
    "top = Counter([item for sublist in X['temp_list'] for item in sublist])\n",
    "temp = pd.DataFrame(top.most_common(40))\n",
    "temp.columns = ['Common_words','count']\n",
    "temp.style.background_gradient(cmap='Blues')"
   ]
  },
  {
   "cell_type": "markdown",
   "id": "a231964a",
   "metadata": {
    "papermill": {
     "duration": 0.047814,
     "end_time": "2023-09-04T14:23:33.850527",
     "exception": false,
     "start_time": "2023-09-04T14:23:33.802713",
     "status": "completed"
    },
    "tags": []
   },
   "source": [
    "# Tokenization & Stemming"
   ]
  },
  {
   "cell_type": "code",
   "execution_count": 44,
   "id": "4a6afd6b",
   "metadata": {
    "execution": {
     "iopub.execute_input": "2023-09-04T14:23:33.951277Z",
     "iopub.status.busy": "2023-09-04T14:23:33.949813Z",
     "iopub.status.idle": "2023-09-04T14:23:33.974565Z",
     "shell.execute_reply": "2023-09-04T14:23:33.972814Z"
    },
    "papermill": {
     "duration": 0.078252,
     "end_time": "2023-09-04T14:23:33.978084",
     "exception": false,
     "start_time": "2023-09-04T14:23:33.899832",
     "status": "completed"
    },
    "tags": []
   },
   "outputs": [],
   "source": [
    "from sklearn.feature_extraction.text import CountVectorizer,TfidfVectorizer,TfidfTransformer,ENGLISH_STOP_WORDS\n",
    "\n",
    "def text_tokenize(text):\n",
    "    tokens = re.findall(r'\\b\\w+\\b', text)\n",
    "    return tokens"
   ]
  },
  {
   "cell_type": "code",
   "execution_count": 45,
   "id": "0c3f8def",
   "metadata": {
    "execution": {
     "iopub.execute_input": "2023-09-04T14:23:34.081112Z",
     "iopub.status.busy": "2023-09-04T14:23:34.080362Z",
     "iopub.status.idle": "2023-09-04T14:23:34.134573Z",
     "shell.execute_reply": "2023-09-04T14:23:34.133379Z"
    },
    "papermill": {
     "duration": 0.108187,
     "end_time": "2023-09-04T14:23:34.137737",
     "exception": false,
     "start_time": "2023-09-04T14:23:34.029550",
     "status": "completed"
    },
    "tags": []
   },
   "outputs": [],
   "source": [
    "X.drop(columns='temp_list', inplace=True)"
   ]
  },
  {
   "cell_type": "code",
   "execution_count": 46,
   "id": "303d0fde",
   "metadata": {
    "execution": {
     "iopub.execute_input": "2023-09-04T14:23:34.245377Z",
     "iopub.status.busy": "2023-09-04T14:23:34.244957Z",
     "iopub.status.idle": "2023-09-04T14:23:44.209158Z",
     "shell.execute_reply": "2023-09-04T14:23:44.207860Z"
    },
    "papermill": {
     "duration": 10.023348,
     "end_time": "2023-09-04T14:23:44.212033",
     "exception": false,
     "start_time": "2023-09-04T14:23:34.188685",
     "status": "completed"
    },
    "tags": []
   },
   "outputs": [],
   "source": [
    "def basic_stemmer(text):\n",
    "    # Define stemming patterns\n",
    "    stemming_patterns = [\n",
    "        (r'ing\\b', ''),  # Remove 'ing' suffix\n",
    "        (r's\\b', ''),    # Remove 's' plural\n",
    "        (r'ed\\b', ''),   # Remove 'ed' past tense\n",
    "    ]\n",
    "    \n",
    "    # Apply stemming patterns to text\n",
    "    for pattern, replacement in stemming_patterns:\n",
    "        text = re.sub(pattern, replacement, text)\n",
    "    return text\n",
    "\n",
    "# Apply stemming to the text data\n",
    "X['reviewText'] = [basic_stemmer(text) for text in X['reviewText']]\n",
    "combined_movies_test['reviewText'] = [basic_stemmer(text) for text in combined_movies_test['reviewText']]"
   ]
  },
  {
   "cell_type": "code",
   "execution_count": null,
   "id": "e6ce9853",
   "metadata": {
    "papermill": {
     "duration": 0.049498,
     "end_time": "2023-09-04T14:23:44.311366",
     "exception": false,
     "start_time": "2023-09-04T14:23:44.261868",
     "status": "completed"
    },
    "tags": []
   },
   "outputs": [],
   "source": []
  },
  {
   "cell_type": "code",
   "execution_count": 47,
   "id": "b3c65585",
   "metadata": {
    "execution": {
     "iopub.execute_input": "2023-09-04T14:23:44.414624Z",
     "iopub.status.busy": "2023-09-04T14:23:44.414190Z",
     "iopub.status.idle": "2023-09-04T14:23:44.419192Z",
     "shell.execute_reply": "2023-09-04T14:23:44.417973Z"
    },
    "papermill": {
     "duration": 0.058157,
     "end_time": "2023-09-04T14:23:44.421494",
     "exception": false,
     "start_time": "2023-09-04T14:23:44.363337",
     "status": "completed"
    },
    "tags": []
   },
   "outputs": [],
   "source": [
    "#X['reviewText'] = X['reviewText'].apply(text_tokenize)\n",
    "#combined_movies_test['reviewText'] = combined_movies_test['reviewText'].apply(text_tokenize)\n",
    "#combined_movies_test['reviewText'] = combined_movies_test['reviewText'].apply(stopwords)\n",
    "#combined_movies_test['reviewText'] = combined_movies_test['reviewText'].apply(lambda x: ''.join(x))\n",
    "#X['reviewText'] = X['reviewText'].apply(lambda x: ''.join(x))"
   ]
  },
  {
   "cell_type": "code",
   "execution_count": 48,
   "id": "ad5646b6",
   "metadata": {
    "execution": {
     "iopub.execute_input": "2023-09-04T14:23:44.526068Z",
     "iopub.status.busy": "2023-09-04T14:23:44.524764Z",
     "iopub.status.idle": "2023-09-04T14:23:44.544640Z",
     "shell.execute_reply": "2023-09-04T14:23:44.543180Z"
    },
    "papermill": {
     "duration": 0.076578,
     "end_time": "2023-09-04T14:23:44.548032",
     "exception": false,
     "start_time": "2023-09-04T14:23:44.471454",
     "status": "completed"
    },
    "tags": []
   },
   "outputs": [
    {
     "data": {
      "text/html": [
       "<div>\n",
       "<style scoped>\n",
       "    .dataframe tbody tr th:only-of-type {\n",
       "        vertical-align: middle;\n",
       "    }\n",
       "\n",
       "    .dataframe tbody tr th {\n",
       "        vertical-align: top;\n",
       "    }\n",
       "\n",
       "    .dataframe thead th {\n",
       "        text-align: right;\n",
       "    }\n",
       "</style>\n",
       "<table border=\"1\" class=\"dataframe\">\n",
       "  <thead>\n",
       "    <tr style=\"text-align: right;\">\n",
       "      <th></th>\n",
       "      <th>movieid</th>\n",
       "      <th>reviewerName</th>\n",
       "      <th>isFrequentReviewer</th>\n",
       "      <th>reviewText</th>\n",
       "      <th>audienceScore</th>\n",
       "      <th>director</th>\n",
       "      <th>reviewLength</th>\n",
       "    </tr>\n",
       "  </thead>\n",
       "  <tbody>\n",
       "    <tr>\n",
       "      <th>0</th>\n",
       "      <td>marvelous_pirate</td>\n",
       "      <td>Benjamin Henry</td>\n",
       "      <td>False</td>\n",
       "      <td>henry selick first since coraline fifth stopmo...</td>\n",
       "      <td>65.0</td>\n",
       "      <td>723</td>\n",
       "      <td>11</td>\n",
       "    </tr>\n",
       "    <tr>\n",
       "      <th>1</th>\n",
       "      <td>marvelous_pirate</td>\n",
       "      <td>Sharon Foster</td>\n",
       "      <td>False</td>\n",
       "      <td>haphazard assembl seem filmmaker concern detai...</td>\n",
       "      <td>65.0</td>\n",
       "      <td>723</td>\n",
       "      <td>26</td>\n",
       "    </tr>\n",
       "    <tr>\n",
       "      <th>2</th>\n",
       "      <td>marvelous_pirate</td>\n",
       "      <td>Melinda Dunn</td>\n",
       "      <td>False</td>\n",
       "      <td>stopmotion artistry wendell wild exquisite lea...</td>\n",
       "      <td>65.0</td>\n",
       "      <td>723</td>\n",
       "      <td>17</td>\n",
       "    </tr>\n",
       "    <tr>\n",
       "      <th>3</th>\n",
       "      <td>marvelous_pirate</td>\n",
       "      <td>Mr. Wayne Smith</td>\n",
       "      <td>False</td>\n",
       "      <td>wendell wild narratively overstuff past limit ...</td>\n",
       "      <td>65.0</td>\n",
       "      <td>723</td>\n",
       "      <td>21</td>\n",
       "    </tr>\n",
       "    <tr>\n",
       "      <th>4</th>\n",
       "      <td>marvelous_pirate</td>\n",
       "      <td>Connor Nelson</td>\n",
       "      <td>False</td>\n",
       "      <td>netherworld warm invit</td>\n",
       "      <td>65.0</td>\n",
       "      <td>723</td>\n",
       "      <td>10</td>\n",
       "    </tr>\n",
       "  </tbody>\n",
       "</table>\n",
       "</div>"
      ],
      "text/plain": [
       "            movieid     reviewerName  isFrequentReviewer  \\\n",
       "0  marvelous_pirate   Benjamin Henry               False   \n",
       "1  marvelous_pirate    Sharon Foster               False   \n",
       "2  marvelous_pirate     Melinda Dunn               False   \n",
       "3  marvelous_pirate  Mr. Wayne Smith               False   \n",
       "4  marvelous_pirate    Connor Nelson               False   \n",
       "\n",
       "                                          reviewText  audienceScore  director  \\\n",
       "0  henry selick first since coraline fifth stopmo...           65.0       723   \n",
       "1  haphazard assembl seem filmmaker concern detai...           65.0       723   \n",
       "2  stopmotion artistry wendell wild exquisite lea...           65.0       723   \n",
       "3  wendell wild narratively overstuff past limit ...           65.0       723   \n",
       "4                             netherworld warm invit           65.0       723   \n",
       "\n",
       "   reviewLength  \n",
       "0            11  \n",
       "1            26  \n",
       "2            17  \n",
       "3            21  \n",
       "4            10  "
      ]
     },
     "execution_count": 48,
     "metadata": {},
     "output_type": "execute_result"
    }
   ],
   "source": [
    "X.head()"
   ]
  },
  {
   "cell_type": "code",
   "execution_count": 49,
   "id": "fc42ec50",
   "metadata": {
    "execution": {
     "iopub.execute_input": "2023-09-04T14:23:44.657981Z",
     "iopub.status.busy": "2023-09-04T14:23:44.657454Z",
     "iopub.status.idle": "2023-09-04T14:23:44.663769Z",
     "shell.execute_reply": "2023-09-04T14:23:44.662490Z"
    },
    "papermill": {
     "duration": 0.058662,
     "end_time": "2023-09-04T14:23:44.666218",
     "exception": false,
     "start_time": "2023-09-04T14:23:44.607556",
     "status": "completed"
    },
    "tags": []
   },
   "outputs": [],
   "source": [
    "#from sklearn.utils import resample\n",
    "#from sklearn.utils import shuffle\n",
    "#X = pd.DataFrame(\n",
    "#{'reviewText': X['reviewText'],\n",
    "#'sentiment': y\n",
    "#})\n",
    "#X = X['reviewText']\n",
    "#xp = X[X['sentiment'] == 1]\n",
    "#xn = X[X['sentiment'] == 0]\n",
    "\n",
    "#X = pd.concat([xp.sample(frac=0.8,random_state=200),\n",
    "#         xn.sample(frac=0.8,random_state=200)])\n",
    "#X = shuffle(X)\n",
    "#\n",
    "#Xn = resample(xn, \n",
    "#     replace=True,     # sample with replacement\n",
    "#    n_samples= xp.shape[0],    # to match majority class\n",
    "#    random_state=123) # reproducible results\n",
    " \n",
    "## Combine majority class with upsampled minority class\n",
    "#X = pd.concat([xp, Xn])"
   ]
  },
  {
   "cell_type": "code",
   "execution_count": 50,
   "id": "5afe2ac6",
   "metadata": {
    "execution": {
     "iopub.execute_input": "2023-09-04T14:23:44.764007Z",
     "iopub.status.busy": "2023-09-04T14:23:44.763502Z",
     "iopub.status.idle": "2023-09-04T14:23:44.768761Z",
     "shell.execute_reply": "2023-09-04T14:23:44.767573Z"
    },
    "papermill": {
     "duration": 0.057199,
     "end_time": "2023-09-04T14:23:44.771268",
     "exception": false,
     "start_time": "2023-09-04T14:23:44.714069",
     "status": "completed"
    },
    "tags": []
   },
   "outputs": [],
   "source": [
    "#X['sentiment'].value_counts()"
   ]
  },
  {
   "cell_type": "code",
   "execution_count": 51,
   "id": "0400b5ca",
   "metadata": {
    "execution": {
     "iopub.execute_input": "2023-09-04T14:23:44.871779Z",
     "iopub.status.busy": "2023-09-04T14:23:44.871318Z",
     "iopub.status.idle": "2023-09-04T14:23:44.876498Z",
     "shell.execute_reply": "2023-09-04T14:23:44.875178Z"
    },
    "papermill": {
     "duration": 0.060318,
     "end_time": "2023-09-04T14:23:44.879161",
     "exception": false,
     "start_time": "2023-09-04T14:23:44.818843",
     "status": "completed"
    },
    "tags": []
   },
   "outputs": [],
   "source": [
    "#y = X['sentiment']\n",
    "#X = X.drop(columns='sentiment')"
   ]
  },
  {
   "cell_type": "code",
   "execution_count": 52,
   "id": "2078ee97",
   "metadata": {
    "execution": {
     "iopub.execute_input": "2023-09-04T14:23:44.978876Z",
     "iopub.status.busy": "2023-09-04T14:23:44.978422Z",
     "iopub.status.idle": "2023-09-04T14:23:44.999213Z",
     "shell.execute_reply": "2023-09-04T14:23:44.997877Z"
    },
    "papermill": {
     "duration": 0.075108,
     "end_time": "2023-09-04T14:23:45.001868",
     "exception": false,
     "start_time": "2023-09-04T14:23:44.926760",
     "status": "completed"
    },
    "tags": []
   },
   "outputs": [
    {
     "data": {
      "text/html": [
       "<div>\n",
       "<style scoped>\n",
       "    .dataframe tbody tr th:only-of-type {\n",
       "        vertical-align: middle;\n",
       "    }\n",
       "\n",
       "    .dataframe tbody tr th {\n",
       "        vertical-align: top;\n",
       "    }\n",
       "\n",
       "    .dataframe thead th {\n",
       "        text-align: right;\n",
       "    }\n",
       "</style>\n",
       "<table border=\"1\" class=\"dataframe\">\n",
       "  <thead>\n",
       "    <tr style=\"text-align: right;\">\n",
       "      <th></th>\n",
       "      <th>movieid</th>\n",
       "      <th>reviewerName</th>\n",
       "      <th>isFrequentReviewer</th>\n",
       "      <th>reviewText</th>\n",
       "      <th>audienceScore</th>\n",
       "      <th>director</th>\n",
       "      <th>reviewLength</th>\n",
       "    </tr>\n",
       "  </thead>\n",
       "  <tbody>\n",
       "    <tr>\n",
       "      <th>0</th>\n",
       "      <td>marvelous_pirate</td>\n",
       "      <td>Benjamin Henry</td>\n",
       "      <td>False</td>\n",
       "      <td>henry selick first since coraline fifth stopmo...</td>\n",
       "      <td>65.0</td>\n",
       "      <td>723</td>\n",
       "      <td>11</td>\n",
       "    </tr>\n",
       "    <tr>\n",
       "      <th>1</th>\n",
       "      <td>marvelous_pirate</td>\n",
       "      <td>Sharon Foster</td>\n",
       "      <td>False</td>\n",
       "      <td>haphazard assembl seem filmmaker concern detai...</td>\n",
       "      <td>65.0</td>\n",
       "      <td>723</td>\n",
       "      <td>26</td>\n",
       "    </tr>\n",
       "    <tr>\n",
       "      <th>2</th>\n",
       "      <td>marvelous_pirate</td>\n",
       "      <td>Melinda Dunn</td>\n",
       "      <td>False</td>\n",
       "      <td>stopmotion artistry wendell wild exquisite lea...</td>\n",
       "      <td>65.0</td>\n",
       "      <td>723</td>\n",
       "      <td>17</td>\n",
       "    </tr>\n",
       "    <tr>\n",
       "      <th>3</th>\n",
       "      <td>marvelous_pirate</td>\n",
       "      <td>Mr. Wayne Smith</td>\n",
       "      <td>False</td>\n",
       "      <td>wendell wild narratively overstuff past limit ...</td>\n",
       "      <td>65.0</td>\n",
       "      <td>723</td>\n",
       "      <td>21</td>\n",
       "    </tr>\n",
       "    <tr>\n",
       "      <th>4</th>\n",
       "      <td>marvelous_pirate</td>\n",
       "      <td>Connor Nelson</td>\n",
       "      <td>False</td>\n",
       "      <td>netherworld warm invit</td>\n",
       "      <td>65.0</td>\n",
       "      <td>723</td>\n",
       "      <td>10</td>\n",
       "    </tr>\n",
       "    <tr>\n",
       "      <th>...</th>\n",
       "      <td>...</td>\n",
       "      <td>...</td>\n",
       "      <td>...</td>\n",
       "      <td>...</td>\n",
       "      <td>...</td>\n",
       "      <td>...</td>\n",
       "      <td>...</td>\n",
       "    </tr>\n",
       "    <tr>\n",
       "      <th>162753</th>\n",
       "      <td>frodo_baggins_norman_bates_ellen_ripley_astonish</td>\n",
       "      <td>Janice Pearson</td>\n",
       "      <td>False</td>\n",
       "      <td>broad shape end predictable could probably wri...</td>\n",
       "      <td>81.0</td>\n",
       "      <td>8072</td>\n",
       "      <td>36</td>\n",
       "    </tr>\n",
       "    <tr>\n",
       "      <th>162754</th>\n",
       "      <td>elegant_starlight_labyrinth_katniss_everdeen</td>\n",
       "      <td>Frank Farrell</td>\n",
       "      <td>False</td>\n",
       "      <td>formula design adolescent young adult spectato...</td>\n",
       "      <td>75.0</td>\n",
       "      <td>2990</td>\n",
       "      <td>19</td>\n",
       "    </tr>\n",
       "    <tr>\n",
       "      <th>162755</th>\n",
       "      <td>don_vito_corleone_neo_hannibal_lecter</td>\n",
       "      <td>Juan Taylor</td>\n",
       "      <td>False</td>\n",
       "      <td>year ive kept soft spot heart clumsy glory cou...</td>\n",
       "      <td>55.0</td>\n",
       "      <td>1595</td>\n",
       "      <td>31</td>\n",
       "    </tr>\n",
       "    <tr>\n",
       "      <th>162756</th>\n",
       "      <td>dorothy_gale_luke_skywalker_luke_skywalker</td>\n",
       "      <td>Robert Cardenas</td>\n",
       "      <td>False</td>\n",
       "      <td>powerful documentary struggle west virginian a...</td>\n",
       "      <td>75.0</td>\n",
       "      <td>3785</td>\n",
       "      <td>27</td>\n",
       "    </tr>\n",
       "    <tr>\n",
       "      <th>162757</th>\n",
       "      <td>forrest_gump_fantasy_epic</td>\n",
       "      <td>Daniel Pacheco</td>\n",
       "      <td>True</td>\n",
       "      <td>rock wildest year man music swirl together psy...</td>\n",
       "      <td>45.0</td>\n",
       "      <td>8640</td>\n",
       "      <td>24</td>\n",
       "    </tr>\n",
       "  </tbody>\n",
       "</table>\n",
       "<p>162758 rows × 7 columns</p>\n",
       "</div>"
      ],
      "text/plain": [
       "                                                 movieid     reviewerName  \\\n",
       "0                                       marvelous_pirate   Benjamin Henry   \n",
       "1                                       marvelous_pirate    Sharon Foster   \n",
       "2                                       marvelous_pirate     Melinda Dunn   \n",
       "3                                       marvelous_pirate  Mr. Wayne Smith   \n",
       "4                                       marvelous_pirate    Connor Nelson   \n",
       "...                                                  ...              ...   \n",
       "162753  frodo_baggins_norman_bates_ellen_ripley_astonish   Janice Pearson   \n",
       "162754      elegant_starlight_labyrinth_katniss_everdeen    Frank Farrell   \n",
       "162755             don_vito_corleone_neo_hannibal_lecter      Juan Taylor   \n",
       "162756        dorothy_gale_luke_skywalker_luke_skywalker  Robert Cardenas   \n",
       "162757                         forrest_gump_fantasy_epic   Daniel Pacheco   \n",
       "\n",
       "        isFrequentReviewer                                         reviewText  \\\n",
       "0                    False  henry selick first since coraline fifth stopmo...   \n",
       "1                    False  haphazard assembl seem filmmaker concern detai...   \n",
       "2                    False  stopmotion artistry wendell wild exquisite lea...   \n",
       "3                    False  wendell wild narratively overstuff past limit ...   \n",
       "4                    False                             netherworld warm invit   \n",
       "...                    ...                                                ...   \n",
       "162753               False  broad shape end predictable could probably wri...   \n",
       "162754               False  formula design adolescent young adult spectato...   \n",
       "162755               False  year ive kept soft spot heart clumsy glory cou...   \n",
       "162756               False  powerful documentary struggle west virginian a...   \n",
       "162757                True  rock wildest year man music swirl together psy...   \n",
       "\n",
       "        audienceScore  director  reviewLength  \n",
       "0                65.0       723            11  \n",
       "1                65.0       723            26  \n",
       "2                65.0       723            17  \n",
       "3                65.0       723            21  \n",
       "4                65.0       723            10  \n",
       "...               ...       ...           ...  \n",
       "162753           81.0      8072            36  \n",
       "162754           75.0      2990            19  \n",
       "162755           55.0      1595            31  \n",
       "162756           75.0      3785            27  \n",
       "162757           45.0      8640            24  \n",
       "\n",
       "[162758 rows x 7 columns]"
      ]
     },
     "execution_count": 52,
     "metadata": {},
     "output_type": "execute_result"
    }
   ],
   "source": [
    "X"
   ]
  },
  {
   "cell_type": "code",
   "execution_count": 53,
   "id": "04192b63",
   "metadata": {
    "execution": {
     "iopub.execute_input": "2023-09-04T14:23:45.106937Z",
     "iopub.status.busy": "2023-09-04T14:23:45.106424Z",
     "iopub.status.idle": "2023-09-04T14:23:45.122917Z",
     "shell.execute_reply": "2023-09-04T14:23:45.121546Z"
    },
    "papermill": {
     "duration": 0.070805,
     "end_time": "2023-09-04T14:23:45.125744",
     "exception": false,
     "start_time": "2023-09-04T14:23:45.054939",
     "status": "completed"
    },
    "tags": []
   },
   "outputs": [],
   "source": [
    "X = X.drop(columns=['movieid','reviewerName','reviewLength','director'])"
   ]
  },
  {
   "cell_type": "code",
   "execution_count": 54,
   "id": "9ac40f9d",
   "metadata": {
    "execution": {
     "iopub.execute_input": "2023-09-04T14:23:45.225872Z",
     "iopub.status.busy": "2023-09-04T14:23:45.225375Z",
     "iopub.status.idle": "2023-09-04T14:23:45.238860Z",
     "shell.execute_reply": "2023-09-04T14:23:45.237595Z"
    },
    "papermill": {
     "duration": 0.067093,
     "end_time": "2023-09-04T14:23:45.241645",
     "exception": false,
     "start_time": "2023-09-04T14:23:45.174552",
     "status": "completed"
    },
    "tags": []
   },
   "outputs": [
    {
     "data": {
      "text/html": [
       "<div>\n",
       "<style scoped>\n",
       "    .dataframe tbody tr th:only-of-type {\n",
       "        vertical-align: middle;\n",
       "    }\n",
       "\n",
       "    .dataframe tbody tr th {\n",
       "        vertical-align: top;\n",
       "    }\n",
       "\n",
       "    .dataframe thead th {\n",
       "        text-align: right;\n",
       "    }\n",
       "</style>\n",
       "<table border=\"1\" class=\"dataframe\">\n",
       "  <thead>\n",
       "    <tr style=\"text-align: right;\">\n",
       "      <th></th>\n",
       "      <th>isFrequentReviewer</th>\n",
       "      <th>reviewText</th>\n",
       "      <th>audienceScore</th>\n",
       "    </tr>\n",
       "  </thead>\n",
       "  <tbody>\n",
       "    <tr>\n",
       "      <th>0</th>\n",
       "      <td>False</td>\n",
       "      <td>henry selick first since coraline fifth stopmo...</td>\n",
       "      <td>65.0</td>\n",
       "    </tr>\n",
       "    <tr>\n",
       "      <th>1</th>\n",
       "      <td>False</td>\n",
       "      <td>haphazard assembl seem filmmaker concern detai...</td>\n",
       "      <td>65.0</td>\n",
       "    </tr>\n",
       "    <tr>\n",
       "      <th>2</th>\n",
       "      <td>False</td>\n",
       "      <td>stopmotion artistry wendell wild exquisite lea...</td>\n",
       "      <td>65.0</td>\n",
       "    </tr>\n",
       "    <tr>\n",
       "      <th>3</th>\n",
       "      <td>False</td>\n",
       "      <td>wendell wild narratively overstuff past limit ...</td>\n",
       "      <td>65.0</td>\n",
       "    </tr>\n",
       "    <tr>\n",
       "      <th>4</th>\n",
       "      <td>False</td>\n",
       "      <td>netherworld warm invit</td>\n",
       "      <td>65.0</td>\n",
       "    </tr>\n",
       "  </tbody>\n",
       "</table>\n",
       "</div>"
      ],
      "text/plain": [
       "   isFrequentReviewer                                         reviewText  \\\n",
       "0               False  henry selick first since coraline fifth stopmo...   \n",
       "1               False  haphazard assembl seem filmmaker concern detai...   \n",
       "2               False  stopmotion artistry wendell wild exquisite lea...   \n",
       "3               False  wendell wild narratively overstuff past limit ...   \n",
       "4               False                             netherworld warm invit   \n",
       "\n",
       "   audienceScore  \n",
       "0           65.0  \n",
       "1           65.0  \n",
       "2           65.0  \n",
       "3           65.0  \n",
       "4           65.0  "
      ]
     },
     "execution_count": 54,
     "metadata": {},
     "output_type": "execute_result"
    }
   ],
   "source": [
    "X.head()"
   ]
  },
  {
   "cell_type": "markdown",
   "id": "bbab90b0",
   "metadata": {
    "papermill": {
     "duration": 0.048942,
     "end_time": "2023-09-04T14:23:45.340308",
     "exception": false,
     "start_time": "2023-09-04T14:23:45.291366",
     "status": "completed"
    },
    "tags": []
   },
   "source": [
    "# TFIDF Vectorization"
   ]
  },
  {
   "cell_type": "code",
   "execution_count": 55,
   "id": "8951c374",
   "metadata": {
    "execution": {
     "iopub.execute_input": "2023-09-04T14:23:45.440212Z",
     "iopub.status.busy": "2023-09-04T14:23:45.439730Z",
     "iopub.status.idle": "2023-09-04T14:23:49.883203Z",
     "shell.execute_reply": "2023-09-04T14:23:49.881964Z"
    },
    "papermill": {
     "duration": 4.497301,
     "end_time": "2023-09-04T14:23:49.886065",
     "exception": false,
     "start_time": "2023-09-04T14:23:45.388764",
     "status": "completed"
    },
    "tags": []
   },
   "outputs": [],
   "source": [
    "from sklearn.pipeline import Pipeline\n",
    "tfidf_vectorizer = TfidfVectorizer(norm=\"l2\", smooth_idf=True)\n",
    "\n",
    "preprocessing_pipeline = Pipeline([\n",
    "    ('tfidf', tfidf_vectorizer)  # Scale the TF-IDF features\n",
    "])\n",
    "\n",
    "X = preprocessing_pipeline.fit_transform(X['reviewText'])\n",
    "test_p = preprocessing_pipeline.transform(combined_movies_test['reviewText'])"
   ]
  },
  {
   "cell_type": "markdown",
   "id": "6307809c",
   "metadata": {
    "papermill": {
     "duration": 0.048442,
     "end_time": "2023-09-04T14:23:49.983820",
     "exception": false,
     "start_time": "2023-09-04T14:23:49.935378",
     "status": "completed"
    },
    "tags": []
   },
   "source": [
    "<div style=\"color:white;\n",
    "           display:fill;\n",
    "           border-radius:5px;\n",
    "           background-color:#5642C5;\n",
    "           font-size:110%;\n",
    "           font-family:Verdana;\n",
    "           letter-spacing:0.5px\">\n",
    "\n",
    "<p style=\"padding: 10px;\n",
    "              color:white;\">For now we are ignoring the other columns in train and test data and only considering reviewText column. We can also consider other columns by transforming them with tfidf vectorization."
   ]
  },
  {
   "cell_type": "code",
   "execution_count": 56,
   "id": "b72c1bbc",
   "metadata": {
    "execution": {
     "iopub.execute_input": "2023-09-04T14:23:50.087397Z",
     "iopub.status.busy": "2023-09-04T14:23:50.087010Z",
     "iopub.status.idle": "2023-09-04T14:23:50.094383Z",
     "shell.execute_reply": "2023-09-04T14:23:50.093107Z"
    },
    "papermill": {
     "duration": 0.059769,
     "end_time": "2023-09-04T14:23:50.096818",
     "exception": false,
     "start_time": "2023-09-04T14:23:50.037049",
     "status": "completed"
    },
    "tags": []
   },
   "outputs": [
    {
     "data": {
      "text/plain": [
       "<162758x70888 sparse matrix of type '<class 'numpy.float64'>'\n",
       "\twith 1667143 stored elements in Compressed Sparse Row format>"
      ]
     },
     "execution_count": 56,
     "metadata": {},
     "output_type": "execute_result"
    }
   ],
   "source": [
    "X"
   ]
  },
  {
   "cell_type": "code",
   "execution_count": 57,
   "id": "33547fd5",
   "metadata": {
    "execution": {
     "iopub.execute_input": "2023-09-04T14:23:50.196192Z",
     "iopub.status.busy": "2023-09-04T14:23:50.195773Z",
     "iopub.status.idle": "2023-09-04T14:23:50.214908Z",
     "shell.execute_reply": "2023-09-04T14:23:50.213693Z"
    },
    "papermill": {
     "duration": 0.072711,
     "end_time": "2023-09-04T14:23:50.217752",
     "exception": false,
     "start_time": "2023-09-04T14:23:50.145041",
     "status": "completed"
    },
    "tags": []
   },
   "outputs": [],
   "source": [
    "from sklearn.compose import ColumnTransformer\n",
    "transformer = ColumnTransformer([(\"id\", TfidfVectorizer(),'movieid'),\n",
    "                                 (\"reviewtf\", TfidfVectorizer(ngram_range=(1,2),max_features=5000), 'reviewText'),\n",
    "                                 (\"rNtf\", TfidfVectorizer(), 'reviewerName')],\n",
    "                               remainder='passthrough',n_jobs=-1, verbose=True)"
   ]
  },
  {
   "cell_type": "code",
   "execution_count": 58,
   "id": "8e0212b5",
   "metadata": {
    "execution": {
     "iopub.execute_input": "2023-09-04T14:23:50.318754Z",
     "iopub.status.busy": "2023-09-04T14:23:50.318375Z",
     "iopub.status.idle": "2023-09-04T14:23:50.323412Z",
     "shell.execute_reply": "2023-09-04T14:23:50.321974Z"
    },
    "papermill": {
     "duration": 0.058287,
     "end_time": "2023-09-04T14:23:50.325864",
     "exception": false,
     "start_time": "2023-09-04T14:23:50.267577",
     "status": "completed"
    },
    "tags": []
   },
   "outputs": [],
   "source": [
    "#X = transformer.fit_transform(X)\n",
    "#test_p = transformer.transform(combined_movies_test)\n",
    "#X.shape"
   ]
  },
  {
   "cell_type": "markdown",
   "id": "c66f86a0",
   "metadata": {
    "papermill": {
     "duration": 0.047941,
     "end_time": "2023-09-04T14:23:50.422538",
     "exception": false,
     "start_time": "2023-09-04T14:23:50.374597",
     "status": "completed"
    },
    "tags": []
   },
   "source": [
    "# Dimensionality Reduction using SVD\n",
    "\n",
    "<div style=\"color:white;\n",
    "           display:fill;\n",
    "           border-radius:5px;\n",
    "           background-color:#5642C5;\n",
    "           font-size:110%;\n",
    "           font-family:Verdana;\n",
    "           letter-spacing:0.5px\">\n",
    "\n",
    "<p style=\"padding: 10px;\n",
    "              color:white;\">We should have a balanced number of features for training a model. With increased features, model tends to overfit. With fairly low features, model tends to underfit.\n",
    "\n",
    "Here after TFIDF we want to reduce the dimensionality of the data. This also reduces computational cost.</p></div>"
   ]
  },
  {
   "cell_type": "code",
   "execution_count": 59,
   "id": "28017e8a",
   "metadata": {
    "execution": {
     "iopub.execute_input": "2023-09-04T14:23:50.521036Z",
     "iopub.status.busy": "2023-09-04T14:23:50.520563Z",
     "iopub.status.idle": "2023-09-04T14:23:50.805101Z",
     "shell.execute_reply": "2023-09-04T14:23:50.803850Z"
    },
    "papermill": {
     "duration": 0.337593,
     "end_time": "2023-09-04T14:23:50.808291",
     "exception": false,
     "start_time": "2023-09-04T14:23:50.470698",
     "status": "completed"
    },
    "tags": []
   },
   "outputs": [],
   "source": [
    "#linear dimensionality reduction\n",
    "from sklearn.decomposition import TruncatedSVD\n",
    "\n",
    "# Create an SVD instance\n",
    "#svd = TruncatedSVD(n_components=500)\n",
    "#X = svd.fit_transform(X)\n",
    "#test_p = svd.transform(test_p)"
   ]
  },
  {
   "cell_type": "code",
   "execution_count": 60,
   "id": "40b681a2",
   "metadata": {
    "execution": {
     "iopub.execute_input": "2023-09-04T14:23:50.909771Z",
     "iopub.status.busy": "2023-09-04T14:23:50.909383Z",
     "iopub.status.idle": "2023-09-04T14:23:50.914688Z",
     "shell.execute_reply": "2023-09-04T14:23:50.913263Z"
    },
    "papermill": {
     "duration": 0.058789,
     "end_time": "2023-09-04T14:23:50.917297",
     "exception": false,
     "start_time": "2023-09-04T14:23:50.858508",
     "status": "completed"
    },
    "tags": []
   },
   "outputs": [],
   "source": [
    "#non_text_features = np.array([combined_movies_data['reviewLength'],combined_movies_data['director'],combined_movies_data['audienceScore']]).T  # Transpose to match dimensions\n",
    "\n",
    "# Concatenate the TF-IDF matrix and non-text feature matrix horizontally\n",
    "#X = np.hstack((X, non_text_features))"
   ]
  },
  {
   "cell_type": "code",
   "execution_count": 61,
   "id": "a117291a",
   "metadata": {
    "execution": {
     "iopub.execute_input": "2023-09-04T14:23:51.022876Z",
     "iopub.status.busy": "2023-09-04T14:23:51.022280Z",
     "iopub.status.idle": "2023-09-04T14:23:51.028412Z",
     "shell.execute_reply": "2023-09-04T14:23:51.027203Z"
    },
    "papermill": {
     "duration": 0.062754,
     "end_time": "2023-09-04T14:23:51.031034",
     "exception": false,
     "start_time": "2023-09-04T14:23:50.968280",
     "status": "completed"
    },
    "tags": []
   },
   "outputs": [],
   "source": [
    "#non_text_features = np.array([combined_movies_test['reviewLength'],combined_movies_test['director'],combined_movies_test['audienceScore']]).T  # Transpose to match dimensions\n",
    "\n",
    "# Concatenate the TF-IDF matrix and non-text feature matrix horizontally\n",
    "#test_p = np.hstack((test_p, non_text_features))"
   ]
  },
  {
   "cell_type": "markdown",
   "id": "c89d0fe8",
   "metadata": {
    "papermill": {
     "duration": 0.048243,
     "end_time": "2023-09-04T14:23:51.129072",
     "exception": false,
     "start_time": "2023-09-04T14:23:51.080829",
     "status": "completed"
    },
    "tags": []
   },
   "source": [
    "# Train Test Split"
   ]
  },
  {
   "cell_type": "code",
   "execution_count": 62,
   "id": "be558dda",
   "metadata": {
    "execution": {
     "iopub.execute_input": "2023-09-04T14:23:51.230359Z",
     "iopub.status.busy": "2023-09-04T14:23:51.229892Z",
     "iopub.status.idle": "2023-09-04T14:23:51.342661Z",
     "shell.execute_reply": "2023-09-04T14:23:51.341238Z"
    },
    "papermill": {
     "duration": 0.167217,
     "end_time": "2023-09-04T14:23:51.345493",
     "exception": false,
     "start_time": "2023-09-04T14:23:51.178276",
     "status": "completed"
    },
    "tags": []
   },
   "outputs": [],
   "source": [
    "# Split the data into training and validation sets\n",
    "from sklearn.model_selection import train_test_split, GridSearchCV\n",
    "X_train, X_test, y_train, y_test = train_test_split(X, y, test_size=0.2, random_state=42, stratify=y)"
   ]
  },
  {
   "cell_type": "markdown",
   "id": "d71d92a4",
   "metadata": {
    "papermill": {
     "duration": 0.049007,
     "end_time": "2023-09-04T14:23:51.443376",
     "exception": false,
     "start_time": "2023-09-04T14:23:51.394369",
     "status": "completed"
    },
    "tags": []
   },
   "source": [
    "<span style=\"color:\t#5642C5; font-size:30px\">**<u>building baseline model</u>**</span>"
   ]
  },
  {
   "cell_type": "code",
   "execution_count": 63,
   "id": "0cb39ed7",
   "metadata": {
    "execution": {
     "iopub.execute_input": "2023-09-04T14:23:51.611857Z",
     "iopub.status.busy": "2023-09-04T14:23:51.611442Z",
     "iopub.status.idle": "2023-09-04T14:23:52.034044Z",
     "shell.execute_reply": "2023-09-04T14:23:52.032671Z"
    },
    "papermill": {
     "duration": 0.476055,
     "end_time": "2023-09-04T14:23:52.037483",
     "exception": false,
     "start_time": "2023-09-04T14:23:51.561428",
     "status": "completed"
    },
    "tags": []
   },
   "outputs": [],
   "source": [
    "from sklearn.metrics import accuracy_score,precision_score,recall_score\n",
    "from sklearn.metrics import classification_report\n",
    "from sklearn.linear_model import LogisticRegression\n",
    "from sklearn.neighbors import KNeighborsClassifier\n",
    "from sklearn.svm import LinearSVC\n",
    "from xgboost import XGBClassifier\n",
    "from sklearn.tree import DecisionTreeClassifier\n",
    "\n",
    "from sklearn.ensemble import RandomForestClassifier,GradientBoostingClassifier,AdaBoostClassifier,VotingClassifier"
   ]
  },
  {
   "cell_type": "markdown",
   "id": "560cf157",
   "metadata": {
    "papermill": {
     "duration": 0.048435,
     "end_time": "2023-09-04T14:23:52.135151",
     "exception": false,
     "start_time": "2023-09-04T14:23:52.086716",
     "status": "completed"
    },
    "tags": []
   },
   "source": [
    "The beow function allows us to make prediction on train and test dataset by taking a model as input"
   ]
  },
  {
   "cell_type": "code",
   "execution_count": 64,
   "id": "5b96e0e5",
   "metadata": {
    "execution": {
     "iopub.execute_input": "2023-09-04T14:23:52.238046Z",
     "iopub.status.busy": "2023-09-04T14:23:52.237013Z",
     "iopub.status.idle": "2023-09-04T14:23:52.249393Z",
     "shell.execute_reply": "2023-09-04T14:23:52.248285Z"
    },
    "papermill": {
     "duration": 0.06679,
     "end_time": "2023-09-04T14:23:52.251924",
     "exception": false,
     "start_time": "2023-09-04T14:23:52.185134",
     "status": "completed"
    },
    "tags": []
   },
   "outputs": [],
   "source": [
    "from sklearn.metrics import confusion_matrix\n",
    "def plot_confusion_matrix(confusion_matrix, class_names):\n",
    "    fig, ax = plt.subplots(figsize=(8, 6))\n",
    "    im = ax.imshow(confusion_matrix, interpolation='nearest', cmap=plt.cm.Blues)\n",
    "    \n",
    "    ax.figure.colorbar(im, ax=ax)\n",
    "    \n",
    "    ax.set(xticks=np.arange(confusion_matrix.shape[1]),\n",
    "           yticks=np.arange(confusion_matrix.shape[0]),\n",
    "           xticklabels=class_names, yticklabels=class_names,\n",
    "           title='Confusion Matrix',\n",
    "           ylabel='True label',\n",
    "           xlabel='Predicted label')\n",
    "\n",
    "    plt.show()\n",
    "\n",
    "def makePredictions(model):\n",
    "    predictions = model.predict(X_train)\n",
    "    print(type(model).__name__,' Train Prediction Score')\n",
    "    print(classification_report(y_train,predictions))\n",
    "    confusion = confusion_matrix(y_train, predictions)\n",
    "    class_names = [\"Class 0\", \"Class 1\"]  # Replace with your actual class names\n",
    "    plot_confusion_matrix(confusion, class_names)\n",
    "    predictions = model.predict(X_test)\n",
    "    print(type(model).__name__,' Test Prediction Score')\n",
    "    print(classification_report(y_test,predictions))\n",
    "    confusion = confusion_matrix(y_test, predictions)\n",
    "    class_names = [\"Class 0\", \"Class 1\"]  # Replace with your actual class names\n",
    "    plot_confusion_matrix(confusion, class_names)"
   ]
  },
  {
   "cell_type": "code",
   "execution_count": 65,
   "id": "9d71c788",
   "metadata": {
    "execution": {
     "iopub.execute_input": "2023-09-04T14:23:52.352542Z",
     "iopub.status.busy": "2023-09-04T14:23:52.351858Z",
     "iopub.status.idle": "2023-09-04T14:23:55.467474Z",
     "shell.execute_reply": "2023-09-04T14:23:55.466332Z"
    },
    "papermill": {
     "duration": 3.169028,
     "end_time": "2023-09-04T14:23:55.470188",
     "exception": false,
     "start_time": "2023-09-04T14:23:52.301160",
     "status": "completed"
    },
    "scrolled": true,
    "tags": []
   },
   "outputs": [
    {
     "data": {
      "text/html": [
       "<style>#sk-container-id-1 {color: black;background-color: white;}#sk-container-id-1 pre{padding: 0;}#sk-container-id-1 div.sk-toggleable {background-color: white;}#sk-container-id-1 label.sk-toggleable__label {cursor: pointer;display: block;width: 100%;margin-bottom: 0;padding: 0.3em;box-sizing: border-box;text-align: center;}#sk-container-id-1 label.sk-toggleable__label-arrow:before {content: \"▸\";float: left;margin-right: 0.25em;color: #696969;}#sk-container-id-1 label.sk-toggleable__label-arrow:hover:before {color: black;}#sk-container-id-1 div.sk-estimator:hover label.sk-toggleable__label-arrow:before {color: black;}#sk-container-id-1 div.sk-toggleable__content {max-height: 0;max-width: 0;overflow: hidden;text-align: left;background-color: #f0f8ff;}#sk-container-id-1 div.sk-toggleable__content pre {margin: 0.2em;color: black;border-radius: 0.25em;background-color: #f0f8ff;}#sk-container-id-1 input.sk-toggleable__control:checked~div.sk-toggleable__content {max-height: 200px;max-width: 100%;overflow: auto;}#sk-container-id-1 input.sk-toggleable__control:checked~label.sk-toggleable__label-arrow:before {content: \"▾\";}#sk-container-id-1 div.sk-estimator input.sk-toggleable__control:checked~label.sk-toggleable__label {background-color: #d4ebff;}#sk-container-id-1 div.sk-label input.sk-toggleable__control:checked~label.sk-toggleable__label {background-color: #d4ebff;}#sk-container-id-1 input.sk-hidden--visually {border: 0;clip: rect(1px 1px 1px 1px);clip: rect(1px, 1px, 1px, 1px);height: 1px;margin: -1px;overflow: hidden;padding: 0;position: absolute;width: 1px;}#sk-container-id-1 div.sk-estimator {font-family: monospace;background-color: #f0f8ff;border: 1px dotted black;border-radius: 0.25em;box-sizing: border-box;margin-bottom: 0.5em;}#sk-container-id-1 div.sk-estimator:hover {background-color: #d4ebff;}#sk-container-id-1 div.sk-parallel-item::after {content: \"\";width: 100%;border-bottom: 1px solid gray;flex-grow: 1;}#sk-container-id-1 div.sk-label:hover label.sk-toggleable__label {background-color: #d4ebff;}#sk-container-id-1 div.sk-serial::before {content: \"\";position: absolute;border-left: 1px solid gray;box-sizing: border-box;top: 0;bottom: 0;left: 50%;z-index: 0;}#sk-container-id-1 div.sk-serial {display: flex;flex-direction: column;align-items: center;background-color: white;padding-right: 0.2em;padding-left: 0.2em;position: relative;}#sk-container-id-1 div.sk-item {position: relative;z-index: 1;}#sk-container-id-1 div.sk-parallel {display: flex;align-items: stretch;justify-content: center;background-color: white;position: relative;}#sk-container-id-1 div.sk-item::before, #sk-container-id-1 div.sk-parallel-item::before {content: \"\";position: absolute;border-left: 1px solid gray;box-sizing: border-box;top: 0;bottom: 0;left: 50%;z-index: -1;}#sk-container-id-1 div.sk-parallel-item {display: flex;flex-direction: column;z-index: 1;position: relative;background-color: white;}#sk-container-id-1 div.sk-parallel-item:first-child::after {align-self: flex-end;width: 50%;}#sk-container-id-1 div.sk-parallel-item:last-child::after {align-self: flex-start;width: 50%;}#sk-container-id-1 div.sk-parallel-item:only-child::after {width: 0;}#sk-container-id-1 div.sk-dashed-wrapped {border: 1px dashed gray;margin: 0 0.4em 0.5em 0.4em;box-sizing: border-box;padding-bottom: 0.4em;background-color: white;}#sk-container-id-1 div.sk-label label {font-family: monospace;font-weight: bold;display: inline-block;line-height: 1.2em;}#sk-container-id-1 div.sk-label-container {text-align: center;}#sk-container-id-1 div.sk-container {/* jupyter's `normalize.less` sets `[hidden] { display: none; }` but bootstrap.min.css set `[hidden] { display: none !important; }` so we also need the `!important` here to be able to override the default hidden behavior on the sphinx rendered scikit-learn.org. See: https://github.com/scikit-learn/scikit-learn/issues/21755 */display: inline-block !important;position: relative;}#sk-container-id-1 div.sk-text-repr-fallback {display: none;}</style><div id=\"sk-container-id-1\" class=\"sk-top-container\"><div class=\"sk-text-repr-fallback\"><pre>LogisticRegression(C=2, max_iter=2000, solver=&#x27;saga&#x27;, tol=1e-05)</pre><b>In a Jupyter environment, please rerun this cell to show the HTML representation or trust the notebook. <br />On GitHub, the HTML representation is unable to render, please try loading this page with nbviewer.org.</b></div><div class=\"sk-container\" hidden><div class=\"sk-item\"><div class=\"sk-estimator sk-toggleable\"><input class=\"sk-toggleable__control sk-hidden--visually\" id=\"sk-estimator-id-1\" type=\"checkbox\" checked><label for=\"sk-estimator-id-1\" class=\"sk-toggleable__label sk-toggleable__label-arrow\">LogisticRegression</label><div class=\"sk-toggleable__content\"><pre>LogisticRegression(C=2, max_iter=2000, solver=&#x27;saga&#x27;, tol=1e-05)</pre></div></div></div></div></div>"
      ],
      "text/plain": [
       "LogisticRegression(C=2, max_iter=2000, solver='saga', tol=1e-05)"
      ]
     },
     "execution_count": 65,
     "metadata": {},
     "output_type": "execute_result"
    }
   ],
   "source": [
    "lr = LogisticRegression(solver=\"saga\", fit_intercept=True, C=2, penalty=\"l2\",tol=1e-05,max_iter=2000)\n",
    "\n",
    "lr.fit(X_train,y_train)"
   ]
  },
  {
   "cell_type": "markdown",
   "id": "e76b4f65",
   "metadata": {
    "papermill": {
     "duration": 0.052939,
     "end_time": "2023-09-04T14:23:55.572848",
     "exception": false,
     "start_time": "2023-09-04T14:23:55.519909",
     "status": "completed"
    },
    "tags": []
   },
   "source": [
    "We will use the below metrics to evaluate our model:\n",
    "\n",
    "![](https://www.tutorialexample.com/wp-content/uploads/2022/01/how-to-compute-accuracy-precision-recall-and-f1-score-in-machine-learning.png)\n",
    "\n"
   ]
  },
  {
   "cell_type": "code",
   "execution_count": 66,
   "id": "42cb8e42",
   "metadata": {
    "execution": {
     "iopub.execute_input": "2023-09-04T14:23:55.675411Z",
     "iopub.status.busy": "2023-09-04T14:23:55.674108Z",
     "iopub.status.idle": "2023-09-04T14:23:56.711214Z",
     "shell.execute_reply": "2023-09-04T14:23:56.709730Z"
    },
    "papermill": {
     "duration": 1.092935,
     "end_time": "2023-09-04T14:23:56.715135",
     "exception": false,
     "start_time": "2023-09-04T14:23:55.622200",
     "status": "completed"
    },
    "tags": []
   },
   "outputs": [
    {
     "name": "stdout",
     "output_type": "stream",
     "text": [
      "LogisticRegression  Train Prediction Score\n",
      "              precision    recall  f1-score   support\n",
      "\n",
      "           0       0.84      0.66      0.74     43197\n",
      "           1       0.85      0.94      0.89     87009\n",
      "\n",
      "    accuracy                           0.85    130206\n",
      "   macro avg       0.85      0.80      0.82    130206\n",
      "weighted avg       0.85      0.85      0.84    130206\n",
      "\n"
     ]
    },
    {
     "data": {
      "image/png": "[encoded data removed]",
      "text/plain": [
       "<Figure size 800x600 with 2 Axes>"
      ]
     },
     "metadata": {},
     "output_type": "display_data"
    },
    {
     "name": "stdout",
     "output_type": "stream",
     "text": [
      "LogisticRegression  Test Prediction Score\n",
      "              precision    recall  f1-score   support\n",
      "\n",
      "           0       0.74      0.55      0.63     10800\n",
      "           1       0.80      0.90      0.85     21752\n",
      "\n",
      "    accuracy                           0.79     32552\n",
      "   macro avg       0.77      0.73      0.74     32552\n",
      "weighted avg       0.78      0.79      0.78     32552\n",
      "\n"
     ]
    },
    {
     "data": {
      "image/png": "[encoded data removed]",
      "text/plain": [
       "<Figure size 800x600 with 2 Axes>"
      ]
     },
     "metadata": {},
     "output_type": "display_data"
    }
   ],
   "source": [
    "makePredictions(lr)"
   ]
  },
  {
   "cell_type": "code",
   "execution_count": 67,
   "id": "27eceaac",
   "metadata": {
    "execution": {
     "iopub.execute_input": "2023-09-04T14:23:56.841637Z",
     "iopub.status.busy": "2023-09-04T14:23:56.840529Z",
     "iopub.status.idle": "2023-09-04T14:23:56.847209Z",
     "shell.execute_reply": "2023-09-04T14:23:56.845424Z"
    },
    "papermill": {
     "duration": 0.067984,
     "end_time": "2023-09-04T14:23:56.850379",
     "exception": false,
     "start_time": "2023-09-04T14:23:56.782395",
     "status": "completed"
    },
    "tags": []
   },
   "outputs": [],
   "source": [
    "from sklearn.model_selection import cross_val_score\n",
    "#scores = cross_val_score(lr, X_train, y_train, cv=5, scoring='accuracy')\n",
    "#print(scores)"
   ]
  },
  {
   "cell_type": "markdown",
   "id": "39f2640d",
   "metadata": {
    "papermill": {
     "duration": 0.053467,
     "end_time": "2023-09-04T14:23:56.959432",
     "exception": false,
     "start_time": "2023-09-04T14:23:56.905965",
     "status": "completed"
    },
    "tags": []
   },
   "source": [
    "<span style=\"color:\t#5642C5; font-size:30px\">**<u>Apply KNN and SVM models</u>**</span>"
   ]
  },
  {
   "cell_type": "code",
   "execution_count": 68,
   "id": "b8ce9d17",
   "metadata": {
    "execution": {
     "iopub.execute_input": "2023-09-04T14:23:57.072133Z",
     "iopub.status.busy": "2023-09-04T14:23:57.071153Z",
     "iopub.status.idle": "2023-09-04T14:23:57.076891Z",
     "shell.execute_reply": "2023-09-04T14:23:57.075808Z"
    },
    "papermill": {
     "duration": 0.064067,
     "end_time": "2023-09-04T14:23:57.079492",
     "exception": false,
     "start_time": "2023-09-04T14:23:57.015425",
     "status": "completed"
    },
    "tags": []
   },
   "outputs": [],
   "source": [
    "# Create the KNN model\n",
    "knn_model = KNeighborsClassifier(n_neighbors=3)"
   ]
  },
  {
   "cell_type": "code",
   "execution_count": 69,
   "id": "c361ddfb",
   "metadata": {
    "execution": {
     "iopub.execute_input": "2023-09-04T14:23:57.192038Z",
     "iopub.status.busy": "2023-09-04T14:23:57.191011Z",
     "iopub.status.idle": "2023-09-04T14:23:57.196258Z",
     "shell.execute_reply": "2023-09-04T14:23:57.195141Z"
    },
    "papermill": {
     "duration": 0.065221,
     "end_time": "2023-09-04T14:23:57.198849",
     "exception": false,
     "start_time": "2023-09-04T14:23:57.133628",
     "status": "completed"
    },
    "tags": []
   },
   "outputs": [],
   "source": [
    "# Train the KNN model with the binary target variable\n",
    "#knn_model.fit(X_train, y_train)"
   ]
  },
  {
   "cell_type": "code",
   "execution_count": 70,
   "id": "2ec31680",
   "metadata": {
    "execution": {
     "iopub.execute_input": "2023-09-04T14:23:57.310911Z",
     "iopub.status.busy": "2023-09-04T14:23:57.309901Z",
     "iopub.status.idle": "2023-09-04T14:23:57.315217Z",
     "shell.execute_reply": "2023-09-04T14:23:57.314086Z"
    },
    "papermill": {
     "duration": 0.065053,
     "end_time": "2023-09-04T14:23:57.317926",
     "exception": false,
     "start_time": "2023-09-04T14:23:57.252873",
     "status": "completed"
    },
    "tags": []
   },
   "outputs": [],
   "source": [
    "#makePredictions(knn_model)"
   ]
  },
  {
   "cell_type": "code",
   "execution_count": 71,
   "id": "d59ede61",
   "metadata": {
    "execution": {
     "iopub.execute_input": "2023-09-04T14:23:57.429032Z",
     "iopub.status.busy": "2023-09-04T14:23:57.428611Z",
     "iopub.status.idle": "2023-09-04T14:23:57.433106Z",
     "shell.execute_reply": "2023-09-04T14:23:57.432006Z"
    },
    "papermill": {
     "duration": 0.065057,
     "end_time": "2023-09-04T14:23:57.435931",
     "exception": false,
     "start_time": "2023-09-04T14:23:57.370874",
     "status": "completed"
    },
    "tags": []
   },
   "outputs": [],
   "source": [
    "#knn_y_pred = knn_model.predict(X_test)"
   ]
  },
  {
   "cell_type": "code",
   "execution_count": 72,
   "id": "dc0eaf24",
   "metadata": {
    "execution": {
     "iopub.execute_input": "2023-09-04T14:23:57.546225Z",
     "iopub.status.busy": "2023-09-04T14:23:57.544964Z",
     "iopub.status.idle": "2023-09-04T14:23:57.551365Z",
     "shell.execute_reply": "2023-09-04T14:23:57.550038Z"
    },
    "papermill": {
     "duration": 0.064179,
     "end_time": "2023-09-04T14:23:57.554388",
     "exception": false,
     "start_time": "2023-09-04T14:23:57.490209",
     "status": "completed"
    },
    "tags": []
   },
   "outputs": [],
   "source": [
    "#knn_accuracy = accuracy_score(y_test, knn_y_pred)\n",
    "#knn_classification_report = classification_report(y_test, knn_y_pred)\n",
    "\n",
    "# Print the results\n",
    "#print(\"KNN Accuracy:\", knn_accuracy)\n",
    "#print(\"KNN Classification Report:\")\n",
    "#print(knn_classification_report)"
   ]
  },
  {
   "cell_type": "code",
   "execution_count": 73,
   "id": "7ce120fe",
   "metadata": {
    "execution": {
     "iopub.execute_input": "2023-09-04T14:23:57.661362Z",
     "iopub.status.busy": "2023-09-04T14:23:57.660671Z",
     "iopub.status.idle": "2023-09-04T14:23:57.665631Z",
     "shell.execute_reply": "2023-09-04T14:23:57.664666Z"
    },
    "papermill": {
     "duration": 0.060358,
     "end_time": "2023-09-04T14:23:57.667743",
     "exception": false,
     "start_time": "2023-09-04T14:23:57.607385",
     "status": "completed"
    },
    "tags": []
   },
   "outputs": [],
   "source": [
    "#from sklearn.svm import SVC"
   ]
  },
  {
   "cell_type": "code",
   "execution_count": 74,
   "id": "1a323154",
   "metadata": {
    "execution": {
     "iopub.execute_input": "2023-09-04T14:23:57.771545Z",
     "iopub.status.busy": "2023-09-04T14:23:57.771060Z",
     "iopub.status.idle": "2023-09-04T14:23:57.776509Z",
     "shell.execute_reply": "2023-09-04T14:23:57.775201Z"
    },
    "papermill": {
     "duration": 0.060016,
     "end_time": "2023-09-04T14:23:57.778934",
     "exception": false,
     "start_time": "2023-09-04T14:23:57.718918",
     "status": "completed"
    },
    "tags": []
   },
   "outputs": [],
   "source": [
    "# Create the SVM model with max_iter set to a specific value (e.g., 1000)\n",
    "#svm_model = SVC(kernel='linear', C=1, max_iter=1000)\n",
    "# Train the SVM model with the binary target variable\n",
    "#svm_model.fit(X_train, y_train)"
   ]
  },
  {
   "cell_type": "code",
   "execution_count": 75,
   "id": "2e6b05f4",
   "metadata": {
    "execution": {
     "iopub.execute_input": "2023-09-04T14:23:57.885264Z",
     "iopub.status.busy": "2023-09-04T14:23:57.884739Z",
     "iopub.status.idle": "2023-09-04T14:23:57.890269Z",
     "shell.execute_reply": "2023-09-04T14:23:57.888684Z"
    },
    "papermill": {
     "duration": 0.063817,
     "end_time": "2023-09-04T14:23:57.893950",
     "exception": false,
     "start_time": "2023-09-04T14:23:57.830133",
     "status": "completed"
    },
    "tags": []
   },
   "outputs": [],
   "source": [
    "# Make predictions using the SVM model\n",
    "#svm_y_pred = svm_model.predict(X_test)"
   ]
  },
  {
   "cell_type": "code",
   "execution_count": 76,
   "id": "e5c79bb2",
   "metadata": {
    "execution": {
     "iopub.execute_input": "2023-09-04T14:23:57.998997Z",
     "iopub.status.busy": "2023-09-04T14:23:57.998075Z",
     "iopub.status.idle": "2023-09-04T14:23:58.005525Z",
     "shell.execute_reply": "2023-09-04T14:23:58.003644Z"
    },
    "papermill": {
     "duration": 0.064537,
     "end_time": "2023-09-04T14:23:58.009644",
     "exception": false,
     "start_time": "2023-09-04T14:23:57.945107",
     "status": "completed"
    },
    "tags": []
   },
   "outputs": [],
   "source": [
    "#svm_accuracy = accuracy_score(y_test, svm_y_pred)\n",
    "#svm_classification_report = classification_report(y_test, svm_y_pred)\n",
    "\n",
    "#print(\"\\nSVM Accuracy:\", svm_accuracy)\n",
    "#print(\"SVM Classification Report:\")\n",
    "#print(svm_classification_report)"
   ]
  },
  {
   "cell_type": "markdown",
   "id": "efc599a7",
   "metadata": {
    "papermill": {
     "duration": 0.050134,
     "end_time": "2023-09-04T14:23:58.111720",
     "exception": false,
     "start_time": "2023-09-04T14:23:58.061586",
     "status": "completed"
    },
    "tags": []
   },
   "source": [
    "<span style=\"color:\t#5642C5; font-size:30px\">**<u>CART,Bagging and Boosting</u>**</span>"
   ]
  },
  {
   "cell_type": "code",
   "execution_count": 77,
   "id": "f2dcae41",
   "metadata": {
    "execution": {
     "iopub.execute_input": "2023-09-04T14:23:58.215986Z",
     "iopub.status.busy": "2023-09-04T14:23:58.215470Z",
     "iopub.status.idle": "2023-09-04T14:23:58.220234Z",
     "shell.execute_reply": "2023-09-04T14:23:58.219203Z"
    },
    "papermill": {
     "duration": 0.060192,
     "end_time": "2023-09-04T14:23:58.222576",
     "exception": false,
     "start_time": "2023-09-04T14:23:58.162384",
     "status": "completed"
    },
    "tags": []
   },
   "outputs": [],
   "source": [
    "# Create the CART model (Decision Tree)\n",
    "#cart_model = DecisionTreeClassifier()"
   ]
  },
  {
   "cell_type": "code",
   "execution_count": 78,
   "id": "afa539f0",
   "metadata": {
    "execution": {
     "iopub.execute_input": "2023-09-04T14:23:58.327326Z",
     "iopub.status.busy": "2023-09-04T14:23:58.326446Z",
     "iopub.status.idle": "2023-09-04T14:23:58.332549Z",
     "shell.execute_reply": "2023-09-04T14:23:58.331052Z"
    },
    "papermill": {
     "duration": 0.061152,
     "end_time": "2023-09-04T14:23:58.335177",
     "exception": false,
     "start_time": "2023-09-04T14:23:58.274025",
     "status": "completed"
    },
    "tags": []
   },
   "outputs": [],
   "source": [
    "# Train the CART model\n",
    "#cart_model.fit(X_train, y_train)"
   ]
  },
  {
   "cell_type": "code",
   "execution_count": 79,
   "id": "0e2b3020",
   "metadata": {
    "execution": {
     "iopub.execute_input": "2023-09-04T14:23:58.441751Z",
     "iopub.status.busy": "2023-09-04T14:23:58.441264Z",
     "iopub.status.idle": "2023-09-04T14:23:58.446817Z",
     "shell.execute_reply": "2023-09-04T14:23:58.445399Z"
    },
    "papermill": {
     "duration": 0.060856,
     "end_time": "2023-09-04T14:23:58.449924",
     "exception": false,
     "start_time": "2023-09-04T14:23:58.389068",
     "status": "completed"
    },
    "tags": []
   },
   "outputs": [],
   "source": [
    "#makePredictions(cart_model)"
   ]
  },
  {
   "cell_type": "code",
   "execution_count": 80,
   "id": "fc210e6c",
   "metadata": {
    "execution": {
     "iopub.execute_input": "2023-09-04T14:23:58.559368Z",
     "iopub.status.busy": "2023-09-04T14:23:58.558921Z",
     "iopub.status.idle": "2023-09-04T14:23:58.563957Z",
     "shell.execute_reply": "2023-09-04T14:23:58.562562Z"
    },
    "papermill": {
     "duration": 0.063252,
     "end_time": "2023-09-04T14:23:58.566993",
     "exception": false,
     "start_time": "2023-09-04T14:23:58.503741",
     "status": "completed"
    },
    "tags": []
   },
   "outputs": [],
   "source": [
    "# Make predictions using the CART model\n",
    "#cart_y_pred = cart_model.predict(X_test)"
   ]
  },
  {
   "cell_type": "code",
   "execution_count": 81,
   "id": "8f42620f",
   "metadata": {
    "execution": {
     "iopub.execute_input": "2023-09-04T14:23:58.672699Z",
     "iopub.status.busy": "2023-09-04T14:23:58.671960Z",
     "iopub.status.idle": "2023-09-04T14:23:58.677485Z",
     "shell.execute_reply": "2023-09-04T14:23:58.676425Z"
    },
    "papermill": {
     "duration": 0.061694,
     "end_time": "2023-09-04T14:23:58.679920",
     "exception": false,
     "start_time": "2023-09-04T14:23:58.618226",
     "status": "completed"
    },
    "tags": []
   },
   "outputs": [],
   "source": [
    "# Evaluate the CART model\n",
    "#cart_accuracy = accuracy_score(y_test, cart_y_pred)\n",
    "#cart_classification_report = classification_report(y_test, cart_y_pred)\n",
    "#print(\"CART Accuracy:\", cart_accuracy)\n",
    "#print(\"CART Classification Report:\")\n",
    "#print(cart_classification_report)"
   ]
  },
  {
   "cell_type": "code",
   "execution_count": 82,
   "id": "8bb90df9",
   "metadata": {
    "execution": {
     "iopub.execute_input": "2023-09-04T14:23:58.789993Z",
     "iopub.status.busy": "2023-09-04T14:23:58.788455Z",
     "iopub.status.idle": "2023-09-04T14:23:58.794901Z",
     "shell.execute_reply": "2023-09-04T14:23:58.793827Z"
    },
    "papermill": {
     "duration": 0.065403,
     "end_time": "2023-09-04T14:23:58.798215",
     "exception": false,
     "start_time": "2023-09-04T14:23:58.732812",
     "status": "completed"
    },
    "tags": []
   },
   "outputs": [],
   "source": [
    "# Create the Bagging model (Random Forest)\n",
    "#bagging_model = RandomForestClassifier(n_estimators=20)"
   ]
  },
  {
   "cell_type": "code",
   "execution_count": 83,
   "id": "aa48ee38",
   "metadata": {
    "execution": {
     "iopub.execute_input": "2023-09-04T14:23:58.911014Z",
     "iopub.status.busy": "2023-09-04T14:23:58.910112Z",
     "iopub.status.idle": "2023-09-04T14:23:58.915760Z",
     "shell.execute_reply": "2023-09-04T14:23:58.914259Z"
    },
    "papermill": {
     "duration": 0.065212,
     "end_time": "2023-09-04T14:23:58.918561",
     "exception": false,
     "start_time": "2023-09-04T14:23:58.853349",
     "status": "completed"
    },
    "tags": []
   },
   "outputs": [],
   "source": [
    "# Train the Bagging model\n",
    "#bagging_model.fit(X_train, y_train)"
   ]
  },
  {
   "cell_type": "code",
   "execution_count": 84,
   "id": "a32a3f37",
   "metadata": {
    "execution": {
     "iopub.execute_input": "2023-09-04T14:23:59.030228Z",
     "iopub.status.busy": "2023-09-04T14:23:59.029419Z",
     "iopub.status.idle": "2023-09-04T14:23:59.034505Z",
     "shell.execute_reply": "2023-09-04T14:23:59.033670Z"
    },
    "papermill": {
     "duration": 0.065622,
     "end_time": "2023-09-04T14:23:59.036903",
     "exception": false,
     "start_time": "2023-09-04T14:23:58.971281",
     "status": "completed"
    },
    "tags": []
   },
   "outputs": [],
   "source": [
    "#makePredictions(bagging_model)"
   ]
  },
  {
   "cell_type": "code",
   "execution_count": 85,
   "id": "dc446e6a",
   "metadata": {
    "execution": {
     "iopub.execute_input": "2023-09-04T14:23:59.144212Z",
     "iopub.status.busy": "2023-09-04T14:23:59.143400Z",
     "iopub.status.idle": "2023-09-04T14:23:59.148774Z",
     "shell.execute_reply": "2023-09-04T14:23:59.147862Z"
    },
    "papermill": {
     "duration": 0.062489,
     "end_time": "2023-09-04T14:23:59.151223",
     "exception": false,
     "start_time": "2023-09-04T14:23:59.088734",
     "status": "completed"
    },
    "tags": []
   },
   "outputs": [],
   "source": [
    "# Evaluate the Bagging model\n",
    "#bagging_accuracy = accuracy_score(y_test, bagging_y_pred)\n",
    "#bagging_classification_report = classification_report(y_test, bagging_y_pred)\n",
    "\n",
    "#print(\"\\nBagging Accuracy:\", bagging_accuracy)\n",
    "#print(\"Bagging Classification Report:\")\n",
    "#print(bagging_classification_report)"
   ]
  },
  {
   "cell_type": "code",
   "execution_count": 86,
   "id": "569b4ce4",
   "metadata": {
    "execution": {
     "iopub.execute_input": "2023-09-04T14:23:59.259644Z",
     "iopub.status.busy": "2023-09-04T14:23:59.258928Z",
     "iopub.status.idle": "2023-09-04T14:23:59.263695Z",
     "shell.execute_reply": "2023-09-04T14:23:59.262859Z"
    },
    "papermill": {
     "duration": 0.06188,
     "end_time": "2023-09-04T14:23:59.266052",
     "exception": false,
     "start_time": "2023-09-04T14:23:59.204172",
     "status": "completed"
    },
    "tags": []
   },
   "outputs": [],
   "source": [
    "#gbc = GradientBoostingClassifier()\n",
    "#gbc.fit(X_train,y_train)\n",
    "#makePredictions(gbc)"
   ]
  },
  {
   "cell_type": "code",
   "execution_count": 87,
   "id": "030f51d8",
   "metadata": {
    "execution": {
     "iopub.execute_input": "2023-09-04T14:23:59.373196Z",
     "iopub.status.busy": "2023-09-04T14:23:59.372412Z",
     "iopub.status.idle": "2023-09-04T14:23:59.377982Z",
     "shell.execute_reply": "2023-09-04T14:23:59.376852Z"
    },
    "papermill": {
     "duration": 0.062013,
     "end_time": "2023-09-04T14:23:59.380337",
     "exception": false,
     "start_time": "2023-09-04T14:23:59.318324",
     "status": "completed"
    },
    "tags": []
   },
   "outputs": [],
   "source": [
    "# Make predictions on the test data\n",
    "#y_pred = gbc.predict(X_test)\n",
    "\n",
    "# Initialize an empty list to store misclassified entry indices\n",
    "#misclassified_indices = []\n",
    "# Iterate through the predictions and true labels to identify misclassified entries\n",
    "#for i in range(len(y_test)):\n",
    "#    if y_pred[i] != y_test[i]:\n",
    "#        misclassified_indices.append(i)\n",
    "        \n",
    "# Limit to the first 10 misclassified entries\n",
    "#first_10_misclassified_indices = misclassified_indices[:10]\n",
    "\n",
    "# Extract the corresponding text entries from your dataset\n",
    "#misclassified_texts = [X[idx] for idx in first_10_misclassified_indices]\n",
    "\n",
    "# Print or analyze the misclassified text entries\n",
    "#for i, text in enumerate(misclassified_texts):\n",
    "    #print(f\"Misclassified Entry {i + 1}:\\n{text}\\n\")"
   ]
  },
  {
   "cell_type": "markdown",
   "id": "ff285c65",
   "metadata": {
    "papermill": {
     "duration": 0.050238,
     "end_time": "2023-09-04T14:23:59.482242",
     "exception": false,
     "start_time": "2023-09-04T14:23:59.432004",
     "status": "completed"
    },
    "tags": []
   },
   "source": [
    "# Hyperparamter Tuning using GridSearchCV"
   ]
  },
  {
   "cell_type": "code",
   "execution_count": 88,
   "id": "9f0f04da",
   "metadata": {
    "execution": {
     "iopub.execute_input": "2023-09-04T14:23:59.587757Z",
     "iopub.status.busy": "2023-09-04T14:23:59.586983Z",
     "iopub.status.idle": "2023-09-04T14:23:59.592699Z",
     "shell.execute_reply": "2023-09-04T14:23:59.591406Z"
    },
    "papermill": {
     "duration": 0.062041,
     "end_time": "2023-09-04T14:23:59.595203",
     "exception": false,
     "start_time": "2023-09-04T14:23:59.533162",
     "status": "completed"
    },
    "tags": []
   },
   "outputs": [],
   "source": [
    "from sklearn.ensemble import GradientBoostingClassifier\n",
    "from sklearn.model_selection import GridSearchCV\n",
    "\n",
    "# Define parameter grid\n",
    "#param_grid = {\n",
    "#    'C': [0.1, 1, 10],\n",
    "#    'penalty': ['l1', 'l2'],\n",
    "#    'loss': ['hinge', 'squared_hinge']\n",
    "#}\n",
    "\n",
    "#Create GBC model\n",
    "#lsvc = LinearSVC()\n",
    "\n",
    "# create GridSearchCV object\n",
    "#grid_search = GridSearchCV(lsvc, param_grid, scoring='accuracy', cv=5)\n",
    "\n",
    "# Fit the grid search to your data\n",
    "#grid_search.fit(X_train,y_train)\n",
    "#lsvc = grid_search.best_estimator_\n",
    "# Print the best hyperparameters and their corresponding score\n",
    "#print(\"Best Hyperparameters:\", grid_search.best_params_)\n",
    "#print(\"Best Score:\", grid_search.best_score_)"
   ]
  },
  {
   "cell_type": "markdown",
   "id": "324ea9d5",
   "metadata": {
    "papermill": {
     "duration": 0.052502,
     "end_time": "2023-09-04T14:23:59.700244",
     "exception": false,
     "start_time": "2023-09-04T14:23:59.647742",
     "status": "completed"
    },
    "tags": []
   },
   "source": [
    "After GridSearch, we obtained the below parameters to perform the best"
   ]
  },
  {
   "cell_type": "code",
   "execution_count": 89,
   "id": "07f37be8",
   "metadata": {
    "execution": {
     "iopub.execute_input": "2023-09-04T14:23:59.808917Z",
     "iopub.status.busy": "2023-09-04T14:23:59.808174Z",
     "iopub.status.idle": "2023-09-04T14:23:59.813213Z",
     "shell.execute_reply": "2023-09-04T14:23:59.812363Z"
    },
    "papermill": {
     "duration": 0.062549,
     "end_time": "2023-09-04T14:23:59.815430",
     "exception": false,
     "start_time": "2023-09-04T14:23:59.752881",
     "status": "completed"
    },
    "tags": []
   },
   "outputs": [],
   "source": [
    "lsvc = LinearSVC(C=10, dual=False, max_iter=2000, penalty='l2')"
   ]
  },
  {
   "cell_type": "code",
   "execution_count": 90,
   "id": "a2a81da5",
   "metadata": {
    "execution": {
     "iopub.execute_input": "2023-09-04T14:23:59.926800Z",
     "iopub.status.busy": "2023-09-04T14:23:59.926053Z",
     "iopub.status.idle": "2023-09-04T14:24:09.870133Z",
     "shell.execute_reply": "2023-09-04T14:24:09.868515Z"
    },
    "papermill": {
     "duration": 10.006838,
     "end_time": "2023-09-04T14:24:09.875148",
     "exception": false,
     "start_time": "2023-09-04T14:23:59.868310",
     "status": "completed"
    },
    "tags": []
   },
   "outputs": [
    {
     "data": {
      "text/html": [
       "<style>#sk-container-id-2 {color: black;background-color: white;}#sk-container-id-2 pre{padding: 0;}#sk-container-id-2 div.sk-toggleable {background-color: white;}#sk-container-id-2 label.sk-toggleable__label {cursor: pointer;display: block;width: 100%;margin-bottom: 0;padding: 0.3em;box-sizing: border-box;text-align: center;}#sk-container-id-2 label.sk-toggleable__label-arrow:before {content: \"▸\";float: left;margin-right: 0.25em;color: #696969;}#sk-container-id-2 label.sk-toggleable__label-arrow:hover:before {color: black;}#sk-container-id-2 div.sk-estimator:hover label.sk-toggleable__label-arrow:before {color: black;}#sk-container-id-2 div.sk-toggleable__content {max-height: 0;max-width: 0;overflow: hidden;text-align: left;background-color: #f0f8ff;}#sk-container-id-2 div.sk-toggleable__content pre {margin: 0.2em;color: black;border-radius: 0.25em;background-color: #f0f8ff;}#sk-container-id-2 input.sk-toggleable__control:checked~div.sk-toggleable__content {max-height: 200px;max-width: 100%;overflow: auto;}#sk-container-id-2 input.sk-toggleable__control:checked~label.sk-toggleable__label-arrow:before {content: \"▾\";}#sk-container-id-2 div.sk-estimator input.sk-toggleable__control:checked~label.sk-toggleable__label {background-color: #d4ebff;}#sk-container-id-2 div.sk-label input.sk-toggleable__control:checked~label.sk-toggleable__label {background-color: #d4ebff;}#sk-container-id-2 input.sk-hidden--visually {border: 0;clip: rect(1px 1px 1px 1px);clip: rect(1px, 1px, 1px, 1px);height: 1px;margin: -1px;overflow: hidden;padding: 0;position: absolute;width: 1px;}#sk-container-id-2 div.sk-estimator {font-family: monospace;background-color: #f0f8ff;border: 1px dotted black;border-radius: 0.25em;box-sizing: border-box;margin-bottom: 0.5em;}#sk-container-id-2 div.sk-estimator:hover {background-color: #d4ebff;}#sk-container-id-2 div.sk-parallel-item::after {content: \"\";width: 100%;border-bottom: 1px solid gray;flex-grow: 1;}#sk-container-id-2 div.sk-label:hover label.sk-toggleable__label {background-color: #d4ebff;}#sk-container-id-2 div.sk-serial::before {content: \"\";position: absolute;border-left: 1px solid gray;box-sizing: border-box;top: 0;bottom: 0;left: 50%;z-index: 0;}#sk-container-id-2 div.sk-serial {display: flex;flex-direction: column;align-items: center;background-color: white;padding-right: 0.2em;padding-left: 0.2em;position: relative;}#sk-container-id-2 div.sk-item {position: relative;z-index: 1;}#sk-container-id-2 div.sk-parallel {display: flex;align-items: stretch;justify-content: center;background-color: white;position: relative;}#sk-container-id-2 div.sk-item::before, #sk-container-id-2 div.sk-parallel-item::before {content: \"\";position: absolute;border-left: 1px solid gray;box-sizing: border-box;top: 0;bottom: 0;left: 50%;z-index: -1;}#sk-container-id-2 div.sk-parallel-item {display: flex;flex-direction: column;z-index: 1;position: relative;background-color: white;}#sk-container-id-2 div.sk-parallel-item:first-child::after {align-self: flex-end;width: 50%;}#sk-container-id-2 div.sk-parallel-item:last-child::after {align-self: flex-start;width: 50%;}#sk-container-id-2 div.sk-parallel-item:only-child::after {width: 0;}#sk-container-id-2 div.sk-dashed-wrapped {border: 1px dashed gray;margin: 0 0.4em 0.5em 0.4em;box-sizing: border-box;padding-bottom: 0.4em;background-color: white;}#sk-container-id-2 div.sk-label label {font-family: monospace;font-weight: bold;display: inline-block;line-height: 1.2em;}#sk-container-id-2 div.sk-label-container {text-align: center;}#sk-container-id-2 div.sk-container {/* jupyter's `normalize.less` sets `[hidden] { display: none; }` but bootstrap.min.css set `[hidden] { display: none !important; }` so we also need the `!important` here to be able to override the default hidden behavior on the sphinx rendered scikit-learn.org. See: https://github.com/scikit-learn/scikit-learn/issues/21755 */display: inline-block !important;position: relative;}#sk-container-id-2 div.sk-text-repr-fallback {display: none;}</style><div id=\"sk-container-id-2\" class=\"sk-top-container\"><div class=\"sk-text-repr-fallback\"><pre>LinearSVC(C=10, dual=False, max_iter=2000)</pre><b>In a Jupyter environment, please rerun this cell to show the HTML representation or trust the notebook. <br />On GitHub, the HTML representation is unable to render, please try loading this page with nbviewer.org.</b></div><div class=\"sk-container\" hidden><div class=\"sk-item\"><div class=\"sk-estimator sk-toggleable\"><input class=\"sk-toggleable__control sk-hidden--visually\" id=\"sk-estimator-id-2\" type=\"checkbox\" checked><label for=\"sk-estimator-id-2\" class=\"sk-toggleable__label sk-toggleable__label-arrow\">LinearSVC</label><div class=\"sk-toggleable__content\"><pre>LinearSVC(C=10, dual=False, max_iter=2000)</pre></div></div></div></div></div>"
      ],
      "text/plain": [
       "LinearSVC(C=10, dual=False, max_iter=2000)"
      ]
     },
     "execution_count": 90,
     "metadata": {},
     "output_type": "execute_result"
    }
   ],
   "source": [
    "#C=1, dual=False, max_iter=1000, penalty='l1', tol=0.0001\n",
    "best_svm_model = lsvc\n",
    "best_svm_model.fit(X_train,y_train)"
   ]
  },
  {
   "cell_type": "code",
   "execution_count": 91,
   "id": "8edb4b90",
   "metadata": {
    "execution": {
     "iopub.execute_input": "2023-09-04T14:24:10.015056Z",
     "iopub.status.busy": "2023-09-04T14:24:10.014638Z",
     "iopub.status.idle": "2023-09-04T14:24:10.988157Z",
     "shell.execute_reply": "2023-09-04T14:24:10.987195Z"
    },
    "papermill": {
     "duration": 1.031637,
     "end_time": "2023-09-04T14:24:10.990891",
     "exception": false,
     "start_time": "2023-09-04T14:24:09.959254",
     "status": "completed"
    },
    "tags": []
   },
   "outputs": [
    {
     "name": "stdout",
     "output_type": "stream",
     "text": [
      "LinearSVC  Train Prediction Score\n",
      "              precision    recall  f1-score   support\n",
      "\n",
      "           0       0.90      0.82      0.86     43197\n",
      "           1       0.91      0.96      0.93     87009\n",
      "\n",
      "    accuracy                           0.91    130206\n",
      "   macro avg       0.91      0.89      0.90    130206\n",
      "weighted avg       0.91      0.91      0.91    130206\n",
      "\n"
     ]
    },
    {
     "data": {
      "image/png": "[encoded data removed]",
      "text/plain": [
       "<Figure size 800x600 with 2 Axes>"
      ]
     },
     "metadata": {},
     "output_type": "display_data"
    },
    {
     "name": "stdout",
     "output_type": "stream",
     "text": [
      "LinearSVC  Test Prediction Score\n",
      "              precision    recall  f1-score   support\n",
      "\n",
      "           0       0.66      0.57      0.61     10800\n",
      "           1       0.80      0.85      0.82     21752\n",
      "\n",
      "    accuracy                           0.76     32552\n",
      "   macro avg       0.73      0.71      0.72     32552\n",
      "weighted avg       0.75      0.76      0.75     32552\n",
      "\n"
     ]
    },
    {
     "data": {
      "image/png": "[encoded data removed]",
      "text/plain": [
       "<Figure size 800x600 with 2 Axes>"
      ]
     },
     "metadata": {},
     "output_type": "display_data"
    }
   ],
   "source": [
    "makePredictions(best_svm_model)"
   ]
  },
  {
   "cell_type": "markdown",
   "id": "355d5d34",
   "metadata": {
    "papermill": {
     "duration": 0.055475,
     "end_time": "2023-09-04T14:24:11.104753",
     "exception": false,
     "start_time": "2023-09-04T14:24:11.049278",
     "status": "completed"
    },
    "tags": []
   },
   "source": [
    "<span style=\"color:\t#5642C5; font-size:30px\">**<u> Final Model's Prediction </u>**</span>"
   ]
  },
  {
   "cell_type": "code",
   "execution_count": 92,
   "id": "87e45f57",
   "metadata": {
    "execution": {
     "iopub.execute_input": "2023-09-04T14:24:11.220770Z",
     "iopub.status.busy": "2023-09-04T14:24:11.219141Z",
     "iopub.status.idle": "2023-09-04T14:24:11.225853Z",
     "shell.execute_reply": "2023-09-04T14:24:11.224803Z"
    },
    "papermill": {
     "duration": 0.067933,
     "end_time": "2023-09-04T14:24:11.228489",
     "exception": false,
     "start_time": "2023-09-04T14:24:11.160556",
     "status": "completed"
    },
    "tags": []
   },
   "outputs": [],
   "source": [
    "best_model = lr"
   ]
  },
  {
   "cell_type": "code",
   "execution_count": 93,
   "id": "387007ae",
   "metadata": {
    "execution": {
     "iopub.execute_input": "2023-09-04T14:24:11.344945Z",
     "iopub.status.busy": "2023-09-04T14:24:11.344182Z",
     "iopub.status.idle": "2023-09-04T14:24:11.377536Z",
     "shell.execute_reply": "2023-09-04T14:24:11.376482Z"
    },
    "papermill": {
     "duration": 0.093454,
     "end_time": "2023-09-04T14:24:11.380468",
     "exception": false,
     "start_time": "2023-09-04T14:24:11.287014",
     "status": "completed"
    },
    "tags": []
   },
   "outputs": [],
   "source": [
    "finpred = best_model.predict(test_p)\n",
    "#finpred = main_pipeline.predict(combined_movies_test['reviewText'])\n",
    "def convert_results(result):\n",
    "    return \"NEGATIVE\" if result == 0 else \"POSITIVE\"\n",
    "\n",
    "#finresult = [convert_results(result) for result in finpred]\n",
    "finresult = [convert_results(result) for result in finpred]"
   ]
  },
  {
   "cell_type": "code",
   "execution_count": 94,
   "id": "1db71efa",
   "metadata": {
    "execution": {
     "iopub.execute_input": "2023-09-04T14:24:11.495023Z",
     "iopub.status.busy": "2023-09-04T14:24:11.494570Z",
     "iopub.status.idle": "2023-09-04T14:24:11.526874Z",
     "shell.execute_reply": "2023-09-04T14:24:11.525407Z"
    },
    "papermill": {
     "duration": 0.093958,
     "end_time": "2023-09-04T14:24:11.529722",
     "exception": false,
     "start_time": "2023-09-04T14:24:11.435764",
     "status": "completed"
    },
    "tags": []
   },
   "outputs": [
    {
     "data": {
      "text/html": [
       "<div>\n",
       "<style scoped>\n",
       "    .dataframe tbody tr th:only-of-type {\n",
       "        vertical-align: middle;\n",
       "    }\n",
       "\n",
       "    .dataframe tbody tr th {\n",
       "        vertical-align: top;\n",
       "    }\n",
       "\n",
       "    .dataframe thead th {\n",
       "        text-align: right;\n",
       "    }\n",
       "</style>\n",
       "<table border=\"1\" class=\"dataframe\">\n",
       "  <thead>\n",
       "    <tr style=\"text-align: right;\">\n",
       "      <th></th>\n",
       "      <th>id</th>\n",
       "      <th>sentiment</th>\n",
       "    </tr>\n",
       "  </thead>\n",
       "  <tbody>\n",
       "    <tr>\n",
       "      <th>0</th>\n",
       "      <td>0</td>\n",
       "      <td>NEGATIVE</td>\n",
       "    </tr>\n",
       "    <tr>\n",
       "      <th>1</th>\n",
       "      <td>1</td>\n",
       "      <td>NEGATIVE</td>\n",
       "    </tr>\n",
       "    <tr>\n",
       "      <th>2</th>\n",
       "      <td>2</td>\n",
       "      <td>NEGATIVE</td>\n",
       "    </tr>\n",
       "    <tr>\n",
       "      <th>3</th>\n",
       "      <td>3</td>\n",
       "      <td>NEGATIVE</td>\n",
       "    </tr>\n",
       "    <tr>\n",
       "      <th>4</th>\n",
       "      <td>4</td>\n",
       "      <td>NEGATIVE</td>\n",
       "    </tr>\n",
       "  </tbody>\n",
       "</table>\n",
       "</div>"
      ],
      "text/plain": [
       "   id sentiment\n",
       "0   0  NEGATIVE\n",
       "1   1  NEGATIVE\n",
       "2   2  NEGATIVE\n",
       "3   3  NEGATIVE\n",
       "4   4  NEGATIVE"
      ]
     },
     "execution_count": 94,
     "metadata": {},
     "output_type": "execute_result"
    }
   ],
   "source": [
    "sample = pd.read_csv(\"/kaggle/input/sentiment-prediction-on-movie-reviews/sample.csv\")\n",
    "sample.head()"
   ]
  },
  {
   "cell_type": "code",
   "execution_count": 95,
   "id": "bac3e48c",
   "metadata": {
    "execution": {
     "iopub.execute_input": "2023-09-04T14:24:11.641915Z",
     "iopub.status.busy": "2023-09-04T14:24:11.641480Z",
     "iopub.status.idle": "2023-09-04T14:24:11.648314Z",
     "shell.execute_reply": "2023-09-04T14:24:11.646962Z"
    },
    "papermill": {
     "duration": 0.065611,
     "end_time": "2023-09-04T14:24:11.651051",
     "exception": false,
     "start_time": "2023-09-04T14:24:11.585440",
     "status": "completed"
    },
    "tags": []
   },
   "outputs": [],
   "source": [
    "sid = sample.id"
   ]
  },
  {
   "cell_type": "code",
   "execution_count": 96,
   "id": "b59ca28d",
   "metadata": {
    "execution": {
     "iopub.execute_input": "2023-09-04T14:24:11.761174Z",
     "iopub.status.busy": "2023-09-04T14:24:11.760652Z",
     "iopub.status.idle": "2023-09-04T14:24:11.933527Z",
     "shell.execute_reply": "2023-09-04T14:24:11.932333Z"
    },
    "papermill": {
     "duration": 0.231283,
     "end_time": "2023-09-04T14:24:11.936262",
     "exception": false,
     "start_time": "2023-09-04T14:24:11.704979",
     "status": "completed"
    },
    "tags": []
   },
   "outputs": [],
   "source": [
    "df = pd.DataFrame({\"id\" : sid,\"sentiment\": finresult})\n",
    "df.to_csv('submission.csv', index =False)"
   ]
  }
 ],
 "kernelspec": {
  "display_name": "Python 3",
  "language": "python",
  "name": "python3"
 },
 "language_info": {
  "codemirror_mode": {
   "name": "ipython",
   "version": 3
  },
  "file_extension": ".py",
  "mimetype": "text/x-python",
  "name": "python",
  "nbconvert_exporter": "python",
  "pygments_lexer": "ipython3",
  "version": "3.6.4"
 },
 "metadata": {
  "kernelspec": {
   "display_name": "Python 3",
   "language": "python",
   "name": "python3"
  },
  "language_info": {
   "codemirror_mode": {
    "name": "ipython",
    "version": 3
   },
   "file_extension": ".py",
   "mimetype": "text/x-python",
   "name": "python",
   "nbconvert_exporter": "python",
   "pygments_lexer": "ipython3",
   "version": "3.10.12"
  },
  "papermill": {
   "default_parameters": {},
   "duration": 116.142175,
   "end_time": "2023-09-04T14:24:13.219924",
   "environment_variables": {},
   "exception": null,
   "input_path": "__notebook__.ipynb",
   "output_path": "__notebook__.ipynb",
   "parameters": {},
   "start_time": "2023-09-04T14:22:17.077749",
   "version": "2.4.0"
  }
 },
 "nbformat": 4,
 "nbformat_minor": 5
}
